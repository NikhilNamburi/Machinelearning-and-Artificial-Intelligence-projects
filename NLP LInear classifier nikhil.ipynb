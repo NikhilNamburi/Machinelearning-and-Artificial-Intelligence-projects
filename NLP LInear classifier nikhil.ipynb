{
  "cells": [
    {
      "cell_type": "markdown",
      "metadata": {
        "id": "r8KttIgWyRlp"
      },
      "source": [
        "First, import some useful packages and set everything up."
      ]
    },
    {
      "cell_type": "code",
      "execution_count": 1,
      "metadata": {
        "colab": {
          "base_uri": "https://localhost:8080/"
        },
        "id": "KmyWsYNIyRlu",
        "outputId": "e0e3cff5-16ea-41d7-810d-e4465f67d211",
        "vscode": {
          "languageId": "python"
        }
      },
      "outputs": [
        {
          "name": "stdout",
          "output_type": "stream",
          "text": [
            "Looking in indexes: https://pypi.org/simple, https://us-python.pkg.dev/colab-wheels/public/simple/\n",
            "Collecting datasets\n",
            "  Downloading datasets-2.9.0-py3-none-any.whl (462 kB)\n",
            "\u001b[2K     \u001b[90m━━━━━━━━━━━━━━━━━━━━━━━━━━━━━━━━━━━━━━━\u001b[0m \u001b[32m462.8/462.8 KB\u001b[0m \u001b[31m6.1 MB/s\u001b[0m eta \u001b[36m0:00:00\u001b[0m\n",
            "\u001b[?25hCollecting xxhash\n",
            "  Downloading xxhash-3.2.0-cp38-cp38-manylinux_2_17_x86_64.manylinux2014_x86_64.whl (213 kB)\n",
            "\u001b[2K     \u001b[90m━━━━━━━━━━━━━━━━━━━━━━━━━━━━━━━━━━━━━━━\u001b[0m \u001b[32m213.0/213.0 KB\u001b[0m \u001b[31m9.4 MB/s\u001b[0m eta \u001b[36m0:00:00\u001b[0m\n",
            "\u001b[?25hRequirement already satisfied: requests>=2.19.0 in /usr/local/lib/python3.8/dist-packages (from datasets) (2.25.1)\n",
            "Requirement already satisfied: tqdm>=4.62.1 in /usr/local/lib/python3.8/dist-packages (from datasets) (4.64.1)\n",
            "Collecting multiprocess\n",
            "  Downloading multiprocess-0.70.14-py38-none-any.whl (132 kB)\n",
            "\u001b[2K     \u001b[90m━━━━━━━━━━━━━━━━━━━━━━━━━━━━━━━━━━━━━━━\u001b[0m \u001b[32m132.0/132.0 KB\u001b[0m \u001b[31m4.0 MB/s\u001b[0m eta \u001b[36m0:00:00\u001b[0m\n",
            "\u001b[?25hRequirement already satisfied: aiohttp in /usr/local/lib/python3.8/dist-packages (from datasets) (3.8.3)\n",
            "Collecting responses<0.19\n",
            "  Downloading responses-0.18.0-py3-none-any.whl (38 kB)\n",
            "Requirement already satisfied: numpy>=1.17 in /usr/local/lib/python3.8/dist-packages (from datasets) (1.21.6)\n",
            "Requirement already satisfied: dill<0.3.7 in /usr/local/lib/python3.8/dist-packages (from datasets) (0.3.6)\n",
            "Requirement already satisfied: pyyaml>=5.1 in /usr/local/lib/python3.8/dist-packages (from datasets) (6.0)\n",
            "Requirement already satisfied: pandas in /usr/local/lib/python3.8/dist-packages (from datasets) (1.3.5)\n",
            "Requirement already satisfied: fsspec[http]>=2021.11.1 in /usr/local/lib/python3.8/dist-packages (from datasets) (2022.11.0)\n",
            "Collecting huggingface-hub<1.0.0,>=0.2.0\n",
            "  Downloading huggingface_hub-0.12.0-py3-none-any.whl (190 kB)\n",
            "\u001b[2K     \u001b[90m━━━━━━━━━━━━━━━━━━━━━━━━━━━━━━━━━━━━━━━\u001b[0m \u001b[32m190.3/190.3 KB\u001b[0m \u001b[31m8.2 MB/s\u001b[0m eta \u001b[36m0:00:00\u001b[0m\n",
            "\u001b[?25hRequirement already satisfied: packaging in /usr/local/lib/python3.8/dist-packages (from datasets) (21.3)\n",
            "Requirement already satisfied: pyarrow>=6.0.0 in /usr/local/lib/python3.8/dist-packages (from datasets) (9.0.0)\n",
            "Requirement already satisfied: attrs>=17.3.0 in /usr/local/lib/python3.8/dist-packages (from aiohttp->datasets) (22.2.0)\n",
            "Requirement already satisfied: charset-normalizer<3.0,>=2.0 in /usr/local/lib/python3.8/dist-packages (from aiohttp->datasets) (2.1.1)\n",
            "Requirement already satisfied: multidict<7.0,>=4.5 in /usr/local/lib/python3.8/dist-packages (from aiohttp->datasets) (6.0.4)\n",
            "Requirement already satisfied: aiosignal>=1.1.2 in /usr/local/lib/python3.8/dist-packages (from aiohttp->datasets) (1.3.1)\n",
            "Requirement already satisfied: frozenlist>=1.1.1 in /usr/local/lib/python3.8/dist-packages (from aiohttp->datasets) (1.3.3)\n",
            "Requirement already satisfied: yarl<2.0,>=1.0 in /usr/local/lib/python3.8/dist-packages (from aiohttp->datasets) (1.8.2)\n",
            "Requirement already satisfied: async-timeout<5.0,>=4.0.0a3 in /usr/local/lib/python3.8/dist-packages (from aiohttp->datasets) (4.0.2)\n",
            "Requirement already satisfied: typing-extensions>=3.7.4.3 in /usr/local/lib/python3.8/dist-packages (from huggingface-hub<1.0.0,>=0.2.0->datasets) (4.4.0)\n",
            "Requirement already satisfied: filelock in /usr/local/lib/python3.8/dist-packages (from huggingface-hub<1.0.0,>=0.2.0->datasets) (3.9.0)\n",
            "Requirement already satisfied: pyparsing!=3.0.5,>=2.0.2 in /usr/local/lib/python3.8/dist-packages (from packaging->datasets) (3.0.9)\n",
            "Requirement already satisfied: urllib3<1.27,>=1.21.1 in /usr/local/lib/python3.8/dist-packages (from requests>=2.19.0->datasets) (1.24.3)\n",
            "Requirement already satisfied: idna<3,>=2.5 in /usr/local/lib/python3.8/dist-packages (from requests>=2.19.0->datasets) (2.10)\n",
            "Requirement already satisfied: chardet<5,>=3.0.2 in /usr/local/lib/python3.8/dist-packages (from requests>=2.19.0->datasets) (4.0.0)\n",
            "Requirement already satisfied: certifi>=2017.4.17 in /usr/local/lib/python3.8/dist-packages (from requests>=2.19.0->datasets) (2022.12.7)\n",
            "Collecting urllib3<1.27,>=1.21.1\n",
            "  Downloading urllib3-1.26.14-py2.py3-none-any.whl (140 kB)\n",
            "\u001b[2K     \u001b[90m━━━━━━━━━━━━━━━━━━━━━━━━━━━━━━━━━━━━━━━\u001b[0m \u001b[32m140.6/140.6 KB\u001b[0m \u001b[31m1.2 MB/s\u001b[0m eta \u001b[36m0:00:00\u001b[0m\n",
            "\u001b[?25hRequirement already satisfied: python-dateutil>=2.7.3 in /usr/local/lib/python3.8/dist-packages (from pandas->datasets) (2.8.2)\n",
            "Requirement already satisfied: pytz>=2017.3 in /usr/local/lib/python3.8/dist-packages (from pandas->datasets) (2022.7)\n",
            "Requirement already satisfied: six>=1.5 in /usr/local/lib/python3.8/dist-packages (from python-dateutil>=2.7.3->pandas->datasets) (1.15.0)\n",
            "Installing collected packages: xxhash, urllib3, multiprocess, responses, huggingface-hub, datasets\n",
            "  Attempting uninstall: urllib3\n",
            "    Found existing installation: urllib3 1.24.3\n",
            "    Uninstalling urllib3-1.24.3:\n",
            "      Successfully uninstalled urllib3-1.24.3\n",
            "Successfully installed datasets-2.9.0 huggingface-hub-0.12.0 multiprocess-0.70.14 responses-0.18.0 urllib3-1.26.14 xxhash-3.2.0\n",
            "Looking in indexes: https://pypi.org/simple, https://us-python.pkg.dev/colab-wheels/public/simple/\n",
            "Collecting transformers\n",
            "  Downloading transformers-4.26.0-py3-none-any.whl (6.3 MB)\n",
            "\u001b[2K     \u001b[90m━━━━━━━━━━━━━━━━━━━━━━━━━━━━━━━━━━━━━━━━\u001b[0m \u001b[32m6.3/6.3 MB\u001b[0m \u001b[31m29.9 MB/s\u001b[0m eta \u001b[36m0:00:00\u001b[0m\n",
            "\u001b[?25hRequirement already satisfied: packaging>=20.0 in /usr/local/lib/python3.8/dist-packages (from transformers) (21.3)\n",
            "Requirement already satisfied: pyyaml>=5.1 in /usr/local/lib/python3.8/dist-packages (from transformers) (6.0)\n",
            "Requirement already satisfied: regex!=2019.12.17 in /usr/local/lib/python3.8/dist-packages (from transformers) (2022.6.2)\n",
            "Requirement already satisfied: requests in /usr/local/lib/python3.8/dist-packages (from transformers) (2.25.1)\n",
            "Collecting tokenizers!=0.11.3,<0.14,>=0.11.1\n",
            "  Downloading tokenizers-0.13.2-cp38-cp38-manylinux_2_17_x86_64.manylinux2014_x86_64.whl (7.6 MB)\n",
            "\u001b[2K     \u001b[90m━━━━━━━━━━━━━━━━━━━━━━━━━━━━━━━━━━━━━━━━\u001b[0m \u001b[32m7.6/7.6 MB\u001b[0m \u001b[31m22.2 MB/s\u001b[0m eta \u001b[36m0:00:00\u001b[0m\n",
            "\u001b[?25hRequirement already satisfied: numpy>=1.17 in /usr/local/lib/python3.8/dist-packages (from transformers) (1.21.6)\n",
            "Requirement already satisfied: huggingface-hub<1.0,>=0.11.0 in /usr/local/lib/python3.8/dist-packages (from transformers) (0.12.0)\n",
            "Requirement already satisfied: filelock in /usr/local/lib/python3.8/dist-packages (from transformers) (3.9.0)\n",
            "Requirement already satisfied: tqdm>=4.27 in /usr/local/lib/python3.8/dist-packages (from transformers) (4.64.1)\n",
            "Requirement already satisfied: typing-extensions>=3.7.4.3 in /usr/local/lib/python3.8/dist-packages (from huggingface-hub<1.0,>=0.11.0->transformers) (4.4.0)\n",
            "Requirement already satisfied: pyparsing!=3.0.5,>=2.0.2 in /usr/local/lib/python3.8/dist-packages (from packaging>=20.0->transformers) (3.0.9)\n",
            "Requirement already satisfied: idna<3,>=2.5 in /usr/local/lib/python3.8/dist-packages (from requests->transformers) (2.10)\n",
            "Requirement already satisfied: urllib3<1.27,>=1.21.1 in /usr/local/lib/python3.8/dist-packages (from requests->transformers) (1.26.14)\n",
            "Requirement already satisfied: certifi>=2017.4.17 in /usr/local/lib/python3.8/dist-packages (from requests->transformers) (2022.12.7)\n",
            "Requirement already satisfied: chardet<5,>=3.0.2 in /usr/local/lib/python3.8/dist-packages (from requests->transformers) (4.0.0)\n",
            "Installing collected packages: tokenizers, transformers\n",
            "Successfully installed tokenizers-0.13.2 transformers-4.26.0\n"
          ]
        }
      ],
      "source": [
        "%matplotlib inline\n",
        "!pip install datasets  # You can install custom packages on Google Colab by !pip install ... \n",
        "!pip install transformers\n",
        "\n",
        "import copy\n",
        "import datasets\n",
        "import itertools\n",
        "import matplotlib.pyplot as plt\n",
        "import nltk\n",
        "import numpy as np\n",
        "import os\n",
        "import pandas\n",
        "import random\n",
        "import seaborn\n",
        "\n",
        "from collections import Counter\n",
        "from transformers import BertTokenizer, RobertaTokenizer\n",
        "\n",
        "# For reproducibility, fix random seeds.\n",
        "random.seed(42)\n",
        "np.random.seed(42)"
      ]
    },
    {
      "cell_type": "markdown",
      "metadata": {
        "id": "mCPJfyz_yRlu"
      },
      "source": [
        "# Data"
      ]
    },
    {
      "cell_type": "markdown",
      "metadata": {
        "id": "4AaCLYv6yRlv"
      },
      "source": [
        "Let's start with loading the [AG News dataset](http://groups.di.unipi.it/~gulli/AG_corpus_of_news_articles.html). A [version of AG](https://huggingface.co/datasets/viewer/?dataset=ag_news) is made easily available by huggingface, so we will use that. Since this dataset comes in only a train-test split, we will create a validation set by setting aside a random subset of the training portion."
      ]
    },
    {
      "cell_type": "code",
      "execution_count": 2,
      "metadata": {
        "colab": {
          "base_uri": "https://localhost:8080/",
          "height": 295,
          "referenced_widgets": [
            "ba40ec689b6c45109929a10957ad33e5",
            "3fbf7458baf746cf823568bce66c9afc",
            "154e8585117a4b4bad440011b1ff0fdc",
            "ff75f4743fd14c31ac27beb23b08f8a5",
            "578cd9254e354bb2ad14f8d1ef80e50d",
            "fb68c19718bd4f39bed6669ebebd6e58",
            "18b08740a64a45d0a97a62da39aefe76",
            "b487cc39142a48619f06d4bcac87f826",
            "50a15adf3d8d45db96db3c1308a8dc56",
            "469fc432e3f84fd580149721b59122fd",
            "8b19fcd811a24eb8af21749343f88657",
            "a825e52eb339446f933bedcca45c4626",
            "ca0b18032d974bb2921f9bf830aaa42b",
            "ee14dc4b0ec24179b6582c6b39442068",
            "a6c8b579a38d445486a7213fbce91c21",
            "3273c0e4ee264c90a0264cab0c10a451",
            "f5c9929596fc4841b97cd86f4c386098",
            "68e6b49b8bbc4538ad6be6b47263fa58",
            "7fdb552573d54bc7900fa5fcc7cddce6",
            "398f9371e9a942f289d54eca173ec135",
            "8e92d48cfc0846e986202fc6289a4d8e",
            "494483d63d394723b0ba5e6789ce691f",
            "063978df6ef24037943051814d233ac0",
            "2f422a1aa8f141bbb5b4acd5bb02e301",
            "cb21e329a934431e884fd180549e1566",
            "f3dc1106922c47459d057771b0e727cf",
            "ca4020ce8d3a4a70a59ef167d33f7661",
            "af448f266ee642d0bb19034f8c621295",
            "8298b101109247f1bb00b5fd6ff824aa",
            "002b76e4f8e647a99308af772413016b",
            "1e47d1cb472d4b9aba6e12d28e857a77",
            "2af27e5ca07744249ffc284ec7bb496e",
            "f474c07af8a44beea592f916ea9b309e",
            "1fdd7fbf1bd34a46953ef380fe405d96",
            "1c406975daa243e99ddc2d296bb2aa63",
            "747f06af51f94d0bb484cd1ae0a273ca",
            "d1f57071c53a4572bdbb14acdf8ef8fa",
            "2d0cff72a5f14978a0011d6fc2802c96",
            "f2e6e0e53ae84c5489071652d0b6dd8b",
            "f980433c49e444f7b45b761f9fe24a11",
            "f8903fa5b31b47f1a078bfe13745512f",
            "f303ba143ea34f11883ef8e8722d9ae4",
            "c5e4ea82d11445c5bb800df29d33d9aa",
            "dbf4d27a083d487b9a498ef783942c0a",
            "fe80688b1cbd47f7adfba0397d49d8fb",
            "6b613749237742d1b41c14e4dcad4f2a",
            "df308aba0cd3441fa5e20fa11552fdfa",
            "f6dedeca904f4d5488e65243d593f6d4",
            "7725bcb49cc5421f815b93fab98ae693",
            "47c3eae4850d48f48f5ef28b254c721c",
            "927c72ce026843c794264c4767cb7672",
            "22c4ed48119e42a2b7ab103c69f18921",
            "9c85259f0a7948a19c03cbb05f5e1232",
            "58efeb571d9e454184cfe899f806f10e",
            "492548d77fc648f4a6ac677bd2c3954a",
            "5286a393977b4a06b161746bb42e59f4",
            "a047ef58d80045388e90bf68e68d4dcc",
            "677f70c3ce0b4b90aeea1e5fa0784a94",
            "c751560d102e49b6a973f4c1da2bdfb1",
            "b4b55690bdf9435fbc6da186dc878073",
            "2524ac23ab094be4ad32640db8086c25",
            "1d91b77b34ff45a3b8817ee7ce2bf2fa",
            "393146373eb846e796c520249ac3481c",
            "47143bc69a4b462db56177ab1b0d6fa4",
            "ae93a34b4bf344d091e2fc88f9996e43",
            "b769750998214814a8cf13b3cb870ac5",
            "f37f2055ad9a44828ad122a8d0846557",
            "23a6413a57b6475e9a7313d8d6b50b06",
            "1cf8c343547549a99f379a8f81ed28d8",
            "8ed1fae6172d43509fe339ccae8e8191",
            "fcb47c94aa1c4c95980a3f71fd98b5c4",
            "9e84b49bbbbd46bbb52da749abbcca28",
            "55e5b7f2b42f4b098d117ef6e3e07b24",
            "c948424374a2453ea5b8ccedfeb19955",
            "528f11f251ad41128476f3ce8470ae1c",
            "c82efa1c5c5e4288a0855446debcc08a",
            "c12c0e4a0bcd42d6816fe24cbbef4d20",
            "6337b644219f48e196741d853ddc42f1",
            "3202edd492894975bd1ed6bf3f8422b4",
            "012851969d1047b4bed29fdc4807502c",
            "86f185c6400f4d678fbde0d8c8d12e04",
            "0b62b6eeab07471ebcb3bf2342a99bf3",
            "be78d6cacf53415480f1ec62f19de7bd",
            "0df31d9b53904ebcbb416f1ad7f5106c",
            "1b961290d58a4c1c951bb6c33710652f",
            "b6e19c2eb49f4bccb65cd74fba173a47",
            "48f3bb87576d461888e2c8321c3de75d",
            "f7e889ca723c49eaa381bf0376ce1212"
          ]
        },
        "id": "SVK4TR51yRlv",
        "outputId": "3ec7ceec-ef7f-49f2-ded3-65f7dc000a92",
        "vscode": {
          "languageId": "python"
        }
      },
      "outputs": [
        {
          "data": {
            "application/vnd.jupyter.widget-view+json": {
              "model_id": "ba40ec689b6c45109929a10957ad33e5",
              "version_major": 2,
              "version_minor": 0
            },
            "text/plain": [
              "Downloading builder script:   0%|          | 0.00/4.06k [00:00<?, ?B/s]"
            ]
          },
          "metadata": {},
          "output_type": "display_data"
        },
        {
          "data": {
            "application/vnd.jupyter.widget-view+json": {
              "model_id": "a825e52eb339446f933bedcca45c4626",
              "version_major": 2,
              "version_minor": 0
            },
            "text/plain": [
              "Downloading metadata:   0%|          | 0.00/2.65k [00:00<?, ?B/s]"
            ]
          },
          "metadata": {},
          "output_type": "display_data"
        },
        {
          "data": {
            "application/vnd.jupyter.widget-view+json": {
              "model_id": "063978df6ef24037943051814d233ac0",
              "version_major": 2,
              "version_minor": 0
            },
            "text/plain": [
              "Downloading readme:   0%|          | 0.00/7.95k [00:00<?, ?B/s]"
            ]
          },
          "metadata": {},
          "output_type": "display_data"
        },
        {
          "name": "stdout",
          "output_type": "stream",
          "text": [
            "Downloading and preparing dataset ag_news/default to /root/.cache/huggingface/datasets/ag_news/default/0.0.0/bc2bcb40336ace1a0374767fc29bb0296cdaf8a6da7298436239c54d79180548...\n"
          ]
        },
        {
          "data": {
            "application/vnd.jupyter.widget-view+json": {
              "model_id": "1fdd7fbf1bd34a46953ef380fe405d96",
              "version_major": 2,
              "version_minor": 0
            },
            "text/plain": [
              "Downloading data:   0%|          | 0.00/11.0M [00:00<?, ?B/s]"
            ]
          },
          "metadata": {},
          "output_type": "display_data"
        },
        {
          "data": {
            "application/vnd.jupyter.widget-view+json": {
              "model_id": "fe80688b1cbd47f7adfba0397d49d8fb",
              "version_major": 2,
              "version_minor": 0
            },
            "text/plain": [
              "Downloading data:   0%|          | 0.00/751k [00:00<?, ?B/s]"
            ]
          },
          "metadata": {},
          "output_type": "display_data"
        },
        {
          "data": {
            "application/vnd.jupyter.widget-view+json": {
              "model_id": "5286a393977b4a06b161746bb42e59f4",
              "version_major": 2,
              "version_minor": 0
            },
            "text/plain": [
              "Generating train split:   0%|          | 0/120000 [00:00<?, ? examples/s]"
            ]
          },
          "metadata": {},
          "output_type": "display_data"
        },
        {
          "data": {
            "application/vnd.jupyter.widget-view+json": {
              "model_id": "f37f2055ad9a44828ad122a8d0846557",
              "version_major": 2,
              "version_minor": 0
            },
            "text/plain": [
              "Generating test split:   0%|          | 0/7600 [00:00<?, ? examples/s]"
            ]
          },
          "metadata": {},
          "output_type": "display_data"
        },
        {
          "name": "stdout",
          "output_type": "stream",
          "text": [
            "Dataset ag_news downloaded and prepared to /root/.cache/huggingface/datasets/ag_news/default/0.0.0/bc2bcb40336ace1a0374767fc29bb0296cdaf8a6da7298436239c54d79180548. Subsequent calls will reuse this data.\n"
          ]
        },
        {
          "data": {
            "application/vnd.jupyter.widget-view+json": {
              "model_id": "6337b644219f48e196741d853ddc42f1",
              "version_major": 2,
              "version_minor": 0
            },
            "text/plain": [
              "  0%|          | 0/2 [00:00<?, ?it/s]"
            ]
          },
          "metadata": {},
          "output_type": "display_data"
        }
      ],
      "source": [
        "dataset = datasets.load_dataset('ag_news')\n",
        "label2str = {0: 'World', 1: 'Sports', 2: 'Business', 3: 'Sci/Tech'}  # Integer-string mapping for labels\n",
        "\n",
        "splitted = dataset['train'].train_test_split(test_size=0.1)  # Shuffles by default before splitting."
      ]
    },
    {
      "cell_type": "markdown",
      "metadata": {
        "id": "qOrP6agmyRlw"
      },
      "source": [
        "Check what the data looks like."
      ]
    },
    {
      "cell_type": "code",
      "execution_count": 4,
      "metadata": {
        "colab": {
          "base_uri": "https://localhost:8080/"
        },
        "id": "2dOPjH5byRlw",
        "outputId": "aeae076e-33b5-4e8d-f174-1c415a501d2e",
        "vscode": {
          "languageId": "python"
        }
      },
      "outputs": [
        {
          "name": "stdout",
          "output_type": "stream",
          "text": [
            "108000 training documents\n",
            "12000 validation documents\n",
            "7600 test documents\n",
            "\n",
            "Labels\n",
            " {0: 'World', 1: 'Sports', 2: 'Business', 3: 'Sci/Tech'}\n",
            "Nov Retail Sales Edge Up as Car Sales Dip  WASHINGTON (Reuters) - U.S. retail sales rose 0.1 percent  in November, the Commerce Department said on Monday in a  stronger-than-expected report that cemented views the Federal  Reserve will raise interest rates again this week.\n",
            "2 Business\n"
          ]
        }
      ],
      "source": [
        "train_docs = splitted['train']['text']\n",
        "train_labels = splitted['train']['label']\n",
        "val_docs = splitted['test']['text']\n",
        "val_labels = splitted['test']['label']\n",
        "test_docs = dataset['test']['text']\n",
        "test_labels = dataset['test']['label']\n",
        "\n",
        "print('{} training documents'.format(len(train_docs)))\n",
        "print('{} validation documents'.format(len(val_docs)))\n",
        "print('{} test documents\\n'.format(len(test_docs)))\n",
        "print('Labels\\n', label2str)\n",
        "print(train_docs[42])  # Show a random example \n",
        "print(train_labels[42], label2str[train_labels[42]]) "
      ]
    },
    {
      "cell_type": "markdown",
      "metadata": {
        "id": "oZRQ9tEIyRlw"
      },
      "source": [
        "Let's define a Tokenizer class to help us tokenize text easily and get n-gram statistics. "
      ]
    },
    {
      "cell_type": "code",
      "execution_count": 5,
      "metadata": {
        "id": "xmgGwDbXyRlx",
        "vscode": {
          "languageId": "python"
        }
      },
      "outputs": [],
      "source": [
        "class Tokenizer:\n",
        "\n",
        "  def __init__(self, tokenize_type='basic', lowercase=False):\n",
        "    self.tokenize_type = tokenize_type\n",
        "    self.lowercase = lowercase\n",
        "\n",
        "    if self.tokenize_type == 'wp':\n",
        "      self.wptok = BertTokenizer.from_pretrained('bert-base-cased')\n",
        "\n",
        "  def tokenize(self, string):\n",
        "    if self.lowercase:\n",
        "      string = string.lower()\n",
        "\n",
        "    if self.tokenize_type == 'basic':\n",
        "      tokens = string.split()\n",
        "    elif self.tokenize_type == 'nltk':\n",
        "      tokens = nltk.tokenize.word_tokenize(string)\n",
        "    elif self.tokenize_type == 'wp':\n",
        "      tokens = self.wptok.tokenize(string)\n",
        "    else:\n",
        "      raise ValueError('Unknown tokenization type.')\n",
        "\n",
        "    return tokens\n",
        "\n",
        "  def count_ngrams(self, toks, n=3):\n",
        "    ngram_counts = [Counter() for _ in range(n)]\n",
        "\n",
        "    for i in range(len(toks)):\n",
        "      for j in range(n):\n",
        "        if i - j >= 0:\n",
        "          ngram = tuple([toks[k] for k in range(i - j, i + 1)])\n",
        "          ngram_counts[j][ngram] += 1\n",
        "\n",
        "    return ngram_counts\n",
        "\n",
        "    \n",
        "def show_ngram_information(ngram_counts, k, quiet=False):\n",
        "  topk_unigrams = ngram_counts[0].most_common(k)\n",
        "  topk_bigrams = ngram_counts[1].most_common(k)\n",
        "  topk_trigrams = ngram_counts[2].most_common(k)\n",
        "\n",
        "  if not quiet:\n",
        "    print('-' * 79)\n",
        "    print('Most frequent n-grams for n=1,2,3')\n",
        "    for i in range(k):\n",
        "      if i < len(ngram_counts[0]):\n",
        "        print('{:10s} {:12d}\\t\\t'.format(' '.join(topk_unigrams[i][0]), topk_unigrams[i][1]), end='')\n",
        "        print('{:20s} {:12d}\\t\\t'.format(' '.join(topk_bigrams[i][0]), topk_bigrams[i][1]), end='')\n",
        "        print('{:22s} {:12d}'.format(' '.join(topk_trigrams[i][0]), topk_trigrams[i][1]))\n",
        "\n",
        "  plt.figure(figsize=(20,5))\n",
        "  labels, y = zip(*ngram_counts[0].most_common(50))\n",
        "  zipf = [y[0]/i for i in range(1, len(y) + 1)]\n",
        "  labels = [label_[0] for label_ in labels]\n",
        "  plt.plot(labels, y, '-r', label='Frequency', linewidth=1)\n",
        "  plt.plot(labels, zipf, '-b', label='Zipf', linewidth=1)\n",
        "  plt.xticks(rotation=90)\n",
        "  plt.legend(loc=\"upper right\")\n",
        "  plt.show() "
      ]
    },
    {
      "cell_type": "markdown",
      "metadata": {
        "id": "a6YRM9pKyRlx"
      },
      "source": [
        "Let's tokenize and check the Zipf's law on a portion of the training data. Feel free to explore different tokenizers, but for later parts we will assume nltk tokenization for better readability."
      ]
    },
    {
      "cell_type": "markdown",
      "metadata": {
        "id": "cFjFvYbR0MyK"
      },
      "source": [
        "We need to download punkt package. Select Download (d) and specify \"punkt\" for Identifier below. \n",
        "```\n",
        "NLTK Downloader\n",
        "---------------------------------------------------------------------------\n",
        "    d) Download   l) List    u) Update   c) Config   h) Help   q) Quit\n",
        "---------------------------------------------------------------------------\n",
        "Downloader> d\n",
        "\n",
        "Download which package (l=list; x=cancel)?\n",
        "  Identifier> punkt\n",
        "    Downloading package punkt to /root/nltk_data...\n",
        "      Unzipping tokenizers/punkt.zip.\n",
        "\n",
        "---------------------------------------------------------------------------\n",
        "    d) Download   l) List    u) Update   c) Config   h) Help   q) Quit\n",
        "---------------------------------------------------------------------------\n",
        "Downloader> q\n",
        "```"
      ]
    },
    {
      "cell_type": "code",
      "execution_count": 7,
      "metadata": {
        "colab": {
          "base_uri": "https://localhost:8080/"
        },
        "id": "atQqx0ynzRf0",
        "outputId": "a236de2e-e7c9-44db-8aed-cb27b91201f7",
        "vscode": {
          "languageId": "python"
        }
      },
      "outputs": [
        {
          "name": "stdout",
          "output_type": "stream",
          "text": [
            "NLTK Downloader\n",
            "---------------------------------------------------------------------------\n",
            "    d) Download   l) List    u) Update   c) Config   h) Help   q) Quit\n",
            "---------------------------------------------------------------------------\n",
            "Downloader> d\n",
            "\n",
            "Download which package (l=list; x=cancel)?\n",
            "  Identifier> punkt\n"
          ]
        },
        {
          "name": "stderr",
          "output_type": "stream",
          "text": [
            "    Downloading package punkt to /root/nltk_data...\n",
            "      Unzipping tokenizers/punkt.zip.\n"
          ]
        },
        {
          "name": "stdout",
          "output_type": "stream",
          "text": [
            "\n",
            "---------------------------------------------------------------------------\n",
            "    d) Download   l) List    u) Update   c) Config   h) Help   q) Quit\n",
            "---------------------------------------------------------------------------\n",
            "Downloader> q\n"
          ]
        },
        {
          "data": {
            "text/plain": [
              "True"
            ]
          },
          "execution_count": 7,
          "metadata": {},
          "output_type": "execute_result"
        }
      ],
      "source": [
        "nltk.download()"
      ]
    },
    {
      "cell_type": "code",
      "execution_count": 8,
      "metadata": {
        "colab": {
          "base_uri": "https://localhost:8080/"
        },
        "id": "E9C0P2DTyRly",
        "outputId": "79be8e5c-e1c8-4aea-b883-a6c5fb32419e",
        "vscode": {
          "languageId": "python"
        }
      },
      "outputs": [
        {
          "name": "stdout",
          "output_type": "stream",
          "text": [
            "108000 tokens in training under tokenizer type nltk\n",
            "95103/1167723/2708527 unique unigram/bigram/trigram types\n"
          ]
        }
      ],
      "source": [
        "tokenize_type='nltk'\n",
        "tokenizer = Tokenizer(tokenize_type=tokenize_type, lowercase=True)\n",
        "\n",
        "train_toks = [tokenizer.tokenize(doc) for doc in train_docs]\n",
        "val_toks = [tokenizer.tokenize(doc) for doc in val_docs]\n",
        "test_toks = [tokenizer.tokenize(doc) for doc in test_docs]\n",
        "\n",
        "train_ngram_counts = tokenizer.count_ngrams(list(itertools.chain(*train_toks)))\n",
        "\n",
        "print('{} tokens in training under tokenizer type {}\\n{}/{}/{} unique unigram/bigram/trigram types'.format(\n",
        "    len(train_toks), tokenize_type, len(train_ngram_counts[0]), len(train_ngram_counts[1]), \n",
        "    len(train_ngram_counts[2])))"
      ]
    },
    {
      "cell_type": "code",
      "execution_count": 9,
      "metadata": {
        "colab": {
          "base_uri": "https://localhost:8080/",
          "height": 505
        },
        "id": "H1uNnEG8cLCk",
        "outputId": "8e273f01-1e26-43a4-cb17-958bb1730ccc",
        "vscode": {
          "languageId": "python"
        }
      },
      "outputs": [
        {
          "name": "stdout",
          "output_type": "stream",
          "text": [
            "-------------------------------------------------------------------------------\n",
            "Most frequent n-grams for n=1,2,3\n",
            "the              183612\t\t# 39                        39831\t\t# 39 ;                        39831\n",
            ",                144983\t\t39 ;                        39831\t\t39 ; s                        28038\n",
            ".                120208\t\t; s                         28167\t\t& gt ;                        11769\n",
            "to               107187\t\tin the                      19187\t\t& lt ;                        11764\n",
            "a                 98957\t\tof the                      18324\t\t( reuters )                   11543\n",
            "of                88202\t\t, the                       12187\t\treuters ) -                    7743\n",
            "in                85923\t\tgt ;                        11817\t\t( ap )                         7443\n",
            ";                 78415\t\tlt ;                        11769\t\tap ) ap                        6921\n",
            "and               62035\t\t& gt                        11769\t\t) ap -                         6921\n",
            "on                50819\t\t& lt                        11764\t\treuters ) reuters              3790\n"
          ]
        },
        {
          "data": {
            "image/png": "[encoded data removed]",
            "text/plain": [
              "<Figure size 1440x360 with 1 Axes>"
            ]
          },
          "metadata": {
            "needs_background": "light"
          },
          "output_type": "display_data"
        }
      ],
      "source": [
        "show_ngram_information(train_ngram_counts, 10)"
      ]
    },
    {
      "cell_type": "markdown",
      "metadata": {
        "id": "DO3SLiRDyRly"
      },
      "source": [
        "Given the choice of tokenization, now is the time to choose *representation*. A common practice in NLP is to use the vocabulary (i.e., unique token/word types) as basic units. For efficiency we will use the top-k most frequent words as our vocab. Then we apply this vocab to all our data."
      ]
    },
    {
      "cell_type": "code",
      "execution_count": 11,
      "metadata": {
        "colab": {
          "base_uri": "https://localhost:8080/"
        },
        "id": "4UgKNTi-yRly",
        "outputId": "d9a09d65-0fbe-4827-fe76-ecaf59591f79",
        "vscode": {
          "languageId": "python"
        }
      },
      "outputs": [
        {
          "name": "stdout",
          "output_type": "stream",
          "text": [
            "{0, 1, 3457, 3, 4, 5, 6, 3458, 8, 2, 13, 14, 15, 530, 2963, 155, 2973, 32, 37, 294, 4017, 54, 321, 451, 839, 78, 224, 993, 870, 372, 2678, 631}\n"
          ]
        }
      ],
      "source": [
        "vocab_size = 5000 \n",
        "vocab = [tup[0] for tup, _ in train_ngram_counts[0].most_common(vocab_size)]\n",
        "\n",
        "#  vocab[i] can be accessed efficiently (it's a list), but we need a dictionary to map token to index efficiently.\n",
        "w2i = {}\n",
        "for i, word in enumerate(vocab):\n",
        "  w2i[word] = i\n",
        "\n",
        "# Threshold, then \"bag\" words (aka. bag-of-words representation).\n",
        "train_inds = [set([w2i[tok] for tok in toks if tok in w2i]) for toks in train_toks]\n",
        "val_inds = [set([w2i[tok] for tok in toks if tok in w2i]) for toks in val_toks]\n",
        "test_inds = [set([w2i[tok] for tok in toks if tok in w2i]) for toks in test_toks]\n",
        "\n",
        "print(train_inds[0])  # Now each document is a non-linguistic set of integers in {0...vocab_size-1}."
      ]
    },
    {
      "cell_type": "markdown",
      "metadata": {
        "id": "_xIqkdcKyRlz"
      },
      "source": [
        "Finally, we will pack data into matrix/vector form. This is important for computational efficiency (to avoid for loops)."
      ]
    },
    {
      "cell_type": "code",
      "execution_count": 12,
      "metadata": {
        "colab": {
          "base_uri": "https://localhost:8080/"
        },
        "id": "RoBEZs2CyRlz",
        "outputId": "52cdff8a-480b-47c1-833f-cdca9376cffc",
        "vscode": {
          "languageId": "python"
        }
      },
      "outputs": [
        {
          "name": "stdout",
          "output_type": "stream",
          "text": [
            "X_train: (108000, 5000)\n",
            "X_val: (12000, 5000)\n",
            "X_test: (7600, 5000)\n"
          ]
        }
      ],
      "source": [
        "def get_matrix_form(docs, labels):\n",
        "  assert len(docs) == len(labels)\n",
        "  X = np.zeros((len(docs), vocab_size))\n",
        "  y = np.zeros((len(docs), 1)).astype(int)\n",
        "  for i, doc in enumerate(docs):\n",
        "    for ind in doc:\n",
        "      X[i, ind] = 1\n",
        "    y[i] = labels[i]\n",
        "  return X, y\n",
        "\n",
        "X_train, y_train = get_matrix_form(train_inds, train_labels)\n",
        "X_val, y_val = get_matrix_form(val_inds, val_labels)\n",
        "X_test, y_test = get_matrix_form(test_inds, test_labels)\n",
        "\n",
        "print('X_train: {}'.format(X_train.shape))\n",
        "print('X_val: {}'.format(X_val.shape))\n",
        "print('X_test: {}'.format(X_test.shape))"
      ]
    },
    {
      "cell_type": "markdown",
      "metadata": {
        "id": "IoWte0PUyRlz"
      },
      "source": [
        "Now we're ready to train a classifier! A couple of remarks before we proceed. \n",
        "\n",
        "First, note that the binary vector representation of documents is very sparse and can be much more efficiently stored and worked with as dictionaries. For a long time NLP has worked with such sparse representations and there was a heavy emphasis on the use of hash tables. But as we will soon see, this is no longer the case, so we'll not bother and work directly with matrices even though they're memory-inefficient for such sparse representations.\n",
        "\n",
        "Second, we stored *all* training data as a single matrix. This is not feasible if the data is large (e.g., the internet). If the data is large, we would load from a file corresponding to a portion of data one at a time as we plow through data during training. "
      ]
    },
    {
      "cell_type": "code",
      "execution_count": null,
      "metadata": {
        "id": "D79hiFVO8DPd",
        "vscode": {
          "languageId": "python"
        }
      },
      "outputs": [],
      "source": []
    },
    {
      "cell_type": "markdown",
      "metadata": {
        "id": "gk4HacmoyRl0"
      },
      "source": [
        "\n",
        "\n",
        "```\n",
        "# This is formatted as code\n",
        "```\n",
        "\n",
        "Define a row-wise softmax that turns any rows of label scores (aka. \"logits\") into probability distributions over labels, with a numerical stability trick."
      ]
    },
    {
      "cell_type": "code",
      "execution_count": 13,
      "metadata": {
        "id": "fjc6yNI1yRl0",
        "vscode": {
          "languageId": "python"
        }
      },
      "outputs": [],
      "source": [
        "def softmax(scores):\n",
        "  nonnegs = np.exp(scores - np.amax(scores, axis=1)[:, np.newaxis])\n",
        "  return nonnegs / np.sum(nonnegs, axis=1)[:, np.newaxis]"
      ]
    },
    {
      "cell_type": "markdown",
      "metadata": {
        "id": "NqKR8bnCyRl0"
      },
      "source": [
        "Define a row-wise logsumexp that computes the log of the sum of the elements of each row, with a numerical stability trick."
      ]
    },
    {
      "cell_type": "code",
      "execution_count": 14,
      "metadata": {
        "id": "f4Ar9vQnyRl0",
        "vscode": {
          "languageId": "python"
        }
      },
      "outputs": [],
      "source": [
        "def logsumexp(scores):\n",
        "  rowwise_max = np.amax(scores, axis=1)[:, np.newaxis] \n",
        "  return rowwise_max + np.log(np.sum(np.exp(scores - rowwise_max), axis=1)[:, np.newaxis])"
      ]
    },
    {
      "cell_type": "markdown",
      "metadata": {
        "id": "lPSlsnbgyRl1"
      },
      "source": [
        "We will learn a simple linear classifier. It will have two key functions:\n",
        "\n",
        "- `forward`: Given $N$ documents it computes scores/logits for all $K=4$ labels, which you can represent as an $N \\times K$ matrix. This is all you need to make inference (you just pick argmax), but if it's additionally given gold labels it will also compute the *sum* of per-example cross-entropy losses, \n",
        "$$\n",
        "- \\sum_{i=1}^N \\log \\frac{\\exp(w_{y_i}^\\top x_i)}{\\sum_{y=1}^K \\exp(w_y^\\top x_i)}\n",
        "$$\n",
        "which will only be used for monitoring purposes later. More importantly, it will call the next function to calculate gradients.\n",
        "\n",
        "- `accumulate_gradients`: Given $N$ documents and gold labels and model scores, it computes the gradients of the *average* cross-entropy loss, \n",
        "$$ \n",
        "\\hat{J}(W, b) = - \\frac{1}{N} \\sum_{i=1}^N \\log \\frac{\\exp(w_{y_i}^\\top x_i)}{\\sum_{y=1}^K \\exp(w_y^\\top x_i)}\n",
        "$$\n",
        "with respect to variables $W, b$ evaluated at the *current* values of $W, b$, then accumulates them for gradient-based optimization later."
      ]
    },
    {
      "cell_type": "code",
      "execution_count": 16,
      "metadata": {
        "id": "HJm6_WH7yRl1",
        "vscode": {
          "languageId": "python"
        }
      },
      "outputs": [],
      "source": [
        "class LinearClassifier:\n",
        "    \n",
        "  def __init__(self, dim, num_labels, init_range=0.1):\n",
        "    self.W = np.random.uniform(-init_range, init_range, (dim, num_labels))\n",
        "    self.b = np.zeros((1, num_labels))\n",
        "    \n",
        "    self.W_grad = np.zeros((dim, num_labels))\n",
        "    self.b_grad = np.zeros((1, num_labels))\n",
        "                      \n",
        "  def forward(self, X, y=None):\n",
        "    batch_size = X.shape[0]\n",
        "    scores = np.matmul(X, self.W) + np.tile(self.b, (batch_size, 1))  # (batch_size, num_labels)        \n",
        "    loss_sum = None\n",
        "    if y is not None:  # We're given gold labels, we're training.\n",
        "      loss_sum = np.sum(logsumexp(scores) - np.take_along_axis(scores, y, axis=1))\n",
        "      self.accumulate_gradients(X, y, scores)\n",
        "\n",
        "    return loss_sum, scores\n",
        "  \n",
        "  def accumulate_gradients(self, X, y, scores):\n",
        "    batch_size = X.shape[0]\n",
        "    num_labels = scores.shape[1]        \n",
        "    probs = softmax(scores)        \n",
        "    golds = np.zeros((batch_size, num_labels))\n",
        "    golds[np.arange(batch_size), y[:,0]] = 1\n",
        "    diffs = probs - golds \n",
        "    \n",
        "    self.W_grad += (1/batch_size)*np.matmul(np.transpose(X),diffs)  # TODO: Implement\n",
        "    self.b_grad += (1/batch_size)*np.sum(np.transpose(diffs),axis = 1)  # TODO: Implement\n",
        "      \n",
        "  def zero_grad(self):\n",
        "    self.W_grad.fill(0.)\n",
        "    self.b_grad.fill(0.)\n",
        "      \n",
        "  def num_parameters(self):\n",
        "    return self.W.size + self.b.size"
      ]
    },
    {
      "cell_type": "markdown",
      "metadata": {
        "id": "qyLQvx2dyRl1"
      },
      "source": [
        "One useful way to ensure that your gradient computation is absolutely correct is to do what's called the **gradient check**. The derivative of a function $f$ of some scalar variable $x \\in \\mathbb{R}$ evaluated at $x = a$ is:\n",
        "\n",
        "$$\n",
        "f'(a) = \\lim_{\\epsilon \\rightarrow 0} \\frac{f(x + \\epsilon) - f(x - \\epsilon)}{2\\epsilon}\n",
        "$$\n",
        "\n",
        "(Aside: This two-sided formulation is much more accurate than the one-sided formulation $f'(a) = \\lim_{\\epsilon \\rightarrow 0} \\frac{f(x + \\epsilon) - f(x)}{\\epsilon}$, see [this note](https://cs231n.github.io/neural-networks-3/#gradcheck).)\n",
        "Thus we can set some small $\\epsilon > 0$ and check if this is indeed the case for our gradients. Remember, in our case the function of interest is the *average cross entropy loss* defined on a single batch of labeled examples. We are calculating the gradient of that function with respect to model parameters $W, b$. Even though these are matrix-/vector-valued, a gradient is simply an array of partial derivatives so we can check each derivative individually. "
      ]
    },
    {
      "cell_type": "code",
      "execution_count": 17,
      "metadata": {
        "colab": {
          "base_uri": "https://localhost:8080/"
        },
        "id": "XuMjvK1ByRl2",
        "outputId": "dcb532b8-26f1-4584-d15c-248c39102adc",
        "vscode": {
          "languageId": "python"
        }
      },
      "outputs": [
        {
          "name": "stderr",
          "output_type": "stream",
          "text": [
            "test_gradient_W (__main__.TestGradient) ... ok\n",
            "test_gradient_b (__main__.TestGradient) ... ok\n",
            "\n",
            "----------------------------------------------------------------------\n",
            "Ran 2 tests in 0.118s\n",
            "\n",
            "OK\n"
          ]
        },
        {
          "data": {
            "text/plain": [
              "<unittest.main.TestProgram at 0x7faea4d20c10>"
            ]
          },
          "execution_count": 17,
          "metadata": {},
          "output_type": "execute_result"
        }
      ],
      "source": [
        "import unittest\n",
        "import copy\n",
        "\n",
        "class TestGradient(unittest.TestCase):\n",
        "\n",
        "  def setUp(self):\n",
        "    np.random.seed(42)    \n",
        "    vocab_size = 100\n",
        "    num_labels = 4\n",
        "    num_examples = 20\n",
        "    self.epsilon = 1e-4\n",
        "    self.error_tolerance = 1e-6\n",
        "\n",
        "    # Randomly initialized model\n",
        "    self.model = LinearClassifier(vocab_size, num_labels)\n",
        "\n",
        "    # Random inputs and labels\n",
        "    self.X = np.random.randn(num_examples, vocab_size)\n",
        "    self.y = np.random.randint(num_labels, size=(num_examples, 1))\n",
        "\n",
        "    # Save the gradients from the model.\n",
        "    self.model.forward(self.X, self.y)  # This triggers accumulate_gradients \n",
        "    self.W_grad = copy.deepcopy(self.model.W_grad)\n",
        "    self.b_grad = copy.deepcopy(self.model.b_grad)\n",
        "      \n",
        "  def test_gradient_W(self):\n",
        "    for i in range(self.model.W.shape[0]):\n",
        "      for j in range(self.model.W.shape[1]): \n",
        "        # f(x + epsilon)\n",
        "        self.model.W[i, j] += self.epsilon\n",
        "        loss_avg_perturbed1 = self.model.forward(self.X, self.y)[0] / self.X.shape[0]\n",
        "\n",
        "        # f(x - epsilon)\n",
        "        self.model.W[i, j] -= 2 * self.epsilon\n",
        "        loss_avg_perturbed2 = self.model.forward(self.X, self.y)[0] / self.X.shape[0]\n",
        "\n",
        "        # Numerical approximation of the partial derivative \n",
        "        truth = (loss_avg_perturbed1 - loss_avg_perturbed2) / (2 * self.epsilon)\n",
        "\n",
        "        # Compute the relative error\n",
        "        error = abs(self.W_grad[i, j] - truth) / max(abs(self.W_grad[i, j]), abs(truth))\n",
        "\n",
        "        self.assertLess(error, self.error_tolerance)\n",
        "\n",
        "        # Restore the original parameter value\n",
        "        self.model.W[i, j] += self.epsilon\n",
        "\n",
        "  def test_gradient_b(self):\n",
        "    for i in range(self.model.b.shape[1]):\n",
        "      # f(x + epsilon)\n",
        "      self.model.b[0, i] += self.epsilon\n",
        "      loss_avg_perturbed1 = self.model.forward(self.X, self.y)[0] / self.X.shape[0]\n",
        "\n",
        "      # f(x - epsilon)\n",
        "      self.model.b[0, i] -= 2 * self.epsilon\n",
        "      loss_avg_perturbed2 = self.model.forward(self.X, self.y)[0] / self.X.shape[0]\n",
        "\n",
        "      # Numerical approximation of the partial derivative \n",
        "      truth = (loss_avg_perturbed1 - loss_avg_perturbed2) / (2 * self.epsilon)\n",
        "\n",
        "      # Compute the relative error\n",
        "      error = abs(self.b_grad[0, i] - truth) / max(abs(self.b_grad[0, i]), abs(truth))\n",
        "\n",
        "      self.assertLess(error, self.error_tolerance)\n",
        "\n",
        "      # Restore the original parameter value\n",
        "      self.model.b[0, i] += self.epsilon\n",
        "\n",
        "\n",
        "unittest.main(TestGradient(), argv=[''], verbosity=2, exit=False)"
      ]
    },
    {
      "cell_type": "markdown",
      "metadata": {
        "id": "OBRYaPO9yRl2"
      },
      "source": [
        "# Training"
      ]
    },
    {
      "cell_type": "markdown",
      "metadata": {
        "id": "D4qRh7P5yRl2"
      },
      "source": [
        "We will use stochastic gradient descent (SGD) to optimize the average cross-entropy loss above. Define a simple SGD optimizer class, which updates parameters of the associated model."
      ]
    },
    {
      "cell_type": "code",
      "execution_count": 18,
      "metadata": {
        "id": "M9l9DJ_QyRl2",
        "vscode": {
          "languageId": "python"
        }
      },
      "outputs": [],
      "source": [
        "class SGDOptimizer:\n",
        "    \n",
        "  def __init__(self, model, learning_rate):\n",
        "    self.model = model\n",
        "    self.lr = learning_rate\n",
        "      \n",
        "  def step(self):\n",
        "    self.model.W -= self.lr * self.model.W_grad\n",
        "    self.model.b -= self.lr * self.model.b_grad\n",
        "    pass \n",
        "      \n",
        "  def zero_grad(self):\n",
        "    self.model.zero_grad()\n",
        "      \n",
        "  def modify_lr(self, learning_rate):\n",
        "    self.lr = learning_rate    "
      ]
    },
    {
      "cell_type": "code",
      "execution_count": 19,
      "metadata": {
        "id": "jccBKKjqyRl3",
        "vscode": {
          "languageId": "python"
        }
      },
      "outputs": [],
      "source": [
        "def evaluate_accuracy(model, X, y, batch_size_eval=64):\n",
        "  num_correct = 0\n",
        "  for i in range(0, X.shape[0], batch_size_eval):\n",
        "    _, scores = model.forward(X[i: i + batch_size_eval])\n",
        "    preds = np.argmax(scores, axis=1)[:, np.newaxis]\n",
        "    num_correct += np.sum(preds == y[i: i + batch_size_eval])\n",
        "  return num_correct / X.shape[0] * 100."
      ]
    },
    {
      "cell_type": "code",
      "execution_count": 20,
      "metadata": {
        "id": "6RHHDmWDyRl3",
        "vscode": {
          "languageId": "python"
        }
      },
      "outputs": [],
      "source": [
        "def train(batch_size, learning_rate, max_num_epochs=30, early_stopping=True, verbose=True):\n",
        "  model = LinearClassifier(vocab_size, len(label2str))\n",
        "  optimizer = SGDOptimizer(model, learning_rate)\n",
        "  \n",
        "  best_acc_val = float('-inf')\n",
        "  best_W = None\n",
        "  best_b = None\n",
        "  num_continuous_fails = 0\n",
        "  tolerance = 5\n",
        "  \n",
        "  losses_avg = []\n",
        "  accs_train = []\n",
        "  accs_val = []\n",
        "\n",
        "  if verbose:\n",
        "    print('Num parameters {:d}'.format(model.num_parameters()))\n",
        "    print('Batch size {:d}, learning rate {:.5f}'.format(batch_size, learning_rate))\n",
        "      \n",
        "  for epoch in range(max_num_epochs):\n",
        "    inds = list(range(X_train.shape[0]))  # Shuffle training data\n",
        "    random.shuffle(inds)    \n",
        "    loss_total = 0.\n",
        "    num_correct = 0    \n",
        "\n",
        "    for i in range(0, len(inds), batch_size):\n",
        "      inds_batch = inds[i: i + batch_size]\n",
        "      loss_sum, scores = model.forward(X_train[inds_batch, :], y_train[inds_batch, :])  # This triggers accumulate_gradients\n",
        "      loss_total += loss_sum\n",
        "      preds = np.argmax(scores, axis=1)[:, np.newaxis]\n",
        "      num_correct += np.sum(preds == y_train[inds_batch, :])\n",
        "\n",
        "      optimizer.step()\n",
        "      optimizer.zero_grad()  # Must clear the gradients\n",
        "\n",
        "    loss_avg = loss_total / len(inds)\n",
        "    acc_train = num_correct / len(inds) * 100.      \n",
        "    acc_val = evaluate_accuracy(model, X_val, y_val)   \n",
        "    \n",
        "    losses_avg.append(loss_avg)\n",
        "    accs_train.append(acc_train)\n",
        "    accs_val.append(acc_val)\n",
        "    \n",
        "    if acc_val > best_acc_val:\n",
        "      num_continuous_fails = 0\n",
        "      best_acc_val = acc_val\n",
        "      best_W = copy.deepcopy(model.W)\n",
        "      best_b = copy.deepcopy(model.b)\n",
        "    else:\n",
        "      num_continuous_fails += 1\n",
        "      if early_stopping and num_continuous_fails > tolerance:\n",
        "        if verbose: \n",
        "          print('Early stopping')\n",
        "        break\n",
        "\n",
        "    if verbose:\n",
        "      print('End of epoch {:3d}:\\t loss avg {:10.4f}\\t acc train {:10.2f}\\t acc val {:10.2f}'.format(\n",
        "          epoch + 1, loss_avg, acc_train, acc_val))\n",
        "\n",
        "  if verbose:\n",
        "    print('Best acc val: {:10.2f}'.format(best_acc_val))\n",
        "  model.W = best_W\n",
        "  model.b = best_b         \n",
        "  return model, best_acc_val, losses_avg, accs_train, accs_val"
      ]
    },
    {
      "cell_type": "code",
      "execution_count": 21,
      "metadata": {
        "colab": {
          "base_uri": "https://localhost:8080/"
        },
        "id": "_s-rduVbyRl3",
        "outputId": "bf2aecb6-cd33-4df6-8c3a-e2c8efb40c70",
        "vscode": {
          "languageId": "python"
        }
      },
      "outputs": [
        {
          "name": "stdout",
          "output_type": "stream",
          "text": [
            "Num parameters 20004\n",
            "Batch size 256, learning rate 5.00000\n",
            "End of epoch   1:\t loss avg     0.7136\t acc train      81.51\t acc val      86.46\n",
            "End of epoch   2:\t loss avg     0.3482\t acc train      88.61\t acc val      89.89\n",
            "End of epoch   3:\t loss avg     0.3035\t acc train      89.86\t acc val      89.05\n",
            "End of epoch   4:\t loss avg     0.2818\t acc train      90.45\t acc val      87.08\n",
            "End of epoch   5:\t loss avg     0.2720\t acc train      90.83\t acc val      89.61\n",
            "End of epoch   6:\t loss avg     0.2616\t acc train      91.09\t acc val      90.12\n",
            "End of epoch   7:\t loss avg     0.2562\t acc train      91.28\t acc val      88.99\n",
            "End of epoch   8:\t loss avg     0.2478\t acc train      91.52\t acc val      90.10\n",
            "End of epoch   9:\t loss avg     0.2470\t acc train      91.53\t acc val      90.00\n",
            "End of epoch  10:\t loss avg     0.2435\t acc train      91.50\t acc val      89.18\n",
            "End of epoch  11:\t loss avg     0.2361\t acc train      91.82\t acc val      89.04\n",
            "End of epoch  12:\t loss avg     0.2369\t acc train      91.74\t acc val      89.10\n",
            "End of epoch  13:\t loss avg     0.2364\t acc train      91.79\t acc val      89.42\n",
            "End of epoch  14:\t loss avg     0.2326\t acc train      91.94\t acc val      89.88\n",
            "End of epoch  15:\t loss avg     0.2277\t acc train      92.01\t acc val      89.98\n",
            "End of epoch  16:\t loss avg     0.2292\t acc train      91.99\t acc val      89.71\n",
            "End of epoch  17:\t loss avg     0.2244\t acc train      92.15\t acc val      89.26\n",
            "End of epoch  18:\t loss avg     0.2223\t acc train      92.21\t acc val      89.83\n",
            "End of epoch  19:\t loss avg     0.2239\t acc train      92.16\t acc val      89.82\n",
            "End of epoch  20:\t loss avg     0.2216\t acc train      92.29\t acc val      89.91\n",
            "Best acc val:      90.12\n"
          ]
        }
      ],
      "source": [
        "model, _, losses_avg, accs_train, accs_val = train(256, 5, max_num_epochs=20, early_stopping=False)"
      ]
    },
    {
      "cell_type": "markdown",
      "metadata": {
        "id": "ctgzGZsHyRl3"
      },
      "source": [
        "The training loss on average should decrease since that's what we're optimizing. "
      ]
    },
    {
      "cell_type": "code",
      "execution_count": 22,
      "metadata": {
        "colab": {
          "base_uri": "https://localhost:8080/",
          "height": 320
        },
        "id": "ReY3ZGifyRl3",
        "outputId": "f8c4aa1a-cf3c-479a-99a4-ea4ae6c3883b",
        "vscode": {
          "languageId": "python"
        }
      },
      "outputs": [
        {
          "data": {
            "image/png": "[encoded data removed]",
            "text/plain": [
              "<Figure size 720x360 with 1 Axes>"
            ]
          },
          "metadata": {
            "needs_background": "light"
          },
          "output_type": "display_data"
        }
      ],
      "source": [
        "plt.figure(figsize=(10,5))\n",
        "labels = [str(epoch + 1) for epoch in range(len(losses_avg))]\n",
        "plt.plot(labels, losses_avg, '-b', label='average training loss', linewidth=1)\n",
        "plt.legend(loc=\"upper right\")\n",
        "plt.show()"
      ]
    },
    {
      "cell_type": "markdown",
      "metadata": {
        "id": "K8TYmqFTyRl3"
      },
      "source": [
        "What about the actual model performance (i.e., accuracy for classification)? Well, the training accuracy should likewise mostly always increase assuming that the training loss is correlated with classification performance. However, the *validation* accuracy will plateau or even decrease. This is because the model is [overfitting](https://en.wikipedia.org/wiki/Overfitting) the finite training data and memorizing useless patterns that do not generalize. "
      ]
    },
    {
      "cell_type": "code",
      "execution_count": 23,
      "metadata": {
        "colab": {
          "base_uri": "https://localhost:8080/",
          "height": 320
        },
        "id": "Ht2pN29syRl4",
        "outputId": "33693306-c4f7-446d-d918-03bb8c5af7f1",
        "vscode": {
          "languageId": "python"
        }
      },
      "outputs": [
        {
          "data": {
            "image/png": "[encoded data removed]",
            "text/plain": [
              "<Figure size 720x360 with 1 Axes>"
            ]
          },
          "metadata": {
            "needs_background": "light"
          },
          "output_type": "display_data"
        }
      ],
      "source": [
        "plt.figure(figsize=(10,5))\n",
        "plt.plot(labels, accs_train, '-b', label='training accuracy', linewidth=1)\n",
        "plt.plot(labels, accs_val, '-r', label='validation accuracy', linewidth=1)\n",
        "plt.legend(loc=\"upper right\")\n",
        "plt.show()"
      ]
    },
    {
      "cell_type": "markdown",
      "metadata": {
        "id": "C_CVsvdKyRl4"
      },
      "source": [
        "Overfitting is a huge issue in machine learning. Strategies to prevent overfitting and improve generalization are called **regularization** methods. The full coverage of the deep connections between various regularization methods and a model's generalization capabilities is beyond the scope of this course. In practice, we often use a combination of different methods like \n",
        "\n",
        "- **Early stopping**: Monitor validation performance and stop training if it doesn't improve for a certain number of epochs. This is the only explicit regularization we do in this assignment. \n",
        "- **Weight penalty**: Instead of minimizing just $J(W, b)$, we minimize $J(W, b) + (\\lambda/2) (\\|W\\|^2 + \\|b\\|^2)$ where $\\lambda \\geq 0$ controls the strength of regularization. There is hardly any change except that the gradient update becomes $W \\gets W - \\eta \\nabla_W J(W, b) - \\eta\\lambda W$ (similarly for $b$), where you can see that we're \"shrinking\" the parameter size. \n",
        "- **More training data**: This is obviously the best way to regularize (i.e., improve generalization), if you can afford to annotate more data. \n",
        "- Other regularization techniques will be discussed later in the course (e.g., dropout)."
      ]
    },
    {
      "cell_type": "markdown",
      "metadata": {
        "id": "lIf33c4EyRl4"
      },
      "source": [
        "# Hyperparameter Tuning"
      ]
    },
    {
      "cell_type": "markdown",
      "metadata": {
        "id": "ubD84XKWyRl4"
      },
      "source": [
        "Experiments usually involve heavy hyperparameter tuning. This means you try a few different values of key hyperparameters to find one that works best (on validation data). For stochastic gradient descent, two important hyperparameters are the *batch size* and the *learning rate*. These two interact, so you have to search over their joint space. Typically you change them on a logarithmic scale (e.g., 0.0001, 0.001, 0.01, 0.1 for learning rates, 16, 32, 64, 128, 256 for batch sizes). \n",
        "\n",
        "While we don't do this here, it is often more effective to do *random* search. For a certain number of trials, you'd draw a float $p$ from the uniform distribution over $[1,5]$ and set the learning rate to be $1\\mathrm{e}{-p}$, similarly for batch size. This is particularly useful if the joint space of hyperparameters to tune is too large to search exhaustively. \n",
        "\n",
        "The code below will take some time to run since we're performing *full training* for every pair (batch_size, learning_rate)."
      ]
    },
    {
      "cell_type": "code",
      "execution_count": 24,
      "metadata": {
        "colab": {
          "base_uri": "https://localhost:8080/"
        },
        "id": "Nq0kR-GgyRl5",
        "outputId": "a7be294b-dc17-47a3-df0e-8c594f40c034",
        "vscode": {
          "languageId": "python"
        }
      },
      "outputs": [
        {
          "name": "stdout",
          "output_type": "stream",
          "text": [
            "Batch size 128\t learning rate   10.00000\t acc val      89.15\n",
            "Batch size 128\t learning rate    1.00000\t acc val      90.33\n",
            "Batch size 128\t learning rate    0.10000\t acc val      89.88\n",
            "Batch size 256\t learning rate   10.00000\t acc val      89.57\n",
            "Batch size 256\t learning rate    1.00000\t acc val      90.25\n",
            "Batch size 256\t learning rate    0.10000\t acc val      89.22\n",
            "Batch size 512\t learning rate   10.00000\t acc val      90.05\n",
            "Batch size 512\t learning rate    1.00000\t acc val      90.18\n",
            "Batch size 512\t learning rate    0.10000\t acc val      88.48\n"
          ]
        }
      ],
      "source": [
        "model_best = None\n",
        "best_of_bests = float('-inf')\n",
        "for batch_size in [128, 256, 512]:\n",
        "  for learning_rate in [10, 1, 0.1]:\n",
        "    model, best_acc_val, _, _, _ = train(batch_size, learning_rate, verbose=False)\n",
        "    print('Batch size {:d}\\t learning rate {:10.5f}\\t acc val {:10.2f}'.format(\n",
        "        batch_size, learning_rate, best_acc_val))\n",
        "    if best_acc_val > best_of_bests:\n",
        "      best_of_bests = best_acc_val\n",
        "      model_best = copy.deepcopy(model)  # Saving the best performing model (validation performance)"
      ]
    },
    {
      "cell_type": "markdown",
      "metadata": {
        "id": "H3bVJpbqyRl5"
      },
      "source": [
        "TODO: Fill the following minimal grid over batch sizes and \n",
        "learning rates with corresponding validation accuracies, and boldface the best one."
      ]
    },
    {
      "cell_type": "markdown",
      "metadata": {
        "id": "a0-9mwI9yRl5"
      },
      "source": [
        "\n",
        "| batch_size\\lr |   10  |   1   |  0.1  |\n",
        "| :---:         | :---: | :---: | :---: |\n",
        "| 128           | 89.15 | 90.33 | 89.88 |\n",
        "| 256           | 89.57 | 90.25 | 89.22 |\n",
        "| 512           | 90.05 | 90.18 | 88.48 |\n",
        "\n"
      ]
    },
    {
      "cell_type": "markdown",
      "metadata": {
        "id": "Jt0TgcTnyRl5"
      },
      "source": [
        "Hyperparameter tuning may not be as exciting as implementing a model or deriving a formula, but it is absolutely an essential skill in modern NLP. Careful, well-thought-out tuning is key to good performance. This is not so much an issue for this simple model, but it becomes critical when the model gets complex."
      ]
    },
    {
      "cell_type": "markdown",
      "metadata": {
        "id": "c01UTFAFyRl5"
      },
      "source": [
        "# Error Analysis"
      ]
    },
    {
      "cell_type": "markdown",
      "metadata": {
        "id": "G27khc7qyRl5"
      },
      "source": [
        "Because we only have 4 labels we can easily visualize the prediction behavior of the model through a [confusion matrix](https://en.wikipedia.org/wiki/Confusion_matrix). "
      ]
    },
    {
      "cell_type": "code",
      "execution_count": 25,
      "metadata": {
        "id": "ktJMpHo8yRl5",
        "vscode": {
          "languageId": "python"
        }
      },
      "outputs": [],
      "source": [
        "confusion_matrix = [[0 for _ in range(len(label2str))] for _ in range(len(label2str))]\n",
        "N = 64\n",
        "for i in range(0, X_val.shape[0], N):\n",
        "  X = X_val[i: i + N]\n",
        "  y = y_val[i: i + N]\n",
        "  _, scores = model_best.forward(X)\n",
        "  preds = np.argmax(scores, axis=1)[:, np.newaxis]\n",
        "  for j in range(X.shape[0]):\n",
        "    confusion_matrix[y[j][0]][preds[j][0]] += 1\n",
        "        \n",
        "for i in range(len(label2str)):\n",
        "  num_label_i_total = sum(confusion_matrix[i])\n",
        "  for j in range(len(label2str)):\n",
        "    confusion_matrix[i][j] /= num_label_i_total"
      ]
    },
    {
      "cell_type": "code",
      "execution_count": 26,
      "metadata": {
        "colab": {
          "base_uri": "https://localhost:8080/",
          "height": 445
        },
        "id": "AJR4JlGQyRl6",
        "outputId": "cd329515-9815-4840-c0e6-540018acaa9b",
        "vscode": {
          "languageId": "python"
        }
      },
      "outputs": [
        {
          "data": {
            "text/plain": [
              "<matplotlib.axes._subplots.AxesSubplot at 0x7faea2948520>"
            ]
          },
          "execution_count": 26,
          "metadata": {},
          "output_type": "execute_result"
        },
        {
          "data": {
            "image/png": "[encoded data removed]",
            "text/plain": [
              "<Figure size 720x504 with 2 Axes>"
            ]
          },
          "metadata": {
            "needs_background": "light"
          },
          "output_type": "display_data"
        }
      ],
      "source": [
        "df_cm = pandas.DataFrame(confusion_matrix, \n",
        "                         index=[label2str[i] for i in range(len(label2str))],\n",
        "                         columns=[label2str[i] for i in range(len(label2str))])\n",
        "plt.figure(figsize = (10,7))\n",
        "seaborn.heatmap(df_cm, annot=True)"
      ]
    },
    {
      "cell_type": "markdown",
      "metadata": {
        "id": "VMRWN4aByRl6"
      },
      "source": [
        "This is a relatively easy problem so we see that all the classes are mostly right. The model seems to predict Sci/Tech when the true label is Business. This is not surprising if you look at the data. "
      ]
    },
    {
      "cell_type": "markdown",
      "metadata": {
        "id": "q7FXz1bfyRl6"
      },
      "source": [
        "# Final Evaluation"
      ]
    },
    {
      "cell_type": "markdown",
      "metadata": {
        "id": "lgzVsaB4yRl6"
      },
      "source": [
        "The final performance to report is computed on the test portion using the best model from development (after tuning). Ideally the test portion should be touched only *once*, or as few times as possible. "
      ]
    },
    {
      "cell_type": "code",
      "execution_count": 27,
      "metadata": {
        "colab": {
          "base_uri": "https://localhost:8080/"
        },
        "id": "lNBlr6jtyRl6",
        "outputId": "443d287b-40c0-48bf-cba4-2603e50a70f3",
        "vscode": {
          "languageId": "python"
        }
      },
      "outputs": [
        {
          "name": "stdout",
          "output_type": "stream",
          "text": [
            "Final test accuracy:      90.36\n"
          ]
        }
      ],
      "source": [
        "acc_test = evaluate_accuracy(model_best, X_test, y_test)  \n",
        "print('Final test accuracy: {:10.2f}'.format(acc_test))"
      ]
    },
    {
      "cell_type": "code",
      "execution_count": null,
      "metadata": {
        "id": "bPzUj1fIJD54",
        "vscode": {
          "languageId": "python"
        }
      },
      "outputs": [],
      "source": []
    }
  ],
  "metadata": {
    "anaconda-cloud": {},
    "colab": {
      "provenance": [],
      "toc_visible": true
    },
    "kernelspec": {
      "display_name": "Python 3",
      "name": "python3"
    },
    "widgets": {
      "application/vnd.jupyter.widget-state+json": {
        "002b76e4f8e647a99308af772413016b": {
          "model_module": "@jupyter-widgets/base",
          "model_module_version": "1.2.0",
          "model_name": "LayoutModel",
          "state": {
            "_model_module": "@jupyter-widgets/base",
            "_model_module_version": "1.2.0",
            "_model_name": "LayoutModel",
            "_view_count": null,
            "_view_module": "@jupyter-widgets/base",
            "_view_module_version": "1.2.0",
            "_view_name": "LayoutView",
            "align_content": null,
            "align_items": null,
            "align_self": null,
            "border": null,
            "bottom": null,
            "display": null,
            "flex": null,
            "flex_flow": null,
            "grid_area": null,
            "grid_auto_columns": null,
            "grid_auto_flow": null,
            "grid_auto_rows": null,
            "grid_column": null,
            "grid_gap": null,
            "grid_row": null,
            "grid_template_areas": null,
            "grid_template_columns": null,
            "grid_template_rows": null,
            "height": null,
            "justify_content": null,
            "justify_items": null,
            "left": null,
            "margin": null,
            "max_height": null,
            "max_width": null,
            "min_height": null,
            "min_width": null,
            "object_fit": null,
            "object_position": null,
            "order": null,
            "overflow": null,
            "overflow_x": null,
            "overflow_y": null,
            "padding": null,
            "right": null,
            "top": null,
            "visibility": null,
            "width": null
          }
        },
        "012851969d1047b4bed29fdc4807502c": {
          "model_module": "@jupyter-widgets/controls",
          "model_module_version": "1.5.0",
          "model_name": "FloatProgressModel",
          "state": {
            "_dom_classes": [],
            "_model_module": "@jupyter-widgets/controls",
            "_model_module_version": "1.5.0",
            "_model_name": "FloatProgressModel",
            "_view_count": null,
            "_view_module": "@jupyter-widgets/controls",
            "_view_module_version": "1.5.0",
            "_view_name": "ProgressView",
            "bar_style": "success",
            "description": "",
            "description_tooltip": null,
            "layout": "IPY_MODEL_1b961290d58a4c1c951bb6c33710652f",
            "max": 2,
            "min": 0,
            "orientation": "horizontal",
            "style": "IPY_MODEL_b6e19c2eb49f4bccb65cd74fba173a47",
            "value": 2
          }
        },
        "063978df6ef24037943051814d233ac0": {
          "model_module": "@jupyter-widgets/controls",
          "model_module_version": "1.5.0",
          "model_name": "HBoxModel",
          "state": {
            "_dom_classes": [],
            "_model_module": "@jupyter-widgets/controls",
            "_model_module_version": "1.5.0",
            "_model_name": "HBoxModel",
            "_view_count": null,
            "_view_module": "@jupyter-widgets/controls",
            "_view_module_version": "1.5.0",
            "_view_name": "HBoxView",
            "box_style": "",
            "children": [
              "IPY_MODEL_2f422a1aa8f141bbb5b4acd5bb02e301",
              "IPY_MODEL_cb21e329a934431e884fd180549e1566",
              "IPY_MODEL_f3dc1106922c47459d057771b0e727cf"
            ],
            "layout": "IPY_MODEL_ca4020ce8d3a4a70a59ef167d33f7661"
          }
        },
        "0b62b6eeab07471ebcb3bf2342a99bf3": {
          "model_module": "@jupyter-widgets/base",
          "model_module_version": "1.2.0",
          "model_name": "LayoutModel",
          "state": {
            "_model_module": "@jupyter-widgets/base",
            "_model_module_version": "1.2.0",
            "_model_name": "LayoutModel",
            "_view_count": null,
            "_view_module": "@jupyter-widgets/base",
            "_view_module_version": "1.2.0",
            "_view_name": "LayoutView",
            "align_content": null,
            "align_items": null,
            "align_self": null,
            "border": null,
            "bottom": null,
            "display": null,
            "flex": null,
            "flex_flow": null,
            "grid_area": null,
            "grid_auto_columns": null,
            "grid_auto_flow": null,
            "grid_auto_rows": null,
            "grid_column": null,
            "grid_gap": null,
            "grid_row": null,
            "grid_template_areas": null,
            "grid_template_columns": null,
            "grid_template_rows": null,
            "height": null,
            "justify_content": null,
            "justify_items": null,
            "left": null,
            "margin": null,
            "max_height": null,
            "max_width": null,
            "min_height": null,
            "min_width": null,
            "object_fit": null,
            "object_position": null,
            "order": null,
            "overflow": null,
            "overflow_x": null,
            "overflow_y": null,
            "padding": null,
            "right": null,
            "top": null,
            "visibility": null,
            "width": null
          }
        },
        "0df31d9b53904ebcbb416f1ad7f5106c": {
          "model_module": "@jupyter-widgets/controls",
          "model_module_version": "1.5.0",
          "model_name": "DescriptionStyleModel",
          "state": {
            "_model_module": "@jupyter-widgets/controls",
            "_model_module_version": "1.5.0",
            "_model_name": "DescriptionStyleModel",
            "_view_count": null,
            "_view_module": "@jupyter-widgets/base",
            "_view_module_version": "1.2.0",
            "_view_name": "StyleView",
            "description_width": ""
          }
        },
        "154e8585117a4b4bad440011b1ff0fdc": {
          "model_module": "@jupyter-widgets/controls",
          "model_module_version": "1.5.0",
          "model_name": "FloatProgressModel",
          "state": {
            "_dom_classes": [],
            "_model_module": "@jupyter-widgets/controls",
            "_model_module_version": "1.5.0",
            "_model_name": "FloatProgressModel",
            "_view_count": null,
            "_view_module": "@jupyter-widgets/controls",
            "_view_module_version": "1.5.0",
            "_view_name": "ProgressView",
            "bar_style": "success",
            "description": "",
            "description_tooltip": null,
            "layout": "IPY_MODEL_b487cc39142a48619f06d4bcac87f826",
            "max": 4063,
            "min": 0,
            "orientation": "horizontal",
            "style": "IPY_MODEL_50a15adf3d8d45db96db3c1308a8dc56",
            "value": 4063
          }
        },
        "18b08740a64a45d0a97a62da39aefe76": {
          "model_module": "@jupyter-widgets/controls",
          "model_module_version": "1.5.0",
          "model_name": "DescriptionStyleModel",
          "state": {
            "_model_module": "@jupyter-widgets/controls",
            "_model_module_version": "1.5.0",
            "_model_name": "DescriptionStyleModel",
            "_view_count": null,
            "_view_module": "@jupyter-widgets/base",
            "_view_module_version": "1.2.0",
            "_view_name": "StyleView",
            "description_width": ""
          }
        },
        "1b961290d58a4c1c951bb6c33710652f": {
          "model_module": "@jupyter-widgets/base",
          "model_module_version": "1.2.0",
          "model_name": "LayoutModel",
          "state": {
            "_model_module": "@jupyter-widgets/base",
            "_model_module_version": "1.2.0",
            "_model_name": "LayoutModel",
            "_view_count": null,
            "_view_module": "@jupyter-widgets/base",
            "_view_module_version": "1.2.0",
            "_view_name": "LayoutView",
            "align_content": null,
            "align_items": null,
            "align_self": null,
            "border": null,
            "bottom": null,
            "display": null,
            "flex": null,
            "flex_flow": null,
            "grid_area": null,
            "grid_auto_columns": null,
            "grid_auto_flow": null,
            "grid_auto_rows": null,
            "grid_column": null,
            "grid_gap": null,
            "grid_row": null,
            "grid_template_areas": null,
            "grid_template_columns": null,
            "grid_template_rows": null,
            "height": null,
            "justify_content": null,
            "justify_items": null,
            "left": null,
            "margin": null,
            "max_height": null,
            "max_width": null,
            "min_height": null,
            "min_width": null,
            "object_fit": null,
            "object_position": null,
            "order": null,
            "overflow": null,
            "overflow_x": null,
            "overflow_y": null,
            "padding": null,
            "right": null,
            "top": null,
            "visibility": null,
            "width": null
          }
        },
        "1c406975daa243e99ddc2d296bb2aa63": {
          "model_module": "@jupyter-widgets/controls",
          "model_module_version": "1.5.0",
          "model_name": "HTMLModel",
          "state": {
            "_dom_classes": [],
            "_model_module": "@jupyter-widgets/controls",
            "_model_module_version": "1.5.0",
            "_model_name": "HTMLModel",
            "_view_count": null,
            "_view_module": "@jupyter-widgets/controls",
            "_view_module_version": "1.5.0",
            "_view_name": "HTMLView",
            "description": "",
            "description_tooltip": null,
            "layout": "IPY_MODEL_f2e6e0e53ae84c5489071652d0b6dd8b",
            "placeholder": "​",
            "style": "IPY_MODEL_f980433c49e444f7b45b761f9fe24a11",
            "value": "Downloading data: "
          }
        },
        "1cf8c343547549a99f379a8f81ed28d8": {
          "model_module": "@jupyter-widgets/controls",
          "model_module_version": "1.5.0",
          "model_name": "FloatProgressModel",
          "state": {
            "_dom_classes": [],
            "_model_module": "@jupyter-widgets/controls",
            "_model_module_version": "1.5.0",
            "_model_name": "FloatProgressModel",
            "_view_count": null,
            "_view_module": "@jupyter-widgets/controls",
            "_view_module_version": "1.5.0",
            "_view_name": "ProgressView",
            "bar_style": "",
            "description": "",
            "description_tooltip": null,
            "layout": "IPY_MODEL_c948424374a2453ea5b8ccedfeb19955",
            "max": 7600,
            "min": 0,
            "orientation": "horizontal",
            "style": "IPY_MODEL_528f11f251ad41128476f3ce8470ae1c",
            "value": 7600
          }
        },
        "1d91b77b34ff45a3b8817ee7ce2bf2fa": {
          "model_module": "@jupyter-widgets/controls",
          "model_module_version": "1.5.0",
          "model_name": "DescriptionStyleModel",
          "state": {
            "_model_module": "@jupyter-widgets/controls",
            "_model_module_version": "1.5.0",
            "_model_name": "DescriptionStyleModel",
            "_view_count": null,
            "_view_module": "@jupyter-widgets/base",
            "_view_module_version": "1.2.0",
            "_view_name": "StyleView",
            "description_width": ""
          }
        },
        "1e47d1cb472d4b9aba6e12d28e857a77": {
          "model_module": "@jupyter-widgets/controls",
          "model_module_version": "1.5.0",
          "model_name": "ProgressStyleModel",
          "state": {
            "_model_module": "@jupyter-widgets/controls",
            "_model_module_version": "1.5.0",
            "_model_name": "ProgressStyleModel",
            "_view_count": null,
            "_view_module": "@jupyter-widgets/base",
            "_view_module_version": "1.2.0",
            "_view_name": "StyleView",
            "bar_color": null,
            "description_width": ""
          }
        },
        "1fdd7fbf1bd34a46953ef380fe405d96": {
          "model_module": "@jupyter-widgets/controls",
          "model_module_version": "1.5.0",
          "model_name": "HBoxModel",
          "state": {
            "_dom_classes": [],
            "_model_module": "@jupyter-widgets/controls",
            "_model_module_version": "1.5.0",
            "_model_name": "HBoxModel",
            "_view_count": null,
            "_view_module": "@jupyter-widgets/controls",
            "_view_module_version": "1.5.0",
            "_view_name": "HBoxView",
            "box_style": "",
            "children": [
              "IPY_MODEL_1c406975daa243e99ddc2d296bb2aa63",
              "IPY_MODEL_747f06af51f94d0bb484cd1ae0a273ca",
              "IPY_MODEL_d1f57071c53a4572bdbb14acdf8ef8fa"
            ],
            "layout": "IPY_MODEL_2d0cff72a5f14978a0011d6fc2802c96"
          }
        },
        "22c4ed48119e42a2b7ab103c69f18921": {
          "model_module": "@jupyter-widgets/base",
          "model_module_version": "1.2.0",
          "model_name": "LayoutModel",
          "state": {
            "_model_module": "@jupyter-widgets/base",
            "_model_module_version": "1.2.0",
            "_model_name": "LayoutModel",
            "_view_count": null,
            "_view_module": "@jupyter-widgets/base",
            "_view_module_version": "1.2.0",
            "_view_name": "LayoutView",
            "align_content": null,
            "align_items": null,
            "align_self": null,
            "border": null,
            "bottom": null,
            "display": null,
            "flex": null,
            "flex_flow": null,
            "grid_area": null,
            "grid_auto_columns": null,
            "grid_auto_flow": null,
            "grid_auto_rows": null,
            "grid_column": null,
            "grid_gap": null,
            "grid_row": null,
            "grid_template_areas": null,
            "grid_template_columns": null,
            "grid_template_rows": null,
            "height": null,
            "justify_content": null,
            "justify_items": null,
            "left": null,
            "margin": null,
            "max_height": null,
            "max_width": null,
            "min_height": null,
            "min_width": null,
            "object_fit": null,
            "object_position": null,
            "order": null,
            "overflow": null,
            "overflow_x": null,
            "overflow_y": null,
            "padding": null,
            "right": null,
            "top": null,
            "visibility": null,
            "width": null
          }
        },
        "23a6413a57b6475e9a7313d8d6b50b06": {
          "model_module": "@jupyter-widgets/controls",
          "model_module_version": "1.5.0",
          "model_name": "HTMLModel",
          "state": {
            "_dom_classes": [],
            "_model_module": "@jupyter-widgets/controls",
            "_model_module_version": "1.5.0",
            "_model_name": "HTMLModel",
            "_view_count": null,
            "_view_module": "@jupyter-widgets/controls",
            "_view_module_version": "1.5.0",
            "_view_name": "HTMLView",
            "description": "",
            "description_tooltip": null,
            "layout": "IPY_MODEL_9e84b49bbbbd46bbb52da749abbcca28",
            "placeholder": "​",
            "style": "IPY_MODEL_55e5b7f2b42f4b098d117ef6e3e07b24",
            "value": "Generating test split: 100%"
          }
        },
        "2524ac23ab094be4ad32640db8086c25": {
          "model_module": "@jupyter-widgets/base",
          "model_module_version": "1.2.0",
          "model_name": "LayoutModel",
          "state": {
            "_model_module": "@jupyter-widgets/base",
            "_model_module_version": "1.2.0",
            "_model_name": "LayoutModel",
            "_view_count": null,
            "_view_module": "@jupyter-widgets/base",
            "_view_module_version": "1.2.0",
            "_view_name": "LayoutView",
            "align_content": null,
            "align_items": null,
            "align_self": null,
            "border": null,
            "bottom": null,
            "display": null,
            "flex": null,
            "flex_flow": null,
            "grid_area": null,
            "grid_auto_columns": null,
            "grid_auto_flow": null,
            "grid_auto_rows": null,
            "grid_column": null,
            "grid_gap": null,
            "grid_row": null,
            "grid_template_areas": null,
            "grid_template_columns": null,
            "grid_template_rows": null,
            "height": null,
            "justify_content": null,
            "justify_items": null,
            "left": null,
            "margin": null,
            "max_height": null,
            "max_width": null,
            "min_height": null,
            "min_width": null,
            "object_fit": null,
            "object_position": null,
            "order": null,
            "overflow": null,
            "overflow_x": null,
            "overflow_y": null,
            "padding": null,
            "right": null,
            "top": null,
            "visibility": null,
            "width": null
          }
        },
        "2af27e5ca07744249ffc284ec7bb496e": {
          "model_module": "@jupyter-widgets/base",
          "model_module_version": "1.2.0",
          "model_name": "LayoutModel",
          "state": {
            "_model_module": "@jupyter-widgets/base",
            "_model_module_version": "1.2.0",
            "_model_name": "LayoutModel",
            "_view_count": null,
            "_view_module": "@jupyter-widgets/base",
            "_view_module_version": "1.2.0",
            "_view_name": "LayoutView",
            "align_content": null,
            "align_items": null,
            "align_self": null,
            "border": null,
            "bottom": null,
            "display": null,
            "flex": null,
            "flex_flow": null,
            "grid_area": null,
            "grid_auto_columns": null,
            "grid_auto_flow": null,
            "grid_auto_rows": null,
            "grid_column": null,
            "grid_gap": null,
            "grid_row": null,
            "grid_template_areas": null,
            "grid_template_columns": null,
            "grid_template_rows": null,
            "height": null,
            "justify_content": null,
            "justify_items": null,
            "left": null,
            "margin": null,
            "max_height": null,
            "max_width": null,
            "min_height": null,
            "min_width": null,
            "object_fit": null,
            "object_position": null,
            "order": null,
            "overflow": null,
            "overflow_x": null,
            "overflow_y": null,
            "padding": null,
            "right": null,
            "top": null,
            "visibility": null,
            "width": null
          }
        },
        "2d0cff72a5f14978a0011d6fc2802c96": {
          "model_module": "@jupyter-widgets/base",
          "model_module_version": "1.2.0",
          "model_name": "LayoutModel",
          "state": {
            "_model_module": "@jupyter-widgets/base",
            "_model_module_version": "1.2.0",
            "_model_name": "LayoutModel",
            "_view_count": null,
            "_view_module": "@jupyter-widgets/base",
            "_view_module_version": "1.2.0",
            "_view_name": "LayoutView",
            "align_content": null,
            "align_items": null,
            "align_self": null,
            "border": null,
            "bottom": null,
            "display": null,
            "flex": null,
            "flex_flow": null,
            "grid_area": null,
            "grid_auto_columns": null,
            "grid_auto_flow": null,
            "grid_auto_rows": null,
            "grid_column": null,
            "grid_gap": null,
            "grid_row": null,
            "grid_template_areas": null,
            "grid_template_columns": null,
            "grid_template_rows": null,
            "height": null,
            "justify_content": null,
            "justify_items": null,
            "left": null,
            "margin": null,
            "max_height": null,
            "max_width": null,
            "min_height": null,
            "min_width": null,
            "object_fit": null,
            "object_position": null,
            "order": null,
            "overflow": null,
            "overflow_x": null,
            "overflow_y": null,
            "padding": null,
            "right": null,
            "top": null,
            "visibility": null,
            "width": null
          }
        },
        "2f422a1aa8f141bbb5b4acd5bb02e301": {
          "model_module": "@jupyter-widgets/controls",
          "model_module_version": "1.5.0",
          "model_name": "HTMLModel",
          "state": {
            "_dom_classes": [],
            "_model_module": "@jupyter-widgets/controls",
            "_model_module_version": "1.5.0",
            "_model_name": "HTMLModel",
            "_view_count": null,
            "_view_module": "@jupyter-widgets/controls",
            "_view_module_version": "1.5.0",
            "_view_name": "HTMLView",
            "description": "",
            "description_tooltip": null,
            "layout": "IPY_MODEL_af448f266ee642d0bb19034f8c621295",
            "placeholder": "​",
            "style": "IPY_MODEL_8298b101109247f1bb00b5fd6ff824aa",
            "value": "Downloading readme: 100%"
          }
        },
        "3202edd492894975bd1ed6bf3f8422b4": {
          "model_module": "@jupyter-widgets/controls",
          "model_module_version": "1.5.0",
          "model_name": "HTMLModel",
          "state": {
            "_dom_classes": [],
            "_model_module": "@jupyter-widgets/controls",
            "_model_module_version": "1.5.0",
            "_model_name": "HTMLModel",
            "_view_count": null,
            "_view_module": "@jupyter-widgets/controls",
            "_view_module_version": "1.5.0",
            "_view_name": "HTMLView",
            "description": "",
            "description_tooltip": null,
            "layout": "IPY_MODEL_be78d6cacf53415480f1ec62f19de7bd",
            "placeholder": "​",
            "style": "IPY_MODEL_0df31d9b53904ebcbb416f1ad7f5106c",
            "value": "100%"
          }
        },
        "3273c0e4ee264c90a0264cab0c10a451": {
          "model_module": "@jupyter-widgets/base",
          "model_module_version": "1.2.0",
          "model_name": "LayoutModel",
          "state": {
            "_model_module": "@jupyter-widgets/base",
            "_model_module_version": "1.2.0",
            "_model_name": "LayoutModel",
            "_view_count": null,
            "_view_module": "@jupyter-widgets/base",
            "_view_module_version": "1.2.0",
            "_view_name": "LayoutView",
            "align_content": null,
            "align_items": null,
            "align_self": null,
            "border": null,
            "bottom": null,
            "display": null,
            "flex": null,
            "flex_flow": null,
            "grid_area": null,
            "grid_auto_columns": null,
            "grid_auto_flow": null,
            "grid_auto_rows": null,
            "grid_column": null,
            "grid_gap": null,
            "grid_row": null,
            "grid_template_areas": null,
            "grid_template_columns": null,
            "grid_template_rows": null,
            "height": null,
            "justify_content": null,
            "justify_items": null,
            "left": null,
            "margin": null,
            "max_height": null,
            "max_width": null,
            "min_height": null,
            "min_width": null,
            "object_fit": null,
            "object_position": null,
            "order": null,
            "overflow": null,
            "overflow_x": null,
            "overflow_y": null,
            "padding": null,
            "right": null,
            "top": null,
            "visibility": null,
            "width": null
          }
        },
        "393146373eb846e796c520249ac3481c": {
          "model_module": "@jupyter-widgets/base",
          "model_module_version": "1.2.0",
          "model_name": "LayoutModel",
          "state": {
            "_model_module": "@jupyter-widgets/base",
            "_model_module_version": "1.2.0",
            "_model_name": "LayoutModel",
            "_view_count": null,
            "_view_module": "@jupyter-widgets/base",
            "_view_module_version": "1.2.0",
            "_view_name": "LayoutView",
            "align_content": null,
            "align_items": null,
            "align_self": null,
            "border": null,
            "bottom": null,
            "display": null,
            "flex": null,
            "flex_flow": null,
            "grid_area": null,
            "grid_auto_columns": null,
            "grid_auto_flow": null,
            "grid_auto_rows": null,
            "grid_column": null,
            "grid_gap": null,
            "grid_row": null,
            "grid_template_areas": null,
            "grid_template_columns": null,
            "grid_template_rows": null,
            "height": null,
            "justify_content": null,
            "justify_items": null,
            "left": null,
            "margin": null,
            "max_height": null,
            "max_width": null,
            "min_height": null,
            "min_width": null,
            "object_fit": null,
            "object_position": null,
            "order": null,
            "overflow": null,
            "overflow_x": null,
            "overflow_y": null,
            "padding": null,
            "right": null,
            "top": null,
            "visibility": null,
            "width": null
          }
        },
        "398f9371e9a942f289d54eca173ec135": {
          "model_module": "@jupyter-widgets/controls",
          "model_module_version": "1.5.0",
          "model_name": "ProgressStyleModel",
          "state": {
            "_model_module": "@jupyter-widgets/controls",
            "_model_module_version": "1.5.0",
            "_model_name": "ProgressStyleModel",
            "_view_count": null,
            "_view_module": "@jupyter-widgets/base",
            "_view_module_version": "1.2.0",
            "_view_name": "StyleView",
            "bar_color": null,
            "description_width": ""
          }
        },
        "3fbf7458baf746cf823568bce66c9afc": {
          "model_module": "@jupyter-widgets/controls",
          "model_module_version": "1.5.0",
          "model_name": "HTMLModel",
          "state": {
            "_dom_classes": [],
            "_model_module": "@jupyter-widgets/controls",
            "_model_module_version": "1.5.0",
            "_model_name": "HTMLModel",
            "_view_count": null,
            "_view_module": "@jupyter-widgets/controls",
            "_view_module_version": "1.5.0",
            "_view_name": "HTMLView",
            "description": "",
            "description_tooltip": null,
            "layout": "IPY_MODEL_fb68c19718bd4f39bed6669ebebd6e58",
            "placeholder": "​",
            "style": "IPY_MODEL_18b08740a64a45d0a97a62da39aefe76",
            "value": "Downloading builder script: 100%"
          }
        },
        "469fc432e3f84fd580149721b59122fd": {
          "model_module": "@jupyter-widgets/base",
          "model_module_version": "1.2.0",
          "model_name": "LayoutModel",
          "state": {
            "_model_module": "@jupyter-widgets/base",
            "_model_module_version": "1.2.0",
            "_model_name": "LayoutModel",
            "_view_count": null,
            "_view_module": "@jupyter-widgets/base",
            "_view_module_version": "1.2.0",
            "_view_name": "LayoutView",
            "align_content": null,
            "align_items": null,
            "align_self": null,
            "border": null,
            "bottom": null,
            "display": null,
            "flex": null,
            "flex_flow": null,
            "grid_area": null,
            "grid_auto_columns": null,
            "grid_auto_flow": null,
            "grid_auto_rows": null,
            "grid_column": null,
            "grid_gap": null,
            "grid_row": null,
            "grid_template_areas": null,
            "grid_template_columns": null,
            "grid_template_rows": null,
            "height": null,
            "justify_content": null,
            "justify_items": null,
            "left": null,
            "margin": null,
            "max_height": null,
            "max_width": null,
            "min_height": null,
            "min_width": null,
            "object_fit": null,
            "object_position": null,
            "order": null,
            "overflow": null,
            "overflow_x": null,
            "overflow_y": null,
            "padding": null,
            "right": null,
            "top": null,
            "visibility": null,
            "width": null
          }
        },
        "47143bc69a4b462db56177ab1b0d6fa4": {
          "model_module": "@jupyter-widgets/controls",
          "model_module_version": "1.5.0",
          "model_name": "ProgressStyleModel",
          "state": {
            "_model_module": "@jupyter-widgets/controls",
            "_model_module_version": "1.5.0",
            "_model_name": "ProgressStyleModel",
            "_view_count": null,
            "_view_module": "@jupyter-widgets/base",
            "_view_module_version": "1.2.0",
            "_view_name": "StyleView",
            "bar_color": null,
            "description_width": ""
          }
        },
        "47c3eae4850d48f48f5ef28b254c721c": {
          "model_module": "@jupyter-widgets/base",
          "model_module_version": "1.2.0",
          "model_name": "LayoutModel",
          "state": {
            "_model_module": "@jupyter-widgets/base",
            "_model_module_version": "1.2.0",
            "_model_name": "LayoutModel",
            "_view_count": null,
            "_view_module": "@jupyter-widgets/base",
            "_view_module_version": "1.2.0",
            "_view_name": "LayoutView",
            "align_content": null,
            "align_items": null,
            "align_self": null,
            "border": null,
            "bottom": null,
            "display": null,
            "flex": null,
            "flex_flow": null,
            "grid_area": null,
            "grid_auto_columns": null,
            "grid_auto_flow": null,
            "grid_auto_rows": null,
            "grid_column": null,
            "grid_gap": null,
            "grid_row": null,
            "grid_template_areas": null,
            "grid_template_columns": null,
            "grid_template_rows": null,
            "height": null,
            "justify_content": null,
            "justify_items": null,
            "left": null,
            "margin": null,
            "max_height": null,
            "max_width": null,
            "min_height": null,
            "min_width": null,
            "object_fit": null,
            "object_position": null,
            "order": null,
            "overflow": null,
            "overflow_x": null,
            "overflow_y": null,
            "padding": null,
            "right": null,
            "top": null,
            "visibility": null,
            "width": null
          }
        },
        "48f3bb87576d461888e2c8321c3de75d": {
          "model_module": "@jupyter-widgets/base",
          "model_module_version": "1.2.0",
          "model_name": "LayoutModel",
          "state": {
            "_model_module": "@jupyter-widgets/base",
            "_model_module_version": "1.2.0",
            "_model_name": "LayoutModel",
            "_view_count": null,
            "_view_module": "@jupyter-widgets/base",
            "_view_module_version": "1.2.0",
            "_view_name": "LayoutView",
            "align_content": null,
            "align_items": null,
            "align_self": null,
            "border": null,
            "bottom": null,
            "display": null,
            "flex": null,
            "flex_flow": null,
            "grid_area": null,
            "grid_auto_columns": null,
            "grid_auto_flow": null,
            "grid_auto_rows": null,
            "grid_column": null,
            "grid_gap": null,
            "grid_row": null,
            "grid_template_areas": null,
            "grid_template_columns": null,
            "grid_template_rows": null,
            "height": null,
            "justify_content": null,
            "justify_items": null,
            "left": null,
            "margin": null,
            "max_height": null,
            "max_width": null,
            "min_height": null,
            "min_width": null,
            "object_fit": null,
            "object_position": null,
            "order": null,
            "overflow": null,
            "overflow_x": null,
            "overflow_y": null,
            "padding": null,
            "right": null,
            "top": null,
            "visibility": null,
            "width": null
          }
        },
        "492548d77fc648f4a6ac677bd2c3954a": {
          "model_module": "@jupyter-widgets/controls",
          "model_module_version": "1.5.0",
          "model_name": "DescriptionStyleModel",
          "state": {
            "_model_module": "@jupyter-widgets/controls",
            "_model_module_version": "1.5.0",
            "_model_name": "DescriptionStyleModel",
            "_view_count": null,
            "_view_module": "@jupyter-widgets/base",
            "_view_module_version": "1.2.0",
            "_view_name": "StyleView",
            "description_width": ""
          }
        },
        "494483d63d394723b0ba5e6789ce691f": {
          "model_module": "@jupyter-widgets/controls",
          "model_module_version": "1.5.0",
          "model_name": "DescriptionStyleModel",
          "state": {
            "_model_module": "@jupyter-widgets/controls",
            "_model_module_version": "1.5.0",
            "_model_name": "DescriptionStyleModel",
            "_view_count": null,
            "_view_module": "@jupyter-widgets/base",
            "_view_module_version": "1.2.0",
            "_view_name": "StyleView",
            "description_width": ""
          }
        },
        "50a15adf3d8d45db96db3c1308a8dc56": {
          "model_module": "@jupyter-widgets/controls",
          "model_module_version": "1.5.0",
          "model_name": "ProgressStyleModel",
          "state": {
            "_model_module": "@jupyter-widgets/controls",
            "_model_module_version": "1.5.0",
            "_model_name": "ProgressStyleModel",
            "_view_count": null,
            "_view_module": "@jupyter-widgets/base",
            "_view_module_version": "1.2.0",
            "_view_name": "StyleView",
            "bar_color": null,
            "description_width": ""
          }
        },
        "5286a393977b4a06b161746bb42e59f4": {
          "model_module": "@jupyter-widgets/controls",
          "model_module_version": "1.5.0",
          "model_name": "HBoxModel",
          "state": {
            "_dom_classes": [],
            "_model_module": "@jupyter-widgets/controls",
            "_model_module_version": "1.5.0",
            "_model_name": "HBoxModel",
            "_view_count": null,
            "_view_module": "@jupyter-widgets/controls",
            "_view_module_version": "1.5.0",
            "_view_name": "HBoxView",
            "box_style": "",
            "children": [
              "IPY_MODEL_a047ef58d80045388e90bf68e68d4dcc",
              "IPY_MODEL_677f70c3ce0b4b90aeea1e5fa0784a94",
              "IPY_MODEL_c751560d102e49b6a973f4c1da2bdfb1"
            ],
            "layout": "IPY_MODEL_b4b55690bdf9435fbc6da186dc878073"
          }
        },
        "528f11f251ad41128476f3ce8470ae1c": {
          "model_module": "@jupyter-widgets/controls",
          "model_module_version": "1.5.0",
          "model_name": "ProgressStyleModel",
          "state": {
            "_model_module": "@jupyter-widgets/controls",
            "_model_module_version": "1.5.0",
            "_model_name": "ProgressStyleModel",
            "_view_count": null,
            "_view_module": "@jupyter-widgets/base",
            "_view_module_version": "1.2.0",
            "_view_name": "StyleView",
            "bar_color": null,
            "description_width": ""
          }
        },
        "55e5b7f2b42f4b098d117ef6e3e07b24": {
          "model_module": "@jupyter-widgets/controls",
          "model_module_version": "1.5.0",
          "model_name": "DescriptionStyleModel",
          "state": {
            "_model_module": "@jupyter-widgets/controls",
            "_model_module_version": "1.5.0",
            "_model_name": "DescriptionStyleModel",
            "_view_count": null,
            "_view_module": "@jupyter-widgets/base",
            "_view_module_version": "1.2.0",
            "_view_name": "StyleView",
            "description_width": ""
          }
        },
        "578cd9254e354bb2ad14f8d1ef80e50d": {
          "model_module": "@jupyter-widgets/base",
          "model_module_version": "1.2.0",
          "model_name": "LayoutModel",
          "state": {
            "_model_module": "@jupyter-widgets/base",
            "_model_module_version": "1.2.0",
            "_model_name": "LayoutModel",
            "_view_count": null,
            "_view_module": "@jupyter-widgets/base",
            "_view_module_version": "1.2.0",
            "_view_name": "LayoutView",
            "align_content": null,
            "align_items": null,
            "align_self": null,
            "border": null,
            "bottom": null,
            "display": null,
            "flex": null,
            "flex_flow": null,
            "grid_area": null,
            "grid_auto_columns": null,
            "grid_auto_flow": null,
            "grid_auto_rows": null,
            "grid_column": null,
            "grid_gap": null,
            "grid_row": null,
            "grid_template_areas": null,
            "grid_template_columns": null,
            "grid_template_rows": null,
            "height": null,
            "justify_content": null,
            "justify_items": null,
            "left": null,
            "margin": null,
            "max_height": null,
            "max_width": null,
            "min_height": null,
            "min_width": null,
            "object_fit": null,
            "object_position": null,
            "order": null,
            "overflow": null,
            "overflow_x": null,
            "overflow_y": null,
            "padding": null,
            "right": null,
            "top": null,
            "visibility": null,
            "width": null
          }
        },
        "58efeb571d9e454184cfe899f806f10e": {
          "model_module": "@jupyter-widgets/base",
          "model_module_version": "1.2.0",
          "model_name": "LayoutModel",
          "state": {
            "_model_module": "@jupyter-widgets/base",
            "_model_module_version": "1.2.0",
            "_model_name": "LayoutModel",
            "_view_count": null,
            "_view_module": "@jupyter-widgets/base",
            "_view_module_version": "1.2.0",
            "_view_name": "LayoutView",
            "align_content": null,
            "align_items": null,
            "align_self": null,
            "border": null,
            "bottom": null,
            "display": null,
            "flex": null,
            "flex_flow": null,
            "grid_area": null,
            "grid_auto_columns": null,
            "grid_auto_flow": null,
            "grid_auto_rows": null,
            "grid_column": null,
            "grid_gap": null,
            "grid_row": null,
            "grid_template_areas": null,
            "grid_template_columns": null,
            "grid_template_rows": null,
            "height": null,
            "justify_content": null,
            "justify_items": null,
            "left": null,
            "margin": null,
            "max_height": null,
            "max_width": null,
            "min_height": null,
            "min_width": null,
            "object_fit": null,
            "object_position": null,
            "order": null,
            "overflow": null,
            "overflow_x": null,
            "overflow_y": null,
            "padding": null,
            "right": null,
            "top": null,
            "visibility": null,
            "width": null
          }
        },
        "6337b644219f48e196741d853ddc42f1": {
          "model_module": "@jupyter-widgets/controls",
          "model_module_version": "1.5.0",
          "model_name": "HBoxModel",
          "state": {
            "_dom_classes": [],
            "_model_module": "@jupyter-widgets/controls",
            "_model_module_version": "1.5.0",
            "_model_name": "HBoxModel",
            "_view_count": null,
            "_view_module": "@jupyter-widgets/controls",
            "_view_module_version": "1.5.0",
            "_view_name": "HBoxView",
            "box_style": "",
            "children": [
              "IPY_MODEL_3202edd492894975bd1ed6bf3f8422b4",
              "IPY_MODEL_012851969d1047b4bed29fdc4807502c",
              "IPY_MODEL_86f185c6400f4d678fbde0d8c8d12e04"
            ],
            "layout": "IPY_MODEL_0b62b6eeab07471ebcb3bf2342a99bf3"
          }
        },
        "677f70c3ce0b4b90aeea1e5fa0784a94": {
          "model_module": "@jupyter-widgets/controls",
          "model_module_version": "1.5.0",
          "model_name": "FloatProgressModel",
          "state": {
            "_dom_classes": [],
            "_model_module": "@jupyter-widgets/controls",
            "_model_module_version": "1.5.0",
            "_model_name": "FloatProgressModel",
            "_view_count": null,
            "_view_module": "@jupyter-widgets/controls",
            "_view_module_version": "1.5.0",
            "_view_name": "ProgressView",
            "bar_style": "",
            "description": "",
            "description_tooltip": null,
            "layout": "IPY_MODEL_393146373eb846e796c520249ac3481c",
            "max": 120000,
            "min": 0,
            "orientation": "horizontal",
            "style": "IPY_MODEL_47143bc69a4b462db56177ab1b0d6fa4",
            "value": 120000
          }
        },
        "68e6b49b8bbc4538ad6be6b47263fa58": {
          "model_module": "@jupyter-widgets/controls",
          "model_module_version": "1.5.0",
          "model_name": "DescriptionStyleModel",
          "state": {
            "_model_module": "@jupyter-widgets/controls",
            "_model_module_version": "1.5.0",
            "_model_name": "DescriptionStyleModel",
            "_view_count": null,
            "_view_module": "@jupyter-widgets/base",
            "_view_module_version": "1.2.0",
            "_view_name": "StyleView",
            "description_width": ""
          }
        },
        "6b613749237742d1b41c14e4dcad4f2a": {
          "model_module": "@jupyter-widgets/controls",
          "model_module_version": "1.5.0",
          "model_name": "HTMLModel",
          "state": {
            "_dom_classes": [],
            "_model_module": "@jupyter-widgets/controls",
            "_model_module_version": "1.5.0",
            "_model_name": "HTMLModel",
            "_view_count": null,
            "_view_module": "@jupyter-widgets/controls",
            "_view_module_version": "1.5.0",
            "_view_name": "HTMLView",
            "description": "",
            "description_tooltip": null,
            "layout": "IPY_MODEL_47c3eae4850d48f48f5ef28b254c721c",
            "placeholder": "​",
            "style": "IPY_MODEL_927c72ce026843c794264c4767cb7672",
            "value": "Downloading data: "
          }
        },
        "747f06af51f94d0bb484cd1ae0a273ca": {
          "model_module": "@jupyter-widgets/controls",
          "model_module_version": "1.5.0",
          "model_name": "FloatProgressModel",
          "state": {
            "_dom_classes": [],
            "_model_module": "@jupyter-widgets/controls",
            "_model_module_version": "1.5.0",
            "_model_name": "FloatProgressModel",
            "_view_count": null,
            "_view_module": "@jupyter-widgets/controls",
            "_view_module_version": "1.5.0",
            "_view_name": "ProgressView",
            "bar_style": "success",
            "description": "",
            "description_tooltip": null,
            "layout": "IPY_MODEL_f8903fa5b31b47f1a078bfe13745512f",
            "max": 11045148,
            "min": 0,
            "orientation": "horizontal",
            "style": "IPY_MODEL_f303ba143ea34f11883ef8e8722d9ae4",
            "value": 11045148
          }
        },
        "7725bcb49cc5421f815b93fab98ae693": {
          "model_module": "@jupyter-widgets/base",
          "model_module_version": "1.2.0",
          "model_name": "LayoutModel",
          "state": {
            "_model_module": "@jupyter-widgets/base",
            "_model_module_version": "1.2.0",
            "_model_name": "LayoutModel",
            "_view_count": null,
            "_view_module": "@jupyter-widgets/base",
            "_view_module_version": "1.2.0",
            "_view_name": "LayoutView",
            "align_content": null,
            "align_items": null,
            "align_self": null,
            "border": null,
            "bottom": null,
            "display": null,
            "flex": null,
            "flex_flow": null,
            "grid_area": null,
            "grid_auto_columns": null,
            "grid_auto_flow": null,
            "grid_auto_rows": null,
            "grid_column": null,
            "grid_gap": null,
            "grid_row": null,
            "grid_template_areas": null,
            "grid_template_columns": null,
            "grid_template_rows": null,
            "height": null,
            "justify_content": null,
            "justify_items": null,
            "left": null,
            "margin": null,
            "max_height": null,
            "max_width": null,
            "min_height": null,
            "min_width": null,
            "object_fit": null,
            "object_position": null,
            "order": null,
            "overflow": null,
            "overflow_x": null,
            "overflow_y": null,
            "padding": null,
            "right": null,
            "top": null,
            "visibility": null,
            "width": null
          }
        },
        "7fdb552573d54bc7900fa5fcc7cddce6": {
          "model_module": "@jupyter-widgets/base",
          "model_module_version": "1.2.0",
          "model_name": "LayoutModel",
          "state": {
            "_model_module": "@jupyter-widgets/base",
            "_model_module_version": "1.2.0",
            "_model_name": "LayoutModel",
            "_view_count": null,
            "_view_module": "@jupyter-widgets/base",
            "_view_module_version": "1.2.0",
            "_view_name": "LayoutView",
            "align_content": null,
            "align_items": null,
            "align_self": null,
            "border": null,
            "bottom": null,
            "display": null,
            "flex": null,
            "flex_flow": null,
            "grid_area": null,
            "grid_auto_columns": null,
            "grid_auto_flow": null,
            "grid_auto_rows": null,
            "grid_column": null,
            "grid_gap": null,
            "grid_row": null,
            "grid_template_areas": null,
            "grid_template_columns": null,
            "grid_template_rows": null,
            "height": null,
            "justify_content": null,
            "justify_items": null,
            "left": null,
            "margin": null,
            "max_height": null,
            "max_width": null,
            "min_height": null,
            "min_width": null,
            "object_fit": null,
            "object_position": null,
            "order": null,
            "overflow": null,
            "overflow_x": null,
            "overflow_y": null,
            "padding": null,
            "right": null,
            "top": null,
            "visibility": null,
            "width": null
          }
        },
        "8298b101109247f1bb00b5fd6ff824aa": {
          "model_module": "@jupyter-widgets/controls",
          "model_module_version": "1.5.0",
          "model_name": "DescriptionStyleModel",
          "state": {
            "_model_module": "@jupyter-widgets/controls",
            "_model_module_version": "1.5.0",
            "_model_name": "DescriptionStyleModel",
            "_view_count": null,
            "_view_module": "@jupyter-widgets/base",
            "_view_module_version": "1.2.0",
            "_view_name": "StyleView",
            "description_width": ""
          }
        },
        "86f185c6400f4d678fbde0d8c8d12e04": {
          "model_module": "@jupyter-widgets/controls",
          "model_module_version": "1.5.0",
          "model_name": "HTMLModel",
          "state": {
            "_dom_classes": [],
            "_model_module": "@jupyter-widgets/controls",
            "_model_module_version": "1.5.0",
            "_model_name": "HTMLModel",
            "_view_count": null,
            "_view_module": "@jupyter-widgets/controls",
            "_view_module_version": "1.5.0",
            "_view_name": "HTMLView",
            "description": "",
            "description_tooltip": null,
            "layout": "IPY_MODEL_48f3bb87576d461888e2c8321c3de75d",
            "placeholder": "​",
            "style": "IPY_MODEL_f7e889ca723c49eaa381bf0376ce1212",
            "value": " 2/2 [00:00&lt;00:00, 59.56it/s]"
          }
        },
        "8b19fcd811a24eb8af21749343f88657": {
          "model_module": "@jupyter-widgets/controls",
          "model_module_version": "1.5.0",
          "model_name": "DescriptionStyleModel",
          "state": {
            "_model_module": "@jupyter-widgets/controls",
            "_model_module_version": "1.5.0",
            "_model_name": "DescriptionStyleModel",
            "_view_count": null,
            "_view_module": "@jupyter-widgets/base",
            "_view_module_version": "1.2.0",
            "_view_name": "StyleView",
            "description_width": ""
          }
        },
        "8e92d48cfc0846e986202fc6289a4d8e": {
          "model_module": "@jupyter-widgets/base",
          "model_module_version": "1.2.0",
          "model_name": "LayoutModel",
          "state": {
            "_model_module": "@jupyter-widgets/base",
            "_model_module_version": "1.2.0",
            "_model_name": "LayoutModel",
            "_view_count": null,
            "_view_module": "@jupyter-widgets/base",
            "_view_module_version": "1.2.0",
            "_view_name": "LayoutView",
            "align_content": null,
            "align_items": null,
            "align_self": null,
            "border": null,
            "bottom": null,
            "display": null,
            "flex": null,
            "flex_flow": null,
            "grid_area": null,
            "grid_auto_columns": null,
            "grid_auto_flow": null,
            "grid_auto_rows": null,
            "grid_column": null,
            "grid_gap": null,
            "grid_row": null,
            "grid_template_areas": null,
            "grid_template_columns": null,
            "grid_template_rows": null,
            "height": null,
            "justify_content": null,
            "justify_items": null,
            "left": null,
            "margin": null,
            "max_height": null,
            "max_width": null,
            "min_height": null,
            "min_width": null,
            "object_fit": null,
            "object_position": null,
            "order": null,
            "overflow": null,
            "overflow_x": null,
            "overflow_y": null,
            "padding": null,
            "right": null,
            "top": null,
            "visibility": null,
            "width": null
          }
        },
        "8ed1fae6172d43509fe339ccae8e8191": {
          "model_module": "@jupyter-widgets/controls",
          "model_module_version": "1.5.0",
          "model_name": "HTMLModel",
          "state": {
            "_dom_classes": [],
            "_model_module": "@jupyter-widgets/controls",
            "_model_module_version": "1.5.0",
            "_model_name": "HTMLModel",
            "_view_count": null,
            "_view_module": "@jupyter-widgets/controls",
            "_view_module_version": "1.5.0",
            "_view_name": "HTMLView",
            "description": "",
            "description_tooltip": null,
            "layout": "IPY_MODEL_c82efa1c5c5e4288a0855446debcc08a",
            "placeholder": "​",
            "style": "IPY_MODEL_c12c0e4a0bcd42d6816fe24cbbef4d20",
            "value": " 7600/7600 [00:13&lt;00:00, 19857.49 examples/s]"
          }
        },
        "927c72ce026843c794264c4767cb7672": {
          "model_module": "@jupyter-widgets/controls",
          "model_module_version": "1.5.0",
          "model_name": "DescriptionStyleModel",
          "state": {
            "_model_module": "@jupyter-widgets/controls",
            "_model_module_version": "1.5.0",
            "_model_name": "DescriptionStyleModel",
            "_view_count": null,
            "_view_module": "@jupyter-widgets/base",
            "_view_module_version": "1.2.0",
            "_view_name": "StyleView",
            "description_width": ""
          }
        },
        "9c85259f0a7948a19c03cbb05f5e1232": {
          "model_module": "@jupyter-widgets/controls",
          "model_module_version": "1.5.0",
          "model_name": "ProgressStyleModel",
          "state": {
            "_model_module": "@jupyter-widgets/controls",
            "_model_module_version": "1.5.0",
            "_model_name": "ProgressStyleModel",
            "_view_count": null,
            "_view_module": "@jupyter-widgets/base",
            "_view_module_version": "1.2.0",
            "_view_name": "StyleView",
            "bar_color": null,
            "description_width": ""
          }
        },
        "9e84b49bbbbd46bbb52da749abbcca28": {
          "model_module": "@jupyter-widgets/base",
          "model_module_version": "1.2.0",
          "model_name": "LayoutModel",
          "state": {
            "_model_module": "@jupyter-widgets/base",
            "_model_module_version": "1.2.0",
            "_model_name": "LayoutModel",
            "_view_count": null,
            "_view_module": "@jupyter-widgets/base",
            "_view_module_version": "1.2.0",
            "_view_name": "LayoutView",
            "align_content": null,
            "align_items": null,
            "align_self": null,
            "border": null,
            "bottom": null,
            "display": null,
            "flex": null,
            "flex_flow": null,
            "grid_area": null,
            "grid_auto_columns": null,
            "grid_auto_flow": null,
            "grid_auto_rows": null,
            "grid_column": null,
            "grid_gap": null,
            "grid_row": null,
            "grid_template_areas": null,
            "grid_template_columns": null,
            "grid_template_rows": null,
            "height": null,
            "justify_content": null,
            "justify_items": null,
            "left": null,
            "margin": null,
            "max_height": null,
            "max_width": null,
            "min_height": null,
            "min_width": null,
            "object_fit": null,
            "object_position": null,
            "order": null,
            "overflow": null,
            "overflow_x": null,
            "overflow_y": null,
            "padding": null,
            "right": null,
            "top": null,
            "visibility": null,
            "width": null
          }
        },
        "a047ef58d80045388e90bf68e68d4dcc": {
          "model_module": "@jupyter-widgets/controls",
          "model_module_version": "1.5.0",
          "model_name": "HTMLModel",
          "state": {
            "_dom_classes": [],
            "_model_module": "@jupyter-widgets/controls",
            "_model_module_version": "1.5.0",
            "_model_name": "HTMLModel",
            "_view_count": null,
            "_view_module": "@jupyter-widgets/controls",
            "_view_module_version": "1.5.0",
            "_view_name": "HTMLView",
            "description": "",
            "description_tooltip": null,
            "layout": "IPY_MODEL_2524ac23ab094be4ad32640db8086c25",
            "placeholder": "​",
            "style": "IPY_MODEL_1d91b77b34ff45a3b8817ee7ce2bf2fa",
            "value": "Generating train split: 100%"
          }
        },
        "a6c8b579a38d445486a7213fbce91c21": {
          "model_module": "@jupyter-widgets/controls",
          "model_module_version": "1.5.0",
          "model_name": "HTMLModel",
          "state": {
            "_dom_classes": [],
            "_model_module": "@jupyter-widgets/controls",
            "_model_module_version": "1.5.0",
            "_model_name": "HTMLModel",
            "_view_count": null,
            "_view_module": "@jupyter-widgets/controls",
            "_view_module_version": "1.5.0",
            "_view_name": "HTMLView",
            "description": "",
            "description_tooltip": null,
            "layout": "IPY_MODEL_8e92d48cfc0846e986202fc6289a4d8e",
            "placeholder": "​",
            "style": "IPY_MODEL_494483d63d394723b0ba5e6789ce691f",
            "value": " 2.65k/2.65k [00:00&lt;00:00, 93.8kB/s]"
          }
        },
        "a825e52eb339446f933bedcca45c4626": {
          "model_module": "@jupyter-widgets/controls",
          "model_module_version": "1.5.0",
          "model_name": "HBoxModel",
          "state": {
            "_dom_classes": [],
            "_model_module": "@jupyter-widgets/controls",
            "_model_module_version": "1.5.0",
            "_model_name": "HBoxModel",
            "_view_count": null,
            "_view_module": "@jupyter-widgets/controls",
            "_view_module_version": "1.5.0",
            "_view_name": "HBoxView",
            "box_style": "",
            "children": [
              "IPY_MODEL_ca0b18032d974bb2921f9bf830aaa42b",
              "IPY_MODEL_ee14dc4b0ec24179b6582c6b39442068",
              "IPY_MODEL_a6c8b579a38d445486a7213fbce91c21"
            ],
            "layout": "IPY_MODEL_3273c0e4ee264c90a0264cab0c10a451"
          }
        },
        "ae93a34b4bf344d091e2fc88f9996e43": {
          "model_module": "@jupyter-widgets/base",
          "model_module_version": "1.2.0",
          "model_name": "LayoutModel",
          "state": {
            "_model_module": "@jupyter-widgets/base",
            "_model_module_version": "1.2.0",
            "_model_name": "LayoutModel",
            "_view_count": null,
            "_view_module": "@jupyter-widgets/base",
            "_view_module_version": "1.2.0",
            "_view_name": "LayoutView",
            "align_content": null,
            "align_items": null,
            "align_self": null,
            "border": null,
            "bottom": null,
            "display": null,
            "flex": null,
            "flex_flow": null,
            "grid_area": null,
            "grid_auto_columns": null,
            "grid_auto_flow": null,
            "grid_auto_rows": null,
            "grid_column": null,
            "grid_gap": null,
            "grid_row": null,
            "grid_template_areas": null,
            "grid_template_columns": null,
            "grid_template_rows": null,
            "height": null,
            "justify_content": null,
            "justify_items": null,
            "left": null,
            "margin": null,
            "max_height": null,
            "max_width": null,
            "min_height": null,
            "min_width": null,
            "object_fit": null,
            "object_position": null,
            "order": null,
            "overflow": null,
            "overflow_x": null,
            "overflow_y": null,
            "padding": null,
            "right": null,
            "top": null,
            "visibility": null,
            "width": null
          }
        },
        "af448f266ee642d0bb19034f8c621295": {
          "model_module": "@jupyter-widgets/base",
          "model_module_version": "1.2.0",
          "model_name": "LayoutModel",
          "state": {
            "_model_module": "@jupyter-widgets/base",
            "_model_module_version": "1.2.0",
            "_model_name": "LayoutModel",
            "_view_count": null,
            "_view_module": "@jupyter-widgets/base",
            "_view_module_version": "1.2.0",
            "_view_name": "LayoutView",
            "align_content": null,
            "align_items": null,
            "align_self": null,
            "border": null,
            "bottom": null,
            "display": null,
            "flex": null,
            "flex_flow": null,
            "grid_area": null,
            "grid_auto_columns": null,
            "grid_auto_flow": null,
            "grid_auto_rows": null,
            "grid_column": null,
            "grid_gap": null,
            "grid_row": null,
            "grid_template_areas": null,
            "grid_template_columns": null,
            "grid_template_rows": null,
            "height": null,
            "justify_content": null,
            "justify_items": null,
            "left": null,
            "margin": null,
            "max_height": null,
            "max_width": null,
            "min_height": null,
            "min_width": null,
            "object_fit": null,
            "object_position": null,
            "order": null,
            "overflow": null,
            "overflow_x": null,
            "overflow_y": null,
            "padding": null,
            "right": null,
            "top": null,
            "visibility": null,
            "width": null
          }
        },
        "b487cc39142a48619f06d4bcac87f826": {
          "model_module": "@jupyter-widgets/base",
          "model_module_version": "1.2.0",
          "model_name": "LayoutModel",
          "state": {
            "_model_module": "@jupyter-widgets/base",
            "_model_module_version": "1.2.0",
            "_model_name": "LayoutModel",
            "_view_count": null,
            "_view_module": "@jupyter-widgets/base",
            "_view_module_version": "1.2.0",
            "_view_name": "LayoutView",
            "align_content": null,
            "align_items": null,
            "align_self": null,
            "border": null,
            "bottom": null,
            "display": null,
            "flex": null,
            "flex_flow": null,
            "grid_area": null,
            "grid_auto_columns": null,
            "grid_auto_flow": null,
            "grid_auto_rows": null,
            "grid_column": null,
            "grid_gap": null,
            "grid_row": null,
            "grid_template_areas": null,
            "grid_template_columns": null,
            "grid_template_rows": null,
            "height": null,
            "justify_content": null,
            "justify_items": null,
            "left": null,
            "margin": null,
            "max_height": null,
            "max_width": null,
            "min_height": null,
            "min_width": null,
            "object_fit": null,
            "object_position": null,
            "order": null,
            "overflow": null,
            "overflow_x": null,
            "overflow_y": null,
            "padding": null,
            "right": null,
            "top": null,
            "visibility": null,
            "width": null
          }
        },
        "b4b55690bdf9435fbc6da186dc878073": {
          "model_module": "@jupyter-widgets/base",
          "model_module_version": "1.2.0",
          "model_name": "LayoutModel",
          "state": {
            "_model_module": "@jupyter-widgets/base",
            "_model_module_version": "1.2.0",
            "_model_name": "LayoutModel",
            "_view_count": null,
            "_view_module": "@jupyter-widgets/base",
            "_view_module_version": "1.2.0",
            "_view_name": "LayoutView",
            "align_content": null,
            "align_items": null,
            "align_self": null,
            "border": null,
            "bottom": null,
            "display": null,
            "flex": null,
            "flex_flow": null,
            "grid_area": null,
            "grid_auto_columns": null,
            "grid_auto_flow": null,
            "grid_auto_rows": null,
            "grid_column": null,
            "grid_gap": null,
            "grid_row": null,
            "grid_template_areas": null,
            "grid_template_columns": null,
            "grid_template_rows": null,
            "height": null,
            "justify_content": null,
            "justify_items": null,
            "left": null,
            "margin": null,
            "max_height": null,
            "max_width": null,
            "min_height": null,
            "min_width": null,
            "object_fit": null,
            "object_position": null,
            "order": null,
            "overflow": null,
            "overflow_x": null,
            "overflow_y": null,
            "padding": null,
            "right": null,
            "top": null,
            "visibility": "hidden",
            "width": null
          }
        },
        "b6e19c2eb49f4bccb65cd74fba173a47": {
          "model_module": "@jupyter-widgets/controls",
          "model_module_version": "1.5.0",
          "model_name": "ProgressStyleModel",
          "state": {
            "_model_module": "@jupyter-widgets/controls",
            "_model_module_version": "1.5.0",
            "_model_name": "ProgressStyleModel",
            "_view_count": null,
            "_view_module": "@jupyter-widgets/base",
            "_view_module_version": "1.2.0",
            "_view_name": "StyleView",
            "bar_color": null,
            "description_width": ""
          }
        },
        "b769750998214814a8cf13b3cb870ac5": {
          "model_module": "@jupyter-widgets/controls",
          "model_module_version": "1.5.0",
          "model_name": "DescriptionStyleModel",
          "state": {
            "_model_module": "@jupyter-widgets/controls",
            "_model_module_version": "1.5.0",
            "_model_name": "DescriptionStyleModel",
            "_view_count": null,
            "_view_module": "@jupyter-widgets/base",
            "_view_module_version": "1.2.0",
            "_view_name": "StyleView",
            "description_width": ""
          }
        },
        "ba40ec689b6c45109929a10957ad33e5": {
          "model_module": "@jupyter-widgets/controls",
          "model_module_version": "1.5.0",
          "model_name": "HBoxModel",
          "state": {
            "_dom_classes": [],
            "_model_module": "@jupyter-widgets/controls",
            "_model_module_version": "1.5.0",
            "_model_name": "HBoxModel",
            "_view_count": null,
            "_view_module": "@jupyter-widgets/controls",
            "_view_module_version": "1.5.0",
            "_view_name": "HBoxView",
            "box_style": "",
            "children": [
              "IPY_MODEL_3fbf7458baf746cf823568bce66c9afc",
              "IPY_MODEL_154e8585117a4b4bad440011b1ff0fdc",
              "IPY_MODEL_ff75f4743fd14c31ac27beb23b08f8a5"
            ],
            "layout": "IPY_MODEL_578cd9254e354bb2ad14f8d1ef80e50d"
          }
        },
        "be78d6cacf53415480f1ec62f19de7bd": {
          "model_module": "@jupyter-widgets/base",
          "model_module_version": "1.2.0",
          "model_name": "LayoutModel",
          "state": {
            "_model_module": "@jupyter-widgets/base",
            "_model_module_version": "1.2.0",
            "_model_name": "LayoutModel",
            "_view_count": null,
            "_view_module": "@jupyter-widgets/base",
            "_view_module_version": "1.2.0",
            "_view_name": "LayoutView",
            "align_content": null,
            "align_items": null,
            "align_self": null,
            "border": null,
            "bottom": null,
            "display": null,
            "flex": null,
            "flex_flow": null,
            "grid_area": null,
            "grid_auto_columns": null,
            "grid_auto_flow": null,
            "grid_auto_rows": null,
            "grid_column": null,
            "grid_gap": null,
            "grid_row": null,
            "grid_template_areas": null,
            "grid_template_columns": null,
            "grid_template_rows": null,
            "height": null,
            "justify_content": null,
            "justify_items": null,
            "left": null,
            "margin": null,
            "max_height": null,
            "max_width": null,
            "min_height": null,
            "min_width": null,
            "object_fit": null,
            "object_position": null,
            "order": null,
            "overflow": null,
            "overflow_x": null,
            "overflow_y": null,
            "padding": null,
            "right": null,
            "top": null,
            "visibility": null,
            "width": null
          }
        },
        "c12c0e4a0bcd42d6816fe24cbbef4d20": {
          "model_module": "@jupyter-widgets/controls",
          "model_module_version": "1.5.0",
          "model_name": "DescriptionStyleModel",
          "state": {
            "_model_module": "@jupyter-widgets/controls",
            "_model_module_version": "1.5.0",
            "_model_name": "DescriptionStyleModel",
            "_view_count": null,
            "_view_module": "@jupyter-widgets/base",
            "_view_module_version": "1.2.0",
            "_view_name": "StyleView",
            "description_width": ""
          }
        },
        "c5e4ea82d11445c5bb800df29d33d9aa": {
          "model_module": "@jupyter-widgets/base",
          "model_module_version": "1.2.0",
          "model_name": "LayoutModel",
          "state": {
            "_model_module": "@jupyter-widgets/base",
            "_model_module_version": "1.2.0",
            "_model_name": "LayoutModel",
            "_view_count": null,
            "_view_module": "@jupyter-widgets/base",
            "_view_module_version": "1.2.0",
            "_view_name": "LayoutView",
            "align_content": null,
            "align_items": null,
            "align_self": null,
            "border": null,
            "bottom": null,
            "display": null,
            "flex": null,
            "flex_flow": null,
            "grid_area": null,
            "grid_auto_columns": null,
            "grid_auto_flow": null,
            "grid_auto_rows": null,
            "grid_column": null,
            "grid_gap": null,
            "grid_row": null,
            "grid_template_areas": null,
            "grid_template_columns": null,
            "grid_template_rows": null,
            "height": null,
            "justify_content": null,
            "justify_items": null,
            "left": null,
            "margin": null,
            "max_height": null,
            "max_width": null,
            "min_height": null,
            "min_width": null,
            "object_fit": null,
            "object_position": null,
            "order": null,
            "overflow": null,
            "overflow_x": null,
            "overflow_y": null,
            "padding": null,
            "right": null,
            "top": null,
            "visibility": null,
            "width": null
          }
        },
        "c751560d102e49b6a973f4c1da2bdfb1": {
          "model_module": "@jupyter-widgets/controls",
          "model_module_version": "1.5.0",
          "model_name": "HTMLModel",
          "state": {
            "_dom_classes": [],
            "_model_module": "@jupyter-widgets/controls",
            "_model_module_version": "1.5.0",
            "_model_name": "HTMLModel",
            "_view_count": null,
            "_view_module": "@jupyter-widgets/controls",
            "_view_module_version": "1.5.0",
            "_view_name": "HTMLView",
            "description": "",
            "description_tooltip": null,
            "layout": "IPY_MODEL_ae93a34b4bf344d091e2fc88f9996e43",
            "placeholder": "​",
            "style": "IPY_MODEL_b769750998214814a8cf13b3cb870ac5",
            "value": " 120000/120000 [00:18&lt;00:00, 25263.53 examples/s]"
          }
        },
        "c82efa1c5c5e4288a0855446debcc08a": {
          "model_module": "@jupyter-widgets/base",
          "model_module_version": "1.2.0",
          "model_name": "LayoutModel",
          "state": {
            "_model_module": "@jupyter-widgets/base",
            "_model_module_version": "1.2.0",
            "_model_name": "LayoutModel",
            "_view_count": null,
            "_view_module": "@jupyter-widgets/base",
            "_view_module_version": "1.2.0",
            "_view_name": "LayoutView",
            "align_content": null,
            "align_items": null,
            "align_self": null,
            "border": null,
            "bottom": null,
            "display": null,
            "flex": null,
            "flex_flow": null,
            "grid_area": null,
            "grid_auto_columns": null,
            "grid_auto_flow": null,
            "grid_auto_rows": null,
            "grid_column": null,
            "grid_gap": null,
            "grid_row": null,
            "grid_template_areas": null,
            "grid_template_columns": null,
            "grid_template_rows": null,
            "height": null,
            "justify_content": null,
            "justify_items": null,
            "left": null,
            "margin": null,
            "max_height": null,
            "max_width": null,
            "min_height": null,
            "min_width": null,
            "object_fit": null,
            "object_position": null,
            "order": null,
            "overflow": null,
            "overflow_x": null,
            "overflow_y": null,
            "padding": null,
            "right": null,
            "top": null,
            "visibility": null,
            "width": null
          }
        },
        "c948424374a2453ea5b8ccedfeb19955": {
          "model_module": "@jupyter-widgets/base",
          "model_module_version": "1.2.0",
          "model_name": "LayoutModel",
          "state": {
            "_model_module": "@jupyter-widgets/base",
            "_model_module_version": "1.2.0",
            "_model_name": "LayoutModel",
            "_view_count": null,
            "_view_module": "@jupyter-widgets/base",
            "_view_module_version": "1.2.0",
            "_view_name": "LayoutView",
            "align_content": null,
            "align_items": null,
            "align_self": null,
            "border": null,
            "bottom": null,
            "display": null,
            "flex": null,
            "flex_flow": null,
            "grid_area": null,
            "grid_auto_columns": null,
            "grid_auto_flow": null,
            "grid_auto_rows": null,
            "grid_column": null,
            "grid_gap": null,
            "grid_row": null,
            "grid_template_areas": null,
            "grid_template_columns": null,
            "grid_template_rows": null,
            "height": null,
            "justify_content": null,
            "justify_items": null,
            "left": null,
            "margin": null,
            "max_height": null,
            "max_width": null,
            "min_height": null,
            "min_width": null,
            "object_fit": null,
            "object_position": null,
            "order": null,
            "overflow": null,
            "overflow_x": null,
            "overflow_y": null,
            "padding": null,
            "right": null,
            "top": null,
            "visibility": null,
            "width": null
          }
        },
        "ca0b18032d974bb2921f9bf830aaa42b": {
          "model_module": "@jupyter-widgets/controls",
          "model_module_version": "1.5.0",
          "model_name": "HTMLModel",
          "state": {
            "_dom_classes": [],
            "_model_module": "@jupyter-widgets/controls",
            "_model_module_version": "1.5.0",
            "_model_name": "HTMLModel",
            "_view_count": null,
            "_view_module": "@jupyter-widgets/controls",
            "_view_module_version": "1.5.0",
            "_view_name": "HTMLView",
            "description": "",
            "description_tooltip": null,
            "layout": "IPY_MODEL_f5c9929596fc4841b97cd86f4c386098",
            "placeholder": "​",
            "style": "IPY_MODEL_68e6b49b8bbc4538ad6be6b47263fa58",
            "value": "Downloading metadata: 100%"
          }
        },
        "ca4020ce8d3a4a70a59ef167d33f7661": {
          "model_module": "@jupyter-widgets/base",
          "model_module_version": "1.2.0",
          "model_name": "LayoutModel",
          "state": {
            "_model_module": "@jupyter-widgets/base",
            "_model_module_version": "1.2.0",
            "_model_name": "LayoutModel",
            "_view_count": null,
            "_view_module": "@jupyter-widgets/base",
            "_view_module_version": "1.2.0",
            "_view_name": "LayoutView",
            "align_content": null,
            "align_items": null,
            "align_self": null,
            "border": null,
            "bottom": null,
            "display": null,
            "flex": null,
            "flex_flow": null,
            "grid_area": null,
            "grid_auto_columns": null,
            "grid_auto_flow": null,
            "grid_auto_rows": null,
            "grid_column": null,
            "grid_gap": null,
            "grid_row": null,
            "grid_template_areas": null,
            "grid_template_columns": null,
            "grid_template_rows": null,
            "height": null,
            "justify_content": null,
            "justify_items": null,
            "left": null,
            "margin": null,
            "max_height": null,
            "max_width": null,
            "min_height": null,
            "min_width": null,
            "object_fit": null,
            "object_position": null,
            "order": null,
            "overflow": null,
            "overflow_x": null,
            "overflow_y": null,
            "padding": null,
            "right": null,
            "top": null,
            "visibility": null,
            "width": null
          }
        },
        "cb21e329a934431e884fd180549e1566": {
          "model_module": "@jupyter-widgets/controls",
          "model_module_version": "1.5.0",
          "model_name": "FloatProgressModel",
          "state": {
            "_dom_classes": [],
            "_model_module": "@jupyter-widgets/controls",
            "_model_module_version": "1.5.0",
            "_model_name": "FloatProgressModel",
            "_view_count": null,
            "_view_module": "@jupyter-widgets/controls",
            "_view_module_version": "1.5.0",
            "_view_name": "ProgressView",
            "bar_style": "success",
            "description": "",
            "description_tooltip": null,
            "layout": "IPY_MODEL_002b76e4f8e647a99308af772413016b",
            "max": 7946,
            "min": 0,
            "orientation": "horizontal",
            "style": "IPY_MODEL_1e47d1cb472d4b9aba6e12d28e857a77",
            "value": 7946
          }
        },
        "d1f57071c53a4572bdbb14acdf8ef8fa": {
          "model_module": "@jupyter-widgets/controls",
          "model_module_version": "1.5.0",
          "model_name": "HTMLModel",
          "state": {
            "_dom_classes": [],
            "_model_module": "@jupyter-widgets/controls",
            "_model_module_version": "1.5.0",
            "_model_name": "HTMLModel",
            "_view_count": null,
            "_view_module": "@jupyter-widgets/controls",
            "_view_module_version": "1.5.0",
            "_view_name": "HTMLView",
            "description": "",
            "description_tooltip": null,
            "layout": "IPY_MODEL_c5e4ea82d11445c5bb800df29d33d9aa",
            "placeholder": "​",
            "style": "IPY_MODEL_dbf4d27a083d487b9a498ef783942c0a",
            "value": " 29.5M/? [00:00&lt;00:00, 51.8MB/s]"
          }
        },
        "dbf4d27a083d487b9a498ef783942c0a": {
          "model_module": "@jupyter-widgets/controls",
          "model_module_version": "1.5.0",
          "model_name": "DescriptionStyleModel",
          "state": {
            "_model_module": "@jupyter-widgets/controls",
            "_model_module_version": "1.5.0",
            "_model_name": "DescriptionStyleModel",
            "_view_count": null,
            "_view_module": "@jupyter-widgets/base",
            "_view_module_version": "1.2.0",
            "_view_name": "StyleView",
            "description_width": ""
          }
        },
        "df308aba0cd3441fa5e20fa11552fdfa": {
          "model_module": "@jupyter-widgets/controls",
          "model_module_version": "1.5.0",
          "model_name": "FloatProgressModel",
          "state": {
            "_dom_classes": [],
            "_model_module": "@jupyter-widgets/controls",
            "_model_module_version": "1.5.0",
            "_model_name": "FloatProgressModel",
            "_view_count": null,
            "_view_module": "@jupyter-widgets/controls",
            "_view_module_version": "1.5.0",
            "_view_name": "ProgressView",
            "bar_style": "success",
            "description": "",
            "description_tooltip": null,
            "layout": "IPY_MODEL_22c4ed48119e42a2b7ab103c69f18921",
            "max": 751209,
            "min": 0,
            "orientation": "horizontal",
            "style": "IPY_MODEL_9c85259f0a7948a19c03cbb05f5e1232",
            "value": 751209
          }
        },
        "ee14dc4b0ec24179b6582c6b39442068": {
          "model_module": "@jupyter-widgets/controls",
          "model_module_version": "1.5.0",
          "model_name": "FloatProgressModel",
          "state": {
            "_dom_classes": [],
            "_model_module": "@jupyter-widgets/controls",
            "_model_module_version": "1.5.0",
            "_model_name": "FloatProgressModel",
            "_view_count": null,
            "_view_module": "@jupyter-widgets/controls",
            "_view_module_version": "1.5.0",
            "_view_name": "ProgressView",
            "bar_style": "success",
            "description": "",
            "description_tooltip": null,
            "layout": "IPY_MODEL_7fdb552573d54bc7900fa5fcc7cddce6",
            "max": 2653,
            "min": 0,
            "orientation": "horizontal",
            "style": "IPY_MODEL_398f9371e9a942f289d54eca173ec135",
            "value": 2653
          }
        },
        "f2e6e0e53ae84c5489071652d0b6dd8b": {
          "model_module": "@jupyter-widgets/base",
          "model_module_version": "1.2.0",
          "model_name": "LayoutModel",
          "state": {
            "_model_module": "@jupyter-widgets/base",
            "_model_module_version": "1.2.0",
            "_model_name": "LayoutModel",
            "_view_count": null,
            "_view_module": "@jupyter-widgets/base",
            "_view_module_version": "1.2.0",
            "_view_name": "LayoutView",
            "align_content": null,
            "align_items": null,
            "align_self": null,
            "border": null,
            "bottom": null,
            "display": null,
            "flex": null,
            "flex_flow": null,
            "grid_area": null,
            "grid_auto_columns": null,
            "grid_auto_flow": null,
            "grid_auto_rows": null,
            "grid_column": null,
            "grid_gap": null,
            "grid_row": null,
            "grid_template_areas": null,
            "grid_template_columns": null,
            "grid_template_rows": null,
            "height": null,
            "justify_content": null,
            "justify_items": null,
            "left": null,
            "margin": null,
            "max_height": null,
            "max_width": null,
            "min_height": null,
            "min_width": null,
            "object_fit": null,
            "object_position": null,
            "order": null,
            "overflow": null,
            "overflow_x": null,
            "overflow_y": null,
            "padding": null,
            "right": null,
            "top": null,
            "visibility": null,
            "width": null
          }
        },
        "f303ba143ea34f11883ef8e8722d9ae4": {
          "model_module": "@jupyter-widgets/controls",
          "model_module_version": "1.5.0",
          "model_name": "ProgressStyleModel",
          "state": {
            "_model_module": "@jupyter-widgets/controls",
            "_model_module_version": "1.5.0",
            "_model_name": "ProgressStyleModel",
            "_view_count": null,
            "_view_module": "@jupyter-widgets/base",
            "_view_module_version": "1.2.0",
            "_view_name": "StyleView",
            "bar_color": null,
            "description_width": ""
          }
        },
        "f37f2055ad9a44828ad122a8d0846557": {
          "model_module": "@jupyter-widgets/controls",
          "model_module_version": "1.5.0",
          "model_name": "HBoxModel",
          "state": {
            "_dom_classes": [],
            "_model_module": "@jupyter-widgets/controls",
            "_model_module_version": "1.5.0",
            "_model_name": "HBoxModel",
            "_view_count": null,
            "_view_module": "@jupyter-widgets/controls",
            "_view_module_version": "1.5.0",
            "_view_name": "HBoxView",
            "box_style": "",
            "children": [
              "IPY_MODEL_23a6413a57b6475e9a7313d8d6b50b06",
              "IPY_MODEL_1cf8c343547549a99f379a8f81ed28d8",
              "IPY_MODEL_8ed1fae6172d43509fe339ccae8e8191"
            ],
            "layout": "IPY_MODEL_fcb47c94aa1c4c95980a3f71fd98b5c4"
          }
        },
        "f3dc1106922c47459d057771b0e727cf": {
          "model_module": "@jupyter-widgets/controls",
          "model_module_version": "1.5.0",
          "model_name": "HTMLModel",
          "state": {
            "_dom_classes": [],
            "_model_module": "@jupyter-widgets/controls",
            "_model_module_version": "1.5.0",
            "_model_name": "HTMLModel",
            "_view_count": null,
            "_view_module": "@jupyter-widgets/controls",
            "_view_module_version": "1.5.0",
            "_view_name": "HTMLView",
            "description": "",
            "description_tooltip": null,
            "layout": "IPY_MODEL_2af27e5ca07744249ffc284ec7bb496e",
            "placeholder": "​",
            "style": "IPY_MODEL_f474c07af8a44beea592f916ea9b309e",
            "value": " 7.95k/7.95k [00:00&lt;00:00, 355kB/s]"
          }
        },
        "f474c07af8a44beea592f916ea9b309e": {
          "model_module": "@jupyter-widgets/controls",
          "model_module_version": "1.5.0",
          "model_name": "DescriptionStyleModel",
          "state": {
            "_model_module": "@jupyter-widgets/controls",
            "_model_module_version": "1.5.0",
            "_model_name": "DescriptionStyleModel",
            "_view_count": null,
            "_view_module": "@jupyter-widgets/base",
            "_view_module_version": "1.2.0",
            "_view_name": "StyleView",
            "description_width": ""
          }
        },
        "f5c9929596fc4841b97cd86f4c386098": {
          "model_module": "@jupyter-widgets/base",
          "model_module_version": "1.2.0",
          "model_name": "LayoutModel",
          "state": {
            "_model_module": "@jupyter-widgets/base",
            "_model_module_version": "1.2.0",
            "_model_name": "LayoutModel",
            "_view_count": null,
            "_view_module": "@jupyter-widgets/base",
            "_view_module_version": "1.2.0",
            "_view_name": "LayoutView",
            "align_content": null,
            "align_items": null,
            "align_self": null,
            "border": null,
            "bottom": null,
            "display": null,
            "flex": null,
            "flex_flow": null,
            "grid_area": null,
            "grid_auto_columns": null,
            "grid_auto_flow": null,
            "grid_auto_rows": null,
            "grid_column": null,
            "grid_gap": null,
            "grid_row": null,
            "grid_template_areas": null,
            "grid_template_columns": null,
            "grid_template_rows": null,
            "height": null,
            "justify_content": null,
            "justify_items": null,
            "left": null,
            "margin": null,
            "max_height": null,
            "max_width": null,
            "min_height": null,
            "min_width": null,
            "object_fit": null,
            "object_position": null,
            "order": null,
            "overflow": null,
            "overflow_x": null,
            "overflow_y": null,
            "padding": null,
            "right": null,
            "top": null,
            "visibility": null,
            "width": null
          }
        },
        "f6dedeca904f4d5488e65243d593f6d4": {
          "model_module": "@jupyter-widgets/controls",
          "model_module_version": "1.5.0",
          "model_name": "HTMLModel",
          "state": {
            "_dom_classes": [],
            "_model_module": "@jupyter-widgets/controls",
            "_model_module_version": "1.5.0",
            "_model_name": "HTMLModel",
            "_view_count": null,
            "_view_module": "@jupyter-widgets/controls",
            "_view_module_version": "1.5.0",
            "_view_name": "HTMLView",
            "description": "",
            "description_tooltip": null,
            "layout": "IPY_MODEL_58efeb571d9e454184cfe899f806f10e",
            "placeholder": "​",
            "style": "IPY_MODEL_492548d77fc648f4a6ac677bd2c3954a",
            "value": " 1.86M/? [00:00&lt;00:00, 18.6MB/s]"
          }
        },
        "f7e889ca723c49eaa381bf0376ce1212": {
          "model_module": "@jupyter-widgets/controls",
          "model_module_version": "1.5.0",
          "model_name": "DescriptionStyleModel",
          "state": {
            "_model_module": "@jupyter-widgets/controls",
            "_model_module_version": "1.5.0",
            "_model_name": "DescriptionStyleModel",
            "_view_count": null,
            "_view_module": "@jupyter-widgets/base",
            "_view_module_version": "1.2.0",
            "_view_name": "StyleView",
            "description_width": ""
          }
        },
        "f8903fa5b31b47f1a078bfe13745512f": {
          "model_module": "@jupyter-widgets/base",
          "model_module_version": "1.2.0",
          "model_name": "LayoutModel",
          "state": {
            "_model_module": "@jupyter-widgets/base",
            "_model_module_version": "1.2.0",
            "_model_name": "LayoutModel",
            "_view_count": null,
            "_view_module": "@jupyter-widgets/base",
            "_view_module_version": "1.2.0",
            "_view_name": "LayoutView",
            "align_content": null,
            "align_items": null,
            "align_self": null,
            "border": null,
            "bottom": null,
            "display": null,
            "flex": null,
            "flex_flow": null,
            "grid_area": null,
            "grid_auto_columns": null,
            "grid_auto_flow": null,
            "grid_auto_rows": null,
            "grid_column": null,
            "grid_gap": null,
            "grid_row": null,
            "grid_template_areas": null,
            "grid_template_columns": null,
            "grid_template_rows": null,
            "height": null,
            "justify_content": null,
            "justify_items": null,
            "left": null,
            "margin": null,
            "max_height": null,
            "max_width": null,
            "min_height": null,
            "min_width": null,
            "object_fit": null,
            "object_position": null,
            "order": null,
            "overflow": null,
            "overflow_x": null,
            "overflow_y": null,
            "padding": null,
            "right": null,
            "top": null,
            "visibility": null,
            "width": null
          }
        },
        "f980433c49e444f7b45b761f9fe24a11": {
          "model_module": "@jupyter-widgets/controls",
          "model_module_version": "1.5.0",
          "model_name": "DescriptionStyleModel",
          "state": {
            "_model_module": "@jupyter-widgets/controls",
            "_model_module_version": "1.5.0",
            "_model_name": "DescriptionStyleModel",
            "_view_count": null,
            "_view_module": "@jupyter-widgets/base",
            "_view_module_version": "1.2.0",
            "_view_name": "StyleView",
            "description_width": ""
          }
        },
        "fb68c19718bd4f39bed6669ebebd6e58": {
          "model_module": "@jupyter-widgets/base",
          "model_module_version": "1.2.0",
          "model_name": "LayoutModel",
          "state": {
            "_model_module": "@jupyter-widgets/base",
            "_model_module_version": "1.2.0",
            "_model_name": "LayoutModel",
            "_view_count": null,
            "_view_module": "@jupyter-widgets/base",
            "_view_module_version": "1.2.0",
            "_view_name": "LayoutView",
            "align_content": null,
            "align_items": null,
            "align_self": null,
            "border": null,
            "bottom": null,
            "display": null,
            "flex": null,
            "flex_flow": null,
            "grid_area": null,
            "grid_auto_columns": null,
            "grid_auto_flow": null,
            "grid_auto_rows": null,
            "grid_column": null,
            "grid_gap": null,
            "grid_row": null,
            "grid_template_areas": null,
            "grid_template_columns": null,
            "grid_template_rows": null,
            "height": null,
            "justify_content": null,
            "justify_items": null,
            "left": null,
            "margin": null,
            "max_height": null,
            "max_width": null,
            "min_height": null,
            "min_width": null,
            "object_fit": null,
            "object_position": null,
            "order": null,
            "overflow": null,
            "overflow_x": null,
            "overflow_y": null,
            "padding": null,
            "right": null,
            "top": null,
            "visibility": null,
            "width": null
          }
        },
        "fcb47c94aa1c4c95980a3f71fd98b5c4": {
          "model_module": "@jupyter-widgets/base",
          "model_module_version": "1.2.0",
          "model_name": "LayoutModel",
          "state": {
            "_model_module": "@jupyter-widgets/base",
            "_model_module_version": "1.2.0",
            "_model_name": "LayoutModel",
            "_view_count": null,
            "_view_module": "@jupyter-widgets/base",
            "_view_module_version": "1.2.0",
            "_view_name": "LayoutView",
            "align_content": null,
            "align_items": null,
            "align_self": null,
            "border": null,
            "bottom": null,
            "display": null,
            "flex": null,
            "flex_flow": null,
            "grid_area": null,
            "grid_auto_columns": null,
            "grid_auto_flow": null,
            "grid_auto_rows": null,
            "grid_column": null,
            "grid_gap": null,
            "grid_row": null,
            "grid_template_areas": null,
            "grid_template_columns": null,
            "grid_template_rows": null,
            "height": null,
            "justify_content": null,
            "justify_items": null,
            "left": null,
            "margin": null,
            "max_height": null,
            "max_width": null,
            "min_height": null,
            "min_width": null,
            "object_fit": null,
            "object_position": null,
            "order": null,
            "overflow": null,
            "overflow_x": null,
            "overflow_y": null,
            "padding": null,
            "right": null,
            "top": null,
            "visibility": "hidden",
            "width": null
          }
        },
        "fe80688b1cbd47f7adfba0397d49d8fb": {
          "model_module": "@jupyter-widgets/controls",
          "model_module_version": "1.5.0",
          "model_name": "HBoxModel",
          "state": {
            "_dom_classes": [],
            "_model_module": "@jupyter-widgets/controls",
            "_model_module_version": "1.5.0",
            "_model_name": "HBoxModel",
            "_view_count": null,
            "_view_module": "@jupyter-widgets/controls",
            "_view_module_version": "1.5.0",
            "_view_name": "HBoxView",
            "box_style": "",
            "children": [
              "IPY_MODEL_6b613749237742d1b41c14e4dcad4f2a",
              "IPY_MODEL_df308aba0cd3441fa5e20fa11552fdfa",
              "IPY_MODEL_f6dedeca904f4d5488e65243d593f6d4"
            ],
            "layout": "IPY_MODEL_7725bcb49cc5421f815b93fab98ae693"
          }
        },
        "ff75f4743fd14c31ac27beb23b08f8a5": {
          "model_module": "@jupyter-widgets/controls",
          "model_module_version": "1.5.0",
          "model_name": "HTMLModel",
          "state": {
            "_dom_classes": [],
            "_model_module": "@jupyter-widgets/controls",
            "_model_module_version": "1.5.0",
            "_model_name": "HTMLModel",
            "_view_count": null,
            "_view_module": "@jupyter-widgets/controls",
            "_view_module_version": "1.5.0",
            "_view_name": "HTMLView",
            "description": "",
            "description_tooltip": null,
            "layout": "IPY_MODEL_469fc432e3f84fd580149721b59122fd",
            "placeholder": "​",
            "style": "IPY_MODEL_8b19fcd811a24eb8af21749343f88657",
            "value": " 4.06k/4.06k [00:00&lt;00:00, 130kB/s]"
          }
        }
      }
    }
  },
  "nbformat": 4,
  "nbformat_minor": 0
}
