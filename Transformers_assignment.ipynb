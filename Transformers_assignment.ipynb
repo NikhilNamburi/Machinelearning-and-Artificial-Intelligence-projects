{
  "cells": [
    {
      "cell_type": "markdown",
      "metadata": {
        "id": "OmyRmAWwnl1D"
      },
      "source": [
        "First, import some useful packages and set everything up."
      ]
    },
    {
      "cell_type": "code",
      "execution_count": 1,
      "metadata": {
        "id": "ywg8LEy3nYdR",
        "vscode": {
          "languageId": "python"
        }
      },
      "outputs": [],
      "source": [
        "%matplotlib inline\n",
        "import copy\n",
        "import math\n",
        "import matplotlib.pyplot as plt\n",
        "import numpy as np\n",
        "import os\n",
        "import random\n",
        "import seaborn\n",
        "import torch\n",
        "import torch.nn as nn\n",
        "import unittest\n",
        "\n",
        "def set_seed(seed):  # For reproducibility, fix random seeds.\n",
        "  random.seed(seed)\n",
        "  np.random.seed(seed)\n",
        "  torch.manual_seed(seed)\n",
        "  torch.cuda.manual_seed_all(seed)\n",
        "\n",
        "set_seed(42)"
      ]
    },
    {
      "cell_type": "markdown",
      "metadata": {
        "id": "UgA35QS-oNAG"
      },
      "source": [
        "# Transformer Encoder-Decoder "
      ]
    },
    {
      "cell_type": "markdown",
      "metadata": {
        "id": "2TypLrXrojPF"
      },
      "source": [
        "In this assignment we will implement the Transformer encoder-decoder model proposed in [Attention is All You Need (Vaswani et al., 2017)](https://papers.nips.cc/paper/2017/file/3f5ee243547dee91fbd053c1c4a845aa-Paper.pdf) from scratch. There are multiple components to this model. At a high-level, we need to implement the following.\n",
        "\n",
        "<p align=\"center\">\n",
        "<img src='https://drive.google.com/uc?id=1bTYE71w6mU2fwIGOc0MLdagySvbL8cIs' width=\"300\">\n",
        "</p>\n",
        "\n",
        "1. **Multi-head attention**: Gets query, key, value embeddings and outputs new embeddings (same length as the given query sequence) by splitting them with \"heads\" and attending within each head. Used for self-attention in the encoder, and both self-attention and cross-attention in the decoder, at every layer. \n",
        "2. **Position embeddings**: Attention alone does not provide any information about token positions, so we need to encode them somehow. We will follow the simple approach in the original paper where we \"position\" token embeddings by adding constant (i.e., not learnable) embeddings that are distinct for different positions.\n",
        "3. **Encoder layer**: Each encoder layer receives source embeddings (initially just token embeddings plus position embeddings) and applies a sequence of self-attention, layer normalization, dropout, and nonlinear feedforward transformation in some order. The **encoder** module consists of $L$ ($N$ in the figure) such layers, continuously performing self-attention over previously transformed source embeddings. \n",
        "4. **Decoder layer**: Each decoder layer receives the final source embeddings of the encoder module and $t-1$ target embeddings in history so far, then applies a sequence of self-attention over target embeddings and cross-attention between target embeddings and source embeddings, along with other transformations similarly as in the encoder layer. The **decoder** module consists of $L$ such layers, continuously performing self-attention over previously transformed target embeddings and cross-attention with the final source embeddings. \n",
        "5. **Label-smoothing loss**: Instead of treating next word as the sole correct label, assign some nonzero uniform probabilities to all words, as a way of regularization. \n",
        "6. **Encoder-decoder**: This top module simply wraps the encoder and the decoder modules along with a linear layer $\\mathbb{R}^d \\rightarrow \\mathbb{R}^V$ to compute next word probabilities. The entire model is trained by minimizing the (conditional) per-token cross-entropy loss $J(\\theta) = \\textbf{E}[-\\log p_\\theta(y_t|x, y_1 \\ldots y_{t-1})]$ (with optional label smoothing).\n",
        "7. **Decoding algorithms**: Once the model is trained by cross entropy minimization on source-target sequence pairs, we need a decoding function that takes the trained model and a source sequence then returns a target sequence. As we discussed in class, this search problem is intractable so we will use **beam search** for approximation. \n",
        "\n",
        "It's all conceptually straightforward, but there are too many important details that cannot be understood until we implement the model (e.g., how to parallelize training with masked attention). So let's begin. "
      ]
    },
    {
      "cell_type": "markdown",
      "metadata": {
        "id": "ghNpbkUBxX2g"
      },
      "source": [
        "## Attention"
      ]
    },
    {
      "cell_type": "markdown",
      "metadata": {
        "id": "COpReTuu9B14"
      },
      "source": [
        "We will first implement the scaled dot product, which computes the score of a specific query-key pair $q, k \\in \\mathbb{R}^d$ by: \n",
        "$$\n",
        "(q, k) \\mapsto \\frac{q^\\top k}{\\sqrt{d}}\n",
        "$$\n",
        "And we will implement this in batch, meaning\n",
        "$$\\begin{align*}\n",
        "(q_1 \\ldots q_{T'}, k_1 \\ldots k_T) \\mapsto S \\in \\mathbb{R}^{T' \\times T} && [S]_{t', t} = \\frac{q_{t'}^\\top k_t}{\\sqrt{d}}\n",
        "\\end{align*}$$\n",
        "Here's a cool trick: the input tensors can have arbitrarily many dimensions as long as (1) the final dimension is the embedding dimension, and (2) the pen-ultimate dimension is the length. This will be useful when we do multi-head attention where we split vectors into multiple parts. Also, we will have an option of  <font color=\"red\">masking</font> certain keys, which will be crucial in parallelizing training. The mask will be provided in the form of a matrix $M \\in \\{\\mathrm{TRUE},\\mathrm{FALSE}\\}^{T' \\times T}$ where $[M]_{t' \\times t}$ is true iff query $q_{t'}$ ignores key $k_t$. "
      ]
    },
    {
      "cell_type": "code",
      "execution_count": 2,
      "metadata": {
        "id": "Oy6oJavn2T0h",
        "vscode": {
          "languageId": "python"
        }
      },
      "outputs": [],
      "source": [
        "def scaled_dot(query, key, mask_key=None):  \n",
        "  score = torch.matmul(query, key.transpose(-2, -1))\n",
        "  score /= math.sqrt(query.size(-1))\n",
        "  if mask_key is not None:\n",
        "    score = score.masked_fill(mask_key, -1e18)  # Represents negative infinity\n",
        "  return score"
      ]
    },
    {
      "cell_type": "markdown",
      "metadata": {
        "id": "W7VX0SD2BuC5"
      },
      "source": [
        "Another cool thing is that we can provide mask $M$ with dimensions $1 \\times T$ to mean that all $T'$ queries share the same mask, instead of each query having separate masks. "
      ]
    },
    {
      "cell_type": "code",
      "execution_count": 3,
      "metadata": {
        "colab": {
          "base_uri": "https://localhost:8080/"
        },
        "id": "wEBryG0-CCCb",
        "outputId": "aa71c641-7a70-495f-fba4-a4c54913cb93",
        "vscode": {
          "languageId": "python"
        }
      },
      "outputs": [
        {
          "name": "stdout",
          "output_type": "stream",
          "text": [
            "tensor([[-1.7802e+00, -1.7370e+00,  1.9773e+00, -1.0000e+18, -1.0000e+18],\n",
            "        [-1.8871e-01, -1.2220e-01, -9.1525e-03, -1.0000e+18, -1.0000e+18],\n",
            "        [-1.5998e-01,  2.6194e-01,  2.3366e-01, -1.0000e+18, -1.0000e+18]]) \n",
            "\n",
            "tensor([[-1.7802e+00, -1.7370e+00, -1.0000e+18, -1.0000e+18, -1.0000e+18],\n",
            "        [-1.8871e-01, -1.2220e-01, -9.1525e-03, -1.0000e+18, -1.0000e+18],\n",
            "        [-1.5998e-01,  2.6194e-01,  2.3366e-01,  1.5326e+00, -1.0000e+18]])\n"
          ]
        }
      ],
      "source": [
        "query = torch.randn(3, 10) \n",
        "key = torch.randn(5, 10) \n",
        "\n",
        "mask_key = torch.BoolTensor([[0, 0, 0, 1, 1]])\n",
        "score = scaled_dot(query, key, mask_key=mask_key)\n",
        "print(score, '\\n')\n",
        "\n",
        "mask_key = torch.BoolTensor([[0, 0, 1, 1, 1],\n",
        "                             [0, 0, 0, 1, 1],\n",
        "                             [0, 0, 0, 0, 1]]) \n",
        "score = scaled_dot(query, key, mask_key=mask_key)\n",
        "print(score)"
      ]
    },
    {
      "cell_type": "markdown",
      "metadata": {
        "id": "EFfbyZUXEjyp"
      },
      "source": [
        "We will now implement general attention. Given\n",
        "\n",
        "- query: Last two dimensions $(T', d)$\n",
        "- key: Last two dimensions $(T, d)$\n",
        "- value: Last two dimensions $(T, d_v)$\n",
        "\n",
        "compute \n",
        "\n",
        "- answer: Last two dimensions $(T', d_v)$\n",
        "- attention: Last two dimensions $(T', T)$\n",
        "\n",
        "We will also do attention dropout, meaning *after* computing softmax we apply a dropout layer on probabilities (if not None). This may make the softmax output an invalid distribution, but is found helpful as regularization. "
      ]
    },
    {
      "cell_type": "code",
      "execution_count": 4,
      "metadata": {
        "id": "cJjwIunw2o-y",
        "vscode": {
          "languageId": "python"
        }
      },
      "outputs": [],
      "source": [
        "def attend(query, key, value, mask_key=None, dropout=None):\n",
        "  # TODO: Implement\n",
        "  score = scaled_dot( query, key, mask_key )  # Use scaled_dot, be sure to mask key\n",
        "  attention = torch.nn.functional.softmax( score, dim=-1 )\n",
        "  if dropout is not None:\n",
        "      attention = dropout( attention )\n",
        "  answer = torch.matmul( attention, value )   # Convexly combine value embeddings using attention, this should be just a matrix-matrix multiplication.\n",
        "  return answer, attention"
      ]
    },
    {
      "cell_type": "code",
      "execution_count": 5,
      "metadata": {
        "colab": {
          "base_uri": "https://localhost:8080/"
        },
        "id": "-XdvB7-eKUz2",
        "outputId": "c9ac36f2-1acf-454e-99a1-025df5331b33",
        "vscode": {
          "languageId": "python"
        }
      },
      "outputs": [
        {
          "name": "stderr",
          "output_type": "stream",
          "text": [
            "test_attend (__main__.TestAttention) ... ok\n",
            "\n",
            "----------------------------------------------------------------------\n",
            "Ran 1 test in 0.019s\n",
            "\n",
            "OK\n"
          ]
        },
        {
          "data": {
            "text/plain": [
              "<unittest.main.TestProgram at 0x7f90f79b8ca0>"
            ]
          },
          "execution_count": 5,
          "metadata": {},
          "output_type": "execute_result"
        }
      ],
      "source": [
        "class TestAttention(unittest.TestCase):\n",
        "\n",
        "  def setUp(self):\n",
        "    self.query = torch.FloatTensor([[1, 2, 1],\n",
        "                                    [2, 1, 2]])\n",
        "    self.key = torch.FloatTensor([[1, 1, 1],\n",
        "                                  [0.9, 0.8, 0.8],\n",
        "                                  [1.1, 1.2, 0.9]])\n",
        "    self.value = torch.FloatTensor([[16, 17],\n",
        "                                    [18, 19],\n",
        "                                    [20, 21]])\n",
        "    self.mask_key = torch.BoolTensor([[0, 0, 1],\n",
        "                                      [0, 0, 0]])\n",
        "    self.places = 4\n",
        "      \n",
        "  def test_attend(self):        \n",
        "    answer, attention = attend(self.query, self.key, self.value, self.mask_key)\n",
        "    self.assertAlmostEqual(answer[0, 0].item(), 16.8006, places=self.places)\n",
        "    self.assertAlmostEqual(answer[0, 1].item(), 17.8006, places=self.places)\n",
        "    self.assertAlmostEqual(answer[1, 0].item(), 18.0889, places=self.places)\n",
        "    self.assertAlmostEqual(answer[1, 1].item(), 19.0889, places=self.places)\n",
        "    self.assertAlmostEqual(attention[0, 0].item(), 0.5997, places=self.places)\n",
        "    self.assertAlmostEqual(attention[0, 1].item(), 0.4003, places=self.places)\n",
        "    self.assertAlmostEqual(attention[0, 2].item(), 0.0000, places=self.places)\n",
        "    self.assertAlmostEqual(attention[1, 0].item(), 0.3633, places=self.places)\n",
        "    self.assertAlmostEqual(attention[1, 1].item(), 0.2289, places=self.places)\n",
        "    self.assertAlmostEqual(attention[1, 2].item(), 0.4078, places=self.places)\n",
        "          \n",
        "unittest.main(TestAttention(), argv=[''], verbosity=2, exit=False)"
      ]
    },
    {
      "cell_type": "code",
      "execution_count": 6,
      "metadata": {
        "colab": {
          "base_uri": "https://localhost:8080/",
          "height": 249
        },
        "id": "mC6X2n7s5yd6",
        "outputId": "1496a205-9104-49b0-9e1f-9d32972694b3",
        "vscode": {
          "languageId": "python"
        }
      },
      "outputs": [
        {
          "data": {
            "image/png": "[encoded data removed]",
            "text/plain": [
              "<Figure size 432x288 with 1 Axes>"
            ]
          },
          "metadata": {
            "needs_background": "light"
          },
          "output_type": "display_data"
        }
      ],
      "source": [
        "def draw_attention(attention, x, y, ax=None):  # attention: matrix with probabilities as elements\n",
        "  seaborn.heatmap(attention, xticklabels=x, square=True, yticklabels=y, vmin=0.0, vmax=1.0, cbar=False, ax=ax)\n",
        "\n",
        "query = torch.rand(3, 10)  # Positive values for better visualization\n",
        "key = torch.rand(5, 10) \n",
        "mask_key = torch.BoolTensor([[0, 1, 1, 1, 0],\n",
        "                             [0, 1, 0, 0, 1],\n",
        "                             [1, 0, 0, 0, 1]]) \n",
        "answer, attention = attend(query, key, key, mask_key)\n",
        "draw_attention(attention, list(range(key.size(0))), list(range(query.size(0))))"
      ]
    },
    {
      "cell_type": "markdown",
      "metadata": {
        "id": "sDWn4QUVJo6j"
      },
      "source": [
        "Finally let's implement multi-head attention. This is now a module with learnable parameters. First we will define some helper functions for splitting and merging vectors efficiently. In particular, splitting incurs no new memory allocation, because we simply reshape tensors. "
      ]
    },
    {
      "cell_type": "code",
      "execution_count": 7,
      "metadata": {
        "id": "9HEmSJOiLAk9",
        "vscode": {
          "languageId": "python"
        }
      },
      "outputs": [],
      "source": [
        "def split_heads(batch, num_heads):  \n",
        "  (batch_size, length, dim) = batch.size()  # These are the expected batch dimensions.\n",
        "  assert dim % num_heads == 0  # Assert that dimension is divisible by the number of heads.\n",
        "  dim_head = dim // num_heads\n",
        "\n",
        "  # No new memory allocation\n",
        "  splitted = batch.view(batch_size, -1, num_heads, dim_head).transpose(1, 2)  \n",
        "  return splitted  # (batch_size, num_heads, length, dim_head), note that now the last two dimensions are compatible with our attention functions. "
      ]
    },
    {
      "cell_type": "code",
      "execution_count": 8,
      "metadata": {
        "id": "hKs06zkJMMw-",
        "vscode": {
          "languageId": "python"
        }
      },
      "outputs": [],
      "source": [
        "def merge_heads(batch):  \n",
        "  (batch_size, num_heads, length, dim_head) = batch.size()  # These are the expected batch dimensions.\n",
        "\n",
        "  # New memory allocation (reshape), can't avoid.\n",
        "  merged = batch.transpose(1, 2).reshape(batch_size, -1, num_heads * dim_head)\n",
        "  return merged  # (batch_size, length, dim)"
      ]
    },
    {
      "cell_type": "code",
      "execution_count": 9,
      "metadata": {
        "colab": {
          "base_uri": "https://localhost:8080/"
        },
        "id": "RLXiGKbn0T-J",
        "outputId": "65463460-d22c-47af-8e15-95d425d2855b",
        "vscode": {
          "languageId": "python"
        }
      },
      "outputs": [
        {
          "name": "stdout",
          "output_type": "stream",
          "text": [
            "batch (1, 2, 3) -- 2 embeddings of dimension 3\n",
            "tensor([[[-1.2753, -0.4758,  2.3839],\n",
            "         [ 0.9157, -0.6430,  0.7113]]])\n",
            "\n",
            "splitted (1, 3, 2, 1) -- 3 heads, for each 2 embeddings of dimension 1\n",
            "tensor([[[[-1.2753],\n",
            "          [ 0.9157]],\n",
            "\n",
            "         [[-0.4758],\n",
            "          [-0.6430]],\n",
            "\n",
            "         [[ 2.3839],\n",
            "          [ 0.7113]]]])\n",
            "\n",
            "merged (1, 2, 3)\n",
            "tensor([[[-1.2753, -0.4758,  2.3839],\n",
            "         [ 0.9157, -0.6430,  0.7113]]])\n"
          ]
        }
      ],
      "source": [
        "batch = torch.randn(1, 2, 3)\n",
        "print('batch', tuple(batch.size()), '-- 2 embeddings of dimension 3')\n",
        "print(batch)\n",
        "splitted = split_heads(batch, 3)\n",
        "print('\\nsplitted', tuple(splitted.size()), '-- 3 heads, for each 2 embeddings of dimension 1')\n",
        "print(splitted)\n",
        "merged = merge_heads(splitted)\n",
        "print('\\nmerged', tuple(merged.size()))\n",
        "print(merged)"
      ]
    },
    {
      "cell_type": "markdown",
      "metadata": {
        "id": "z9BSx4Qc2GjQ"
      },
      "source": [
        "The multi-head attention module has a learnable linear layer to transform input for each query/key/value before splitting. As a result, even if we tie inputs (i.e., self-attention) they'll be first \"specialized\" to perform different roles. \n",
        "\n",
        "The forward function has two modes:\n",
        "\n",
        "1. Training: Expects arbitrary query length.\n",
        "2. Stepwise decoding: Expects query length 1. \n",
        "\n",
        "The reason we make this distinction is that in stepwise decoding we provide one query at a time (i.e., the very last token we predicted, or \\<bos\\>), and **we shouldn't recompute past key and value vectors**. So we'll expect a cache that provides these values. \n",
        "\n",
        "We must make one last distinction: is this self-attention or cross-attention? This information is needed only for decoding. We need this because we need to use different key/value caches. \n",
        "\n",
        "- If self-attention, key/value caches are from previous target tokens.\n",
        "- If cross-attention, key/value caches are from source tokens.  \n",
        "\n",
        "But in either case, we assume that the cache contains these embeddings. Note that because Trasformer has multiple layers each with its own multi-head attention module, we will need a separate cache for each layer. This is why we call the cache \"layer_cache\" below. "
      ]
    },
    {
      "cell_type": "code",
      "execution_count": 10,
      "metadata": {
        "id": "jbR2hdDc3Xy8",
        "vscode": {
          "languageId": "python"
        }
      },
      "outputs": [],
      "source": [
        "class MultiHeadAttention(nn.Module):\n",
        "\n",
        "  def __init__(self, dim, num_heads, dropout_rate=0.1):\n",
        "    super().__init__()\n",
        "    assert dim % num_heads == 0\n",
        "\n",
        "    self.linear_query = nn.Linear(dim, dim)\n",
        "    self.linear_key = nn.Linear(dim, dim)\n",
        "    self.linear_value = nn.Linear(dim, dim)\n",
        "    self.linear_final = nn.Linear(dim, dim)\n",
        "    self.dropout = nn.Dropout(dropout_rate)\n",
        "\n",
        "    self.num_heads = num_heads\n",
        "\n",
        "  def forward(self, query, key, value, mask_key=None, layer_cache=None,\n",
        "              memory_attention=False):\n",
        "    \"\"\"\n",
        "    INPUT\n",
        "      query: (batch_size, length_query, dim)\n",
        "      key: (batch_size, length_key, dim)\n",
        "      value: (batch_size, length_key, dim_value)\n",
        "      mask_key: (*, 1, length_key) if queries share the same mask, else\n",
        "                (*, length_query, length_key)\n",
        "      layer_cache: if not None, stepwise decoding (cache of key/value)\n",
        "      memory_attention: doing memory attention in stepwise decoding?\n",
        "    OUTPUT\n",
        "      answer: (batch_size, length_query, dim_value)\n",
        "      attention: (batch_size, num_heads, length_query, length_key) else\n",
        "    \"\"\"\n",
        "    batch_size = query.size(0)\n",
        "\n",
        "    query = self.linear_query(query)\n",
        "    query = split_heads(query, self.num_heads)  # (batch_size, num_heads, -1, dim_head)\n",
        "\n",
        "    def process_key_value(key, value):  # Only called when necessary.\n",
        "      key = self.linear_key(key)\n",
        "      key = split_heads(key, self.num_heads)\n",
        "      value = self.linear_value(value)\n",
        "      value = split_heads(value, self.num_heads)\n",
        "      return key, value\n",
        "\n",
        "    if layer_cache is None:\n",
        "      key, value = process_key_value(key, value)\n",
        "    else:\n",
        "      assert query.size(2) == 1  # Stepwise decoding\n",
        "\n",
        "      if memory_attention:\n",
        "        if layer_cache['memory_key'] is None:  # One-time calculation\n",
        "          key, value = process_key_value(key, value)\n",
        "\n",
        "          # (batch_size, num_heads, length_memory, dim)\n",
        "          layer_cache['memory_key'] = key\n",
        "          layer_cache['memory_value'] = value\n",
        "\n",
        "        key = layer_cache['memory_key']\n",
        "        value = layer_cache['memory_value']\n",
        "\n",
        "      else:  # Self-attention during decoding\n",
        "        key, value = process_key_value(key, value)\n",
        "        assert key.size(2) == 1 and value.size(2) == 1\n",
        "\n",
        "        # Append to previous.\n",
        "        if layer_cache['self_key'] is not None:\n",
        "          key = torch.cat((layer_cache['self_key'], key), dim=2)\n",
        "          value = torch.cat((layer_cache['self_value'], value), dim=2)\n",
        "\n",
        "        # (batch_size, num_heads, length_decoded, dim)\n",
        "        layer_cache['self_key'] = key  # Recache.\n",
        "        layer_cache['self_value'] = value\n",
        "\n",
        "    # Because we've splitted embeddings into heads, we must also split the mask. \n",
        "    # And because each query uses the same mask for all heads (we don't use different masking for different heads), \n",
        "    # we can specify length 1 for the head dimension.\n",
        "    if mask_key is not None:  \n",
        "      mask_key = mask_key.unsqueeze(1)  # (batch_size, 1, -1, length_key)\n",
        "\n",
        "    answer, attention = attend(query, key, value, mask_key, self.dropout)\n",
        "\n",
        "    answer = merge_heads(answer)  # (batch_size, length_key, dim)\n",
        "    answer = self.linear_final(answer)\n",
        "\n",
        "    return answer, attention"
      ]
    },
    {
      "cell_type": "markdown",
      "metadata": {
        "id": "B3-r-_0u-Jge"
      },
      "source": [
        "### Training Illustration"
      ]
    },
    {
      "cell_type": "markdown",
      "metadata": {
        "id": "drMoTMw1-OYT"
      },
      "source": [
        "Before we go any further, let's understand how multi-head attention will be used in each layer inside Transformer. At training time, assuming target sequence $y_1 \\ldots y_{T'}$, we will have $T' + 1$ prediction problems (predict $y_1$ from \\<bos\\>, ..., predict \\<eos\\> from \\<bos\\>, $y_1$, ..., $y_{T'}$). For each of these positions where we make predictions, $0, 1, \\ldots, T'$, we will **mask future positions** like $(1, \\ldots, T')$ for $0$, $(2, \\ldots, T')$ for $1$, etc. "
      ]
    },
    {
      "cell_type": "code",
      "execution_count": 11,
      "metadata": {
        "id": "JFTcT3Tj9iK-",
        "vscode": {
          "languageId": "python"
        }
      },
      "outputs": [],
      "source": [
        "def get_mask_future(num_positions):\n",
        "  return torch.triu(torch.ones(1, num_positions, num_positions), diagonal=1) == 1"
      ]
    },
    {
      "cell_type": "code",
      "execution_count": 12,
      "metadata": {
        "colab": {
          "base_uri": "https://localhost:8080/"
        },
        "id": "wnsCjbcI96dg",
        "outputId": "94b34b22-bba6-404a-d93c-61487639a5f2",
        "vscode": {
          "languageId": "python"
        }
      },
      "outputs": [
        {
          "data": {
            "text/plain": [
              "tensor([[[False,  True,  True,  True,  True],\n",
              "         [False, False,  True,  True,  True],\n",
              "         [False, False, False,  True,  True],\n",
              "         [False, False, False, False,  True],\n",
              "         [False, False, False, False, False]]])"
            ]
          },
          "execution_count": 12,
          "metadata": {},
          "output_type": "execute_result"
        }
      ],
      "source": [
        "get_mask_future(5)"
      ]
    },
    {
      "cell_type": "markdown",
      "metadata": {
        "id": "CesIMyPW_8nm"
      },
      "source": [
        "During training, we don't need to provide any layer cache. So self-attention on the encoder side will look like this. "
      ]
    },
    {
      "cell_type": "code",
      "execution_count": 13,
      "metadata": {
        "id": "K2a7YELM8dJh",
        "vscode": {
          "languageId": "python"
        }
      },
      "outputs": [],
      "source": [
        "source = torch.randn(1, 2, 2)  # 2 embs, 2 dims each\n",
        "attn_enc_layer = MultiHeadAttention(2, 2, dropout_rate=0)  # 2 heads, 1 dim each\n",
        "answer, _ = attn_enc_layer(source, source, source)  # No need to mask future "
      ]
    },
    {
      "cell_type": "markdown",
      "metadata": {
        "id": "bNZtFyccAuXb"
      },
      "source": [
        "Self-attention on the decoder side will look like this. "
      ]
    },
    {
      "cell_type": "code",
      "execution_count": 14,
      "metadata": {
        "colab": {
          "base_uri": "https://localhost:8080/"
        },
        "id": "vZiBp7diAy8n",
        "outputId": "718df78c-0151-4aa0-c485-7eb646f6ea4b",
        "vscode": {
          "languageId": "python"
        }
      },
      "outputs": [
        {
          "name": "stdout",
          "output_type": "stream",
          "text": [
            "tensor([[[[1.0000, 0.0000, 0.0000],\n",
            "          [0.5310, 0.4690, 0.0000],\n",
            "          [0.3330, 0.3914, 0.2757]],\n",
            "\n",
            "         [[1.0000, 0.0000, 0.0000],\n",
            "          [0.5020, 0.4980, 0.0000],\n",
            "          [0.1898, 0.3055, 0.5047]]]], grad_fn=<SoftmaxBackward0>)\n"
          ]
        }
      ],
      "source": [
        "target = torch.randn(1, 3, 2)  # 3 embs, 2 dims each. Last emb is predicting <eos>.\n",
        "attn_dec_layer = MultiHeadAttention(2, 2, dropout_rate=0)  # 3 heads, 1 dim each\n",
        "mask = get_mask_future(3)\n",
        "answer, attention = attn_dec_layer(target, target, target, mask)  # Mask (2, 3), (3), () for the three positions.\n",
        "print(attention)  # *Each* of the 2 heads will have its own 3 x 3 attention map, appropriately masked. "
      ]
    },
    {
      "cell_type": "markdown",
      "metadata": {
        "id": "H26mXaV9BvaG"
      },
      "source": [
        "Cross-attention on the decoder side will look like this. "
      ]
    },
    {
      "cell_type": "code",
      "execution_count": 15,
      "metadata": {
        "id": "rgOAjCtlBzP5",
        "vscode": {
          "languageId": "python"
        }
      },
      "outputs": [],
      "source": [
        "answer, attention = attn_dec_layer(target, source, source)  # Note target is querying source now, no future mask needed."
      ]
    },
    {
      "cell_type": "markdown",
      "metadata": {
        "id": "-GQHpYcqCmHR"
      },
      "source": [
        "### Stepwise Decoding Illustration"
      ]
    },
    {
      "cell_type": "markdown",
      "metadata": {
        "id": "jHWJVeOcCqJe"
      },
      "source": [
        "We indicate that this is decoding by passing an empty cache (not None), initially empty. It'll be filled by computing values only once, and then next time retrieving them instead of recomputing."
      ]
    },
    {
      "cell_type": "code",
      "execution_count": 16,
      "metadata": {
        "colab": {
          "base_uri": "https://localhost:8080/"
        },
        "id": "NI8s_w2sF5TS",
        "outputId": "2bde147d-6a64-41b5-d64f-3a6fc5bcbea7",
        "vscode": {
          "languageId": "python"
        }
      },
      "outputs": [
        {
          "name": "stdout",
          "output_type": "stream",
          "text": [
            "Initial cache:\n",
            "\n",
            "Cache after self-attention in prediction from <bos>:\n",
            "self_key (1, 2, 1, 1)\n",
            "self_value (1, 2, 1, 1)\n",
            "\n",
            "Cache after cross-attention in prediction from <bos>:\n",
            "memory_key (1, 2, 2, 1)\n",
            "memory_value (1, 2, 2, 1)\n",
            "self_key (1, 2, 1, 1)\n",
            "self_value (1, 2, 1, 1)\n",
            "\n",
            "Cache after self-attention in prediction from y1 (note we have expanded self key/value cache):\n",
            "memory_key (1, 2, 2, 1)\n",
            "memory_value (1, 2, 2, 1)\n",
            "self_key (1, 2, 2, 1)\n",
            "self_value (1, 2, 2, 1)\n",
            "\n",
            "Cache after cross-attention in prediction from y1:\n",
            "memory_key (1, 2, 2, 1)\n",
            "memory_value (1, 2, 2, 1)\n",
            "self_key (1, 2, 2, 1)\n",
            "self_value (1, 2, 2, 1)\n"
          ]
        }
      ],
      "source": [
        "def print_cache(cache):\n",
        "  for k, v in cache.items():\n",
        "    if v is not None:\n",
        "      print(k, tuple(v.size()))\n",
        "\n",
        "layer_cache = {'memory_key': None, 'memory_value': None, 'self_key': None, 'self_value': None}\n",
        "print('Initial cache:')\n",
        "print_cache(layer_cache)\n",
        "target0 = torch.randn(1, 1, 2)  # <bos> emb\n",
        "attn_dec_layer(target0, target0, target0, layer_cache=layer_cache)  # Decoder self-attention\n",
        "print('\\nCache after self-attention in prediction from <bos>:')\n",
        "print_cache(layer_cache)\n",
        "attn_dec_layer(target0, source, source, layer_cache=layer_cache, memory_attention=True)  # Decoder cross-attention\n",
        "print('\\nCache after cross-attention in prediction from <bos>:')\n",
        "print_cache(layer_cache)\n",
        "target1 = torch.randn(1, 1, 2)  # Emb of first predicted token\n",
        "attn_dec_layer(target1, target1, target1, layer_cache=layer_cache)  # Decoder self-attention\n",
        "print('\\nCache after self-attention in prediction from y1 (note we have expanded self key/value cache):')\n",
        "print_cache(layer_cache)\n",
        "attn_dec_layer(target1, source, source, layer_cache=layer_cache, memory_attention=True)  # Decoder cross-attention\n",
        "print('\\nCache after cross-attention in prediction from y1:')\n",
        "print_cache(layer_cache)\n"
      ]
    },
    {
      "cell_type": "markdown",
      "metadata": {
        "id": "7_1ZLgzTxguE"
      },
      "source": [
        "## Position Embeddings"
      ]
    },
    {
      "cell_type": "markdown",
      "metadata": {
        "id": "CYyqsMRB3rFV"
      },
      "source": [
        "We will define a module that will take initial token embeddings and \"position\" them by adding constant vectors (among other things). The original Transformer paper proposed defining these constant vectors by [sinusoidal waveforms](https://en.wikipedia.org/wiki/Sine_wave) (i.e., sine and cosine values) because they will give us distinct embeddings for all positions. There's a reason for the specific choice of frequencies they use. In their words: \"The wavelengths form a geometric progression from $2\\pi$ to $10000 \\cdot 2\\pi$. We chose this function because we hypothesized it would allow the model to easily learn to attend by relative positions, since for any fixed offset $k$, $PE_{pos+k}$ can be represented as a linear function of $PE_{pos}$\". \n",
        "\n",
        "We will not dwell on the deatils too much, however, since it's become more common to model *relative* positions. See [this paper](https://arxiv.org/pdf/1803.02155.pdf). The idea there is that *absolute* position encodings are not useful for large $t$, so it's better to model relative distances (as edge weights of a graph).\n",
        "\n",
        "One gotcha here is that we must again specify whether this is training or stepwise decoding, because if stepwise decoding we must use look up the correct position embedding. "
      ]
    },
    {
      "cell_type": "code",
      "execution_count": 17,
      "metadata": {
        "id": "B0WIBhHd3rRG",
        "vscode": {
          "languageId": "python"
        }
      },
      "outputs": [],
      "source": [
        "class SinusoidalPositioner(nn.Module):\n",
        "\n",
        "  def __init__(self, dim, drop_rate=0.1, length_max=5000):\n",
        "    super().__init__()\n",
        "    frequency = torch.exp(torch.arange(0, dim, 2) * -(math.log(10000.) / dim))  # Using different frequency for each dim\n",
        "    positions = torch.arange(0, length_max).unsqueeze(1)\n",
        "    wave = torch.zeros(length_max, dim)\n",
        "    wave[:, 0::2] = torch.sin(frequency * positions)\n",
        "    wave[:, 1::2] = torch.cos(frequency * positions)\n",
        "    self.register_buffer('wave', wave.unsqueeze(0))  # (1, length_max, dim)\n",
        "    self.dropout = nn.Dropout(drop_rate)\n",
        "    self.dim = dim\n",
        "    self.length_max = length_max\n",
        "\n",
        "  def forward(self, x, step=-1):\n",
        "    assert x.size(-2) <= self.length_max\n",
        "\n",
        "    if step < 0:  # Take the corresponding leftmost embeddings.\n",
        "      position_encoding = self.wave[:, :x.size(-2), :]\n",
        "    else:  # Take the embedding at the step.\n",
        "      position_encoding = self.wave[:, step, :]\n",
        "\n",
        "    x = x * math.sqrt(self.dim)\n",
        "    return self.dropout(x + position_encoding)\n",
        "\n",
        "positioner = SinusoidalPositioner(4, drop_rate=0., length_max=5)"
      ]
    },
    {
      "cell_type": "code",
      "execution_count": 18,
      "metadata": {
        "colab": {
          "base_uri": "https://localhost:8080/",
          "height": 437
        },
        "id": "VR2GDpc852j3",
        "outputId": "a04b0c48-2814-4cc9-a997-28c3a6a01bc3",
        "vscode": {
          "languageId": "python"
        }
      },
      "outputs": [
        {
          "name": "stdout",
          "output_type": "stream",
          "text": [
            "Precomputed 100 position embeddings of dim 10, first few:\n",
            "tensor([[ 0.0000e+00,  1.0000e+00,  0.0000e+00,  1.0000e+00,  0.0000e+00,\n",
            "          1.0000e+00,  0.0000e+00,  1.0000e+00,  0.0000e+00,  1.0000e+00],\n",
            "        [ 8.4147e-01,  5.4030e-01,  1.5783e-01,  9.8747e-01,  2.5116e-02,\n",
            "          9.9968e-01,  3.9811e-03,  9.9999e-01,  6.3096e-04,  1.0000e+00],\n",
            "        [ 9.0930e-01, -4.1615e-01,  3.1170e-01,  9.5018e-01,  5.0217e-02,\n",
            "          9.9874e-01,  7.9621e-03,  9.9997e-01,  1.2619e-03,  1.0000e+00],\n",
            "        [ 1.4112e-01, -9.8999e-01,  4.5775e-01,  8.8908e-01,  7.5285e-02,\n",
            "          9.9716e-01,  1.1943e-02,  9.9993e-01,  1.8929e-03,  1.0000e+00],\n",
            "        [-7.5680e-01, -6.5364e-01,  5.9234e-01,  8.0569e-01,  1.0031e-01,\n",
            "          9.9496e-01,  1.5924e-02,  9.9987e-01,  2.5238e-03,  1.0000e+00]])\n"
          ]
        },
        {
          "data": {
            "image/png": "[encoded data removed]",
            "text/plain": [
              "<Figure size 1080x360 with 1 Axes>"
            ]
          },
          "metadata": {
            "needs_background": "light"
          },
          "output_type": "display_data"
        }
      ],
      "source": [
        "dim = 10\n",
        "length_max = 100\n",
        "positioner = SinusoidalPositioner(dim, drop_rate=0., length_max=length_max)\n",
        "print('Precomputed %d position embeddings of dim %d, first few:' % (length_max, positioner.dim))\n",
        "print(positioner.wave[0, 0:5, :])\n",
        "plt.figure(figsize=(15, 5))\n",
        "plt.plot(np.arange(length_max), positioner.wave[0, :, 0:4].data.numpy())\n",
        "plt.legend([\"dim %d\"%p for p in [0,1,2,3]])\n",
        "\n",
        "positioned_embeddings = positioner(torch.randn(1, 3, dim))  # Training use case\n",
        "positioned_embedding = positioner(torch.randn(1, 1, dim), step=0)  # Inference use case"
      ]
    },
    {
      "cell_type": "markdown",
      "metadata": {
        "id": "LS198CeuA3CB"
      },
      "source": [
        "Note how offsets are different for even vs odd dimensions, and within each even or odd dimensions how frequencies are different. The position embeddings can alternatively be learned as part of model, but they didn't find much difference and this has the benefit of having fewer parameters to learn."
      ]
    },
    {
      "cell_type": "markdown",
      "metadata": {
        "id": "_VlXk0euxlF-"
      },
      "source": [
        "## Encoder"
      ]
    },
    {
      "cell_type": "markdown",
      "metadata": {
        "id": "fS3dyYF8B5ag"
      },
      "source": [
        "We're almost ready to define the encoder. Now that we have the most important building block of multi-head attention, it's pretty straightforward. The Transformer layer additionally uses a typically quite large nonlinear layer, so let's define that first. Importantly, within each layer, **the same nonlinear layer is applied for all positions**. This parameter sharing is what enables Transformer to handle arbitrary lengths."
      ]
    },
    {
      "cell_type": "code",
      "execution_count": 19,
      "metadata": {
        "id": "OYl2i7Z47j0a",
        "vscode": {
          "languageId": "python"
        }
      },
      "outputs": [],
      "source": [
        "class PositionwiseFeedForward(nn.Module):\n",
        "\n",
        "  def __init__(self, dim, dim_hidden, drop_rate=0.1):\n",
        "    super().__init__()\n",
        "    self.w1 = nn.Linear(dim, dim_hidden)\n",
        "    self.w2 = nn.Linear(dim_hidden, dim)\n",
        "    self.layer_norm = nn.LayerNorm(dim, eps=1e-6)\n",
        "    self.drop1 = nn.Dropout(drop_rate)\n",
        "    self.relu = nn.ReLU()\n",
        "    self.drop2 = nn.Dropout(drop_rate)\n",
        "\n",
        "  def forward(self, x):\n",
        "    inter = self.drop1(self.relu(self.w1(self.layer_norm(x))))\n",
        "    output = self.drop2(self.w2(inter))\n",
        "    return output + x"
      ]
    },
    {
      "cell_type": "markdown",
      "metadata": {
        "id": "MurFz8SUDTb0"
      },
      "source": [
        "As mentioned earlier, each encoder layer uses some combination of feedforward, [layer normalization](https://pytorch.org/docs/stable/generated/torch.nn.LayerNorm.html), dropout, and most importantly multi-head self-attention, along with residual connection to pass along information before computing attention. We will not follow the original paper and apply layer norm first, which is rumored to be a bit more effective. We also pass along a mask. We need a mask even on the source side, because we will be padding source sequence of different lengths and want to ignore padded positions when self-attending."
      ]
    },
    {
      "cell_type": "code",
      "execution_count": 21,
      "metadata": {
        "id": "pNMG3KFU7rYu",
        "vscode": {
          "languageId": "python"
        }
      },
      "outputs": [],
      "source": [
        "class TransformerEncoderLayer(nn.Module):\n",
        "\n",
        "  def __init__(self, dim, num_heads, dim_hidden, drop_rate):\n",
        "    super().__init__()\n",
        "    self.layer_norm = nn.LayerNorm(dim, eps=1e-6)\n",
        "    self.self_attention = MultiHeadAttention(dim, num_heads, drop_rate)\n",
        "    self.drop = nn.Dropout(drop_rate)\n",
        "    self.feedforward = PositionwiseFeedForward(dim, dim_hidden, drop_rate)\n",
        "\n",
        "  def forward(self, source, mask_source=None):\n",
        "    # TODO: Implement\n",
        "    normed = self.layer_norm( source )  # Apply layer norm on source\n",
        "    attended, attention = self.self_attention( normed, normed, normed, mask_source ) # Apply self-attention on normed (be sure to use mask_source).\n",
        "    attended = source + self.drop( attended )  # Re-write attended by applying dropout and adding a residual connection to source.\n",
        "    return self.feedforward(attended), attention"
      ]
    },
    {
      "cell_type": "code",
      "execution_count": 22,
      "metadata": {
        "colab": {
          "base_uri": "https://localhost:8080/"
        },
        "id": "MoFoyguOiqJL",
        "outputId": "2511879c-6b0b-42ad-eafb-20917ee788c1",
        "vscode": {
          "languageId": "python"
        }
      },
      "outputs": [
        {
          "name": "stderr",
          "output_type": "stream",
          "text": [
            "test_forward (__main__.TestTransformerEncoderLayer) ... ok\n",
            "\n",
            "----------------------------------------------------------------------\n",
            "Ran 1 test in 0.028s\n",
            "\n",
            "OK\n"
          ]
        },
        {
          "data": {
            "text/plain": [
              "<unittest.main.TestProgram at 0x7f90f4fef0a0>"
            ]
          },
          "execution_count": 22,
          "metadata": {},
          "output_type": "execute_result"
        }
      ],
      "source": [
        "class TestTransformerEncoderLayer(unittest.TestCase):\n",
        "\n",
        "  def setUp(self):\n",
        "    set_seed(42)\n",
        "    self.encoder_layer = TransformerEncoderLayer(10, 2, 20, 0.1)\n",
        "    self.source = torch.randn(5, 7, 10)\n",
        "    self.mask = torch.FloatTensor(5, 1, 7).uniform_() > 0.5\n",
        "    self.places = 4\n",
        "\n",
        "  def test_forward(self):        \n",
        "    output, attention = self.encoder_layer(self.source, mask_source=self.mask)\n",
        "    self.assertEqual(tuple(output.size()), (5, 7, 10))\n",
        "    self.assertEqual(tuple(attention.size()), (5, 2, 7, 7))\n",
        "    self.assertAlmostEqual(output[0, 0, 0].item(), 0.2916, places=self.places)\n",
        "    self.assertAlmostEqual(attention[0, 0, 0, 0].item(), 0.4997, places=self.places)\n",
        "          \n",
        "unittest.main(TestTransformerEncoderLayer(), argv=[''], verbosity=2, exit=False)"
      ]
    },
    {
      "cell_type": "markdown",
      "metadata": {
        "id": "R_c0wUlvEK9R"
      },
      "source": [
        "The encoder module is simply a stack of encoder layers, which will autoregressively apply self-attention and residual transformation over and over again. "
      ]
    },
    {
      "cell_type": "code",
      "execution_count": 23,
      "metadata": {
        "id": "GIBLGDZfEQJE",
        "vscode": {
          "languageId": "python"
        }
      },
      "outputs": [],
      "source": [
        "class TransformerEncoder(nn.Module):\n",
        "\n",
        "  def __init__(self, dim, num_heads, dim_hidden, drop_rate, num_layers):\n",
        "    super().__init__()\n",
        "    self.layers = nn.ModuleList([TransformerEncoderLayer(dim, num_heads, dim_hidden, drop_rate) for _ in range(num_layers)])\n",
        "    self.layer_norm = nn.LayerNorm(dim, eps=1e-6)\n",
        "\n",
        "  def forward(self, source, mask_source=None):\n",
        "    out = source\n",
        "    self_attentions = []\n",
        "    for layer in self.layers:\n",
        "      out, attention = layer(out, mask_source)\n",
        "      self_attentions.append(attention)\n",
        "    return self.layer_norm(out), self_attentions"
      ]
    },
    {
      "cell_type": "code",
      "execution_count": 24,
      "metadata": {
        "colab": {
          "base_uri": "https://localhost:8080/"
        },
        "id": "4NBLcGNUehQs",
        "outputId": "bfee1c3f-9ef6-4ff8-8ff9-1413bebd55d7",
        "vscode": {
          "languageId": "python"
        }
      },
      "outputs": [
        {
          "name": "stdout",
          "output_type": "stream",
          "text": [
            "TransformerEncoder(\n",
            "  (layers): ModuleList(\n",
            "    (0): TransformerEncoderLayer(\n",
            "      (layer_norm): LayerNorm((100,), eps=1e-06, elementwise_affine=True)\n",
            "      (self_attention): MultiHeadAttention(\n",
            "        (linear_query): Linear(in_features=100, out_features=100, bias=True)\n",
            "        (linear_key): Linear(in_features=100, out_features=100, bias=True)\n",
            "        (linear_value): Linear(in_features=100, out_features=100, bias=True)\n",
            "        (linear_final): Linear(in_features=100, out_features=100, bias=True)\n",
            "        (dropout): Dropout(p=0.1, inplace=False)\n",
            "      )\n",
            "      (drop): Dropout(p=0.1, inplace=False)\n",
            "      (feedforward): PositionwiseFeedForward(\n",
            "        (w1): Linear(in_features=100, out_features=200, bias=True)\n",
            "        (w2): Linear(in_features=200, out_features=100, bias=True)\n",
            "        (layer_norm): LayerNorm((100,), eps=1e-06, elementwise_affine=True)\n",
            "        (drop1): Dropout(p=0.1, inplace=False)\n",
            "        (relu): ReLU()\n",
            "        (drop2): Dropout(p=0.1, inplace=False)\n",
            "      )\n",
            "    )\n",
            "    (1): TransformerEncoderLayer(\n",
            "      (layer_norm): LayerNorm((100,), eps=1e-06, elementwise_affine=True)\n",
            "      (self_attention): MultiHeadAttention(\n",
            "        (linear_query): Linear(in_features=100, out_features=100, bias=True)\n",
            "        (linear_key): Linear(in_features=100, out_features=100, bias=True)\n",
            "        (linear_value): Linear(in_features=100, out_features=100, bias=True)\n",
            "        (linear_final): Linear(in_features=100, out_features=100, bias=True)\n",
            "        (dropout): Dropout(p=0.1, inplace=False)\n",
            "      )\n",
            "      (drop): Dropout(p=0.1, inplace=False)\n",
            "      (feedforward): PositionwiseFeedForward(\n",
            "        (w1): Linear(in_features=100, out_features=200, bias=True)\n",
            "        (w2): Linear(in_features=200, out_features=100, bias=True)\n",
            "        (layer_norm): LayerNorm((100,), eps=1e-06, elementwise_affine=True)\n",
            "        (drop1): Dropout(p=0.1, inplace=False)\n",
            "        (relu): ReLU()\n",
            "        (drop2): Dropout(p=0.1, inplace=False)\n",
            "      )\n",
            "    )\n",
            "  )\n",
            "  (layer_norm): LayerNorm((100,), eps=1e-06, elementwise_affine=True)\n",
            ")\n"
          ]
        }
      ],
      "source": [
        "encoder = TransformerEncoder(100, 5, 200, 0.1, 2)  # Encoder with 2 layers, 5 heads of dim 20, hidden dim 200\n",
        "print(encoder)"
      ]
    },
    {
      "cell_type": "markdown",
      "metadata": {
        "id": "UnVXSJNXxnjv"
      },
      "source": [
        "## Decoder"
      ]
    },
    {
      "cell_type": "markdown",
      "metadata": {
        "id": "CsWXLrqWEtUr"
      },
      "source": [
        "The decoder layer is pretty similar as the encoder layer, meaning it applies attention and residual transformations, except that we have a distinction between self-attention and **cross-attention**. It performs both, so that it captures information from previous targets and also from the source sequence that it conditions on. But they will have separate multi-head attention modules (i.e., separate parameters to learn). \n",
        "\n",
        "We also pass along a layer cache, to be used in each multi-head attention module during stepwise decoding (if not None). We pass along masks for both source (for padding) and target (for future positions during training). "
      ]
    },
    {
      "cell_type": "code",
      "execution_count": 26,
      "metadata": {
        "id": "uWpzM7ENxV-z",
        "vscode": {
          "languageId": "python"
        }
      },
      "outputs": [],
      "source": [
        "class TransformerDecoderLayer(nn.Module):\n",
        "\n",
        "  def __init__(self, dim, num_heads, dim_hidden, drop_rate):\n",
        "    super().__init__()\n",
        "    self.layer_norm1 = nn.LayerNorm(dim, eps=1e-6)\n",
        "    self.self_attention = MultiHeadAttention(dim, num_heads, drop_rate)\n",
        "    self.drop = nn.Dropout(drop_rate)\n",
        "    self.layer_norm2 = nn.LayerNorm(dim, eps=1e-6)\n",
        "    self.context_attention = MultiHeadAttention(dim, num_heads, drop_rate)\n",
        "    self.feedforward = PositionwiseFeedForward(dim, dim_hidden, drop_rate)\n",
        "\n",
        "  def forward(self, target, memory, mask_target, mask_source, layer_cache=None):\n",
        "    normed = self.layer_norm1( target )  # Apply layer_norm1 to target.\n",
        "    query, self_attention = self.self_attention( normed, normed, normed, mask_target, layer_cache, False )  # Apply self-attention on normed (be sure to use mask_target, layer_cache, and set memory_attention correctly).\n",
        "\n",
        "    query = target + self.drop( query )  # Re-write query by applying dropout and adding a residual connection to target.\n",
        "    attended, cross_attention = self.context_attention( self.layer_norm2( query ), memory, memory, mask_source, layer_cache, True )  # Apply cross-attention using **layer_norm2(query)** as query and **memory** as key/value (be sure to use mask_source, layer_cache, and set memory_attention correctly).\n",
        "    attended = query + self.drop( attended )  # Re-write attended by applying dropout and adding a residual connection to query.\n",
        "    return self.feedforward(attended), self_attention, cross_attention"
      ]
    },
    {
      "cell_type": "code",
      "execution_count": 27,
      "metadata": {
        "colab": {
          "base_uri": "https://localhost:8080/"
        },
        "id": "3EUsnEp0it6U",
        "outputId": "9c7ab9fc-a6c7-4699-fb8b-73b734377575",
        "vscode": {
          "languageId": "python"
        }
      },
      "outputs": [
        {
          "name": "stderr",
          "output_type": "stream",
          "text": [
            "test_forward (__main__.TestTransformerDecoderLayer) ... ok\n",
            "\n",
            "----------------------------------------------------------------------\n",
            "Ran 1 test in 0.018s\n",
            "\n",
            "OK\n"
          ]
        },
        {
          "data": {
            "text/plain": [
              "<unittest.main.TestProgram at 0x7f90f79b89d0>"
            ]
          },
          "execution_count": 27,
          "metadata": {},
          "output_type": "execute_result"
        }
      ],
      "source": [
        "class TestTransformerDecoderLayer(unittest.TestCase):\n",
        "\n",
        "  def setUp(self):\n",
        "    set_seed(42)\n",
        "    self.decoder_layer = TransformerDecoderLayer(10, 2, 20, 0.1)\n",
        "    self.target = torch.randn(5, 8, 10)\n",
        "    self.memory = torch.randn(5, 7, 10)\n",
        "    self.mask_target = torch.FloatTensor(5, 8, 8).uniform_() > 0.2 \n",
        "    self.mask_source = torch.FloatTensor(5, 1, 7).uniform_() > 0.5 \n",
        "    self.places = 4\n",
        "\n",
        "  def test_forward(self):        \n",
        "    output, self_attention, cross_attention = self.decoder_layer(self.target, self.memory, self.mask_target, self.mask_source)\n",
        "    self.assertEqual(tuple(output.size()), (5, 8, 10))\n",
        "    self.assertEqual(tuple(self_attention.size()), (5, 2, 8, 8))\n",
        "    self.assertEqual(tuple(cross_attention.size()), (5, 2, 8, 7))\n",
        "    self.assertAlmostEqual(output[0, 0, 0].item(), 1.4294, places=self.places)\n",
        "    self.assertAlmostEqual(self_attention[0, 0, 3, 0].item(), 0.1389, places=self.places)\n",
        "    self.assertAlmostEqual(cross_attention[0, 0, 0, 3].item(), 0.1560, places=self.places)\n",
        "          \n",
        "unittest.main(TestTransformerDecoderLayer(), argv=[''], verbosity=2, exit=False)"
      ]
    },
    {
      "cell_type": "markdown",
      "metadata": {
        "id": "evdA8sxSHgAP"
      },
      "source": [
        "Now the decoder is slightly more complicated than simply stacking the decoder layers. The reason is that this is the place where we maintain the cache for all layers when decoding. Specifically, the decoder instantiates a separate cache for each layer, which will compute its own query/key/value vectors. \n",
        "\n",
        "One irrelevant detail here is that we're also going to make the cache specific to the current device. This is needed in multi-GPU setting because otherwise a batch that's distributed over many GPUs will be using wrong cached states. But since we're not going to do multi-GPU training this is not important. "
      ]
    },
    {
      "cell_type": "code",
      "execution_count": 28,
      "metadata": {
        "id": "IQy8ermOGPzD",
        "vscode": {
          "languageId": "python"
        }
      },
      "outputs": [],
      "source": [
        "class TransformerDecoder(nn.Module):\n",
        "\n",
        "  def __init__(self, dim, num_heads, dim_hidden, drop_rate, num_layers):\n",
        "    super().__init__()\n",
        "    self.layers = nn.ModuleList([TransformerDecoderLayer(dim, num_heads, dim_hidden, drop_rate) for _ in range(num_layers)])\n",
        "    self.layer_norm = nn.LayerNorm(dim, eps=1e-6)\n",
        "    self.state = {}  # Decoder state\n",
        "\n",
        "  def forward(self, target, memory, mask_target=None, mask_source=None, step=-1):\n",
        "    # Must have separate caches for different devices, for data parallel.\n",
        "    cache_name = 'cache_{}'.format(memory.get_device())\n",
        "\n",
        "    if step == 0:  # First step in decoding, need to initialize cache.\n",
        "      self._init_cache(cache_name)\n",
        "\n",
        "    out = target\n",
        "    self_attentions = []\n",
        "    cross_attentions = []\n",
        "    for index_layer, layer in enumerate(self.layers):\n",
        "      layer_cache = None if step < 0 else self.state[cache_name]['layer_{}'.format(index_layer)]\n",
        "      out, self_attention, cross_attention = layer(out, memory, mask_target, mask_source, layer_cache)\n",
        "      self_attentions.append(self_attention)\n",
        "      cross_attentions.append(cross_attention)\n",
        "    return self.layer_norm(out), self_attentions, cross_attentions\n",
        "\n",
        "  def _init_cache(self, cache_name):\n",
        "    self.state[cache_name] = {}\n",
        "    for index_layer, layer in enumerate(self.layers):\n",
        "      self.state[cache_name]['layer_{}'.format(index_layer)] = {'memory_key': None, 'memory_value': None, 'self_key': None, 'self_value': None}\n",
        "\n",
        "  def remap_cache(self, indices):\n",
        "    for cache_name in self.state:\n",
        "      for layer_name in self.state[cache_name]:\n",
        "        for name, tensor in self.state[cache_name][layer_name].items():\n",
        "            self.state[cache_name][layer_name][name] = tensor.index_select(0, indices)  # Batch dim 0"
      ]
    },
    {
      "cell_type": "code",
      "execution_count": 29,
      "metadata": {
        "colab": {
          "base_uri": "https://localhost:8080/"
        },
        "id": "z_67MYpwe8WS",
        "outputId": "a74f087b-2b0e-4338-92be-3660c41ca834",
        "vscode": {
          "languageId": "python"
        }
      },
      "outputs": [
        {
          "name": "stdout",
          "output_type": "stream",
          "text": [
            "TransformerDecoder(\n",
            "  (layers): ModuleList(\n",
            "    (0): TransformerDecoderLayer(\n",
            "      (layer_norm1): LayerNorm((100,), eps=1e-06, elementwise_affine=True)\n",
            "      (self_attention): MultiHeadAttention(\n",
            "        (linear_query): Linear(in_features=100, out_features=100, bias=True)\n",
            "        (linear_key): Linear(in_features=100, out_features=100, bias=True)\n",
            "        (linear_value): Linear(in_features=100, out_features=100, bias=True)\n",
            "        (linear_final): Linear(in_features=100, out_features=100, bias=True)\n",
            "        (dropout): Dropout(p=0.1, inplace=False)\n",
            "      )\n",
            "      (drop): Dropout(p=0.1, inplace=False)\n",
            "      (layer_norm2): LayerNorm((100,), eps=1e-06, elementwise_affine=True)\n",
            "      (context_attention): MultiHeadAttention(\n",
            "        (linear_query): Linear(in_features=100, out_features=100, bias=True)\n",
            "        (linear_key): Linear(in_features=100, out_features=100, bias=True)\n",
            "        (linear_value): Linear(in_features=100, out_features=100, bias=True)\n",
            "        (linear_final): Linear(in_features=100, out_features=100, bias=True)\n",
            "        (dropout): Dropout(p=0.1, inplace=False)\n",
            "      )\n",
            "      (feedforward): PositionwiseFeedForward(\n",
            "        (w1): Linear(in_features=100, out_features=200, bias=True)\n",
            "        (w2): Linear(in_features=200, out_features=100, bias=True)\n",
            "        (layer_norm): LayerNorm((100,), eps=1e-06, elementwise_affine=True)\n",
            "        (drop1): Dropout(p=0.1, inplace=False)\n",
            "        (relu): ReLU()\n",
            "        (drop2): Dropout(p=0.1, inplace=False)\n",
            "      )\n",
            "    )\n",
            "    (1): TransformerDecoderLayer(\n",
            "      (layer_norm1): LayerNorm((100,), eps=1e-06, elementwise_affine=True)\n",
            "      (self_attention): MultiHeadAttention(\n",
            "        (linear_query): Linear(in_features=100, out_features=100, bias=True)\n",
            "        (linear_key): Linear(in_features=100, out_features=100, bias=True)\n",
            "        (linear_value): Linear(in_features=100, out_features=100, bias=True)\n",
            "        (linear_final): Linear(in_features=100, out_features=100, bias=True)\n",
            "        (dropout): Dropout(p=0.1, inplace=False)\n",
            "      )\n",
            "      (drop): Dropout(p=0.1, inplace=False)\n",
            "      (layer_norm2): LayerNorm((100,), eps=1e-06, elementwise_affine=True)\n",
            "      (context_attention): MultiHeadAttention(\n",
            "        (linear_query): Linear(in_features=100, out_features=100, bias=True)\n",
            "        (linear_key): Linear(in_features=100, out_features=100, bias=True)\n",
            "        (linear_value): Linear(in_features=100, out_features=100, bias=True)\n",
            "        (linear_final): Linear(in_features=100, out_features=100, bias=True)\n",
            "        (dropout): Dropout(p=0.1, inplace=False)\n",
            "      )\n",
            "      (feedforward): PositionwiseFeedForward(\n",
            "        (w1): Linear(in_features=100, out_features=200, bias=True)\n",
            "        (w2): Linear(in_features=200, out_features=100, bias=True)\n",
            "        (layer_norm): LayerNorm((100,), eps=1e-06, elementwise_affine=True)\n",
            "        (drop1): Dropout(p=0.1, inplace=False)\n",
            "        (relu): ReLU()\n",
            "        (drop2): Dropout(p=0.1, inplace=False)\n",
            "      )\n",
            "    )\n",
            "  )\n",
            "  (layer_norm): LayerNorm((100,), eps=1e-06, elementwise_affine=True)\n",
            ")\n"
          ]
        }
      ],
      "source": [
        "decoder = TransformerDecoder(100, 5, 200, 0.1, 2)  # Note two attention modules per layer instead of one. \n",
        "print(decoder)"
      ]
    },
    {
      "cell_type": "markdown",
      "metadata": {
        "id": "DKqp-KCnH08W"
      },
      "source": [
        "Remember the function remap_cache, which copies and pastes cached states to specified batch elements. This is needed to realign cached states in beam search. "
      ]
    },
    {
      "cell_type": "markdown",
      "metadata": {
        "id": "QiC281JmbpWb"
      },
      "source": [
        "## Loss"
      ]
    },
    {
      "cell_type": "markdown",
      "metadata": {
        "id": "axdNC_pUbrQM"
      },
      "source": [
        "It is found that label smoothing is useful for machine translation, though it's not as critical as core machinery like attention. Specifically, we optimize \n",
        "\n",
        "$$\n",
        "J(\\theta) = H(\\textbf{pop}(y_t|x, y_{<t}), \\alpha p_\\theta(y_t|x, y_{<t}) + (1 - \\alpha) \\mathrm{Uniform}(\\mathcal{V}))\n",
        "$$\n",
        "\n",
        "There are some annoying details that we have to be careful with, like ignoring the padding index. But the loss can be used just like the [cross-entropy loss](https://pytorch.org/docs/stable/generated/torch.nn.CrossEntropyLoss.html) in PyTorch."
      ]
    },
    {
      "cell_type": "code",
      "execution_count": 30,
      "metadata": {
        "id": "Y-62Jxp4cU_b",
        "vscode": {
          "languageId": "python"
        }
      },
      "outputs": [],
      "source": [
        "class LabelSmoothingLoss(nn.Module):\n",
        "\n",
        "  def __init__(self, alpha, num_labels, ignore_index=-100, reduction='mean'):\n",
        "    super().__init__()\n",
        "    assert 0.0 <= alpha <= 1.0\n",
        "    self.alpha = alpha\n",
        "    self.ignore_index = ignore_index\n",
        "    self.reduction = reduction\n",
        "    prob_uniform = 1. / num_labels if ignore_index < 0 else 1. / (num_labels - 1)\n",
        "    uniform = torch.full((1, num_labels), prob_uniform)\n",
        "    if ignore_index >= 0:\n",
        "      uniform[0, ignore_index] = 0.  # Support size: num_labels - 1\n",
        "    self.register_buffer('uniform', uniform)\n",
        "    self.confidence = 1. -  self.alpha + self.alpha * prob_uniform\n",
        "\n",
        "  def forward(self, scores, labels, return_extra=False):\n",
        "    \"\"\"\n",
        "    scores: (batch_size, num_labels)\n",
        "    labels: (batch_size), values in {0, ..., num_labels - 1}\n",
        "    \"\"\"\n",
        "    # (batch_size, num_labels), where a row is a smoothed distribution if label is not ignored and a zero vector otherwise.\n",
        "    smoothed = self.smooth(labels)\n",
        "\n",
        "    # (batch_size), where the element is cross entropy if label is not ignored and zero otherwise.\n",
        "    bits = -(smoothed * scores.log_softmax(dim=1)).sum(dim=1)\n",
        "\n",
        "    if self.reduction == 'none':\n",
        "      out = bits\n",
        "    elif self.reduction == 'sum':\n",
        "      out = bits.sum()\n",
        "    elif self.reduction == 'mean':\n",
        "      out = bits.sum() / (labels != self.ignore_index).sum()\n",
        "    else:\n",
        "      raise ValueError('Invalid reduction: ' + reduction)\n",
        "\n",
        "    if return_extra:\n",
        "      out = [out, smoothed]\n",
        "    return out\n",
        "\n",
        "  def smooth(self, labels):\n",
        "    smoothed = self.alpha * self.uniform.expand(len(labels), -1)\n",
        "    smoothed.scatter_(1, labels.unsqueeze(1), self.confidence)\n",
        "\n",
        "    if self.ignore_index >= 0:\n",
        "      # Set instances (i.e., rows) with ignored labels as zero vectors.\n",
        "      smoothed.masked_fill_((labels == self.ignore_index).unsqueeze(1), 0.)\n",
        "\n",
        "    return smoothed"
      ]
    },
    {
      "cell_type": "code",
      "execution_count": 31,
      "metadata": {
        "colab": {
          "base_uri": "https://localhost:8080/"
        },
        "id": "hRmSwdJmfWdy",
        "outputId": "450616b6-ef28-4d9e-b26f-fe8f86e17ae2",
        "vscode": {
          "languageId": "python"
        }
      },
      "outputs": [
        {
          "name": "stdout",
          "output_type": "stream",
          "text": [
            "tensor(6.0964) tensor(6.0964)\n"
          ]
        }
      ],
      "source": [
        "num_labels = 10\n",
        "batch_size = 2\n",
        "scores = torch.randn(batch_size, num_labels)\n",
        "labels = torch.randint(num_labels, (batch_size,))\n",
        "xent = nn.CrossEntropyLoss(ignore_index=0, reduction='sum')\n",
        "loss = LabelSmoothingLoss(0., num_labels, ignore_index=0, reduction='sum')  # With alpha=0, should be the same as xent. \n",
        "print(xent(scores, labels), loss(scores, labels))"
      ]
    },
    {
      "cell_type": "markdown",
      "metadata": {
        "id": "TT-l_DsHxu19"
      },
      "source": [
        "## Model"
      ]
    },
    {
      "cell_type": "markdown",
      "metadata": {
        "id": "GIaEPcd_Z4kz"
      },
      "source": [
        "Now we implement the encoder-decoder module. This is the final model (i.e., one that computes the training loss and predicts next words). It contains token embeddings, position embeddings, an $L$-layer transformer encoder, an $L$-layer transformer decoder, and a $V \\times d$ linear classification layer. We will tie the weight matrix of the linear layer with token embeddings (assumed shared between source and target sentences). \n",
        "\n",
        "In the forward function, we now receive raw token ids for source and target. Given token ids, we must remember not only to embed them into vectors but also to position them. \n",
        "\n",
        "**Source encoding during inference**: In seq2seq, we are *not* predicting source sequences, only conditioning on them. So, during stepwise decoding, we will only encode the entire source sequence by applying the $L$-layer transformer encoder once for first target $t = 1$, call the last layer's $d$-dimensional embeddings \"memory\" and return it, and at target position $t > 1$ we will expect that source is already memory. \n",
        "\n",
        "**Target**: At every $t' = 1 \\ldots T' + 1$, we must predict the $t'$-th word using previous words $< t'$. \n",
        "\n",
        "- If training, we're given the entire target sequence $y_1 \\ldots y_{T'}$ (padded with BOS $y_0$ and EOS $y_{T'+1}$), so constructing \"labeled examples\" amounts to pairing $(y_{t'}, y_{t'+1})$ in combination with masking future positions $t'+1 \\ldots T'$ for every $t' = 0 \\ldots T'$. In this way all per-position logits can computed by a single application of the $L$-layer transformer decoder, which additionally conditions on the memory from the encoder.\n",
        "\n",
        "- If decoding, we're given only $y_{t'-1}$ and must predict the $t'$ word. Since we've already implemented the cache mechanism in the decoder which automatically stores key/value vectors computed at each step, we can simply pass the positioned embedding of this single token.\n",
        "\n",
        "In either case, we apply the linear classifier on the decoder's last layer's $d$-dimensional embeddings to define logits for next words.\n",
        "\n"
      ]
    },
    {
      "cell_type": "code",
      "execution_count": 34,
      "metadata": {
        "id": "Shw39xGQZ9sw",
        "vscode": {
          "languageId": "python"
        }
      },
      "outputs": [],
      "source": [
        "class TransformerSeq2Seq(nn.Module):\n",
        "\n",
        "  def __init__(self, vocab_size, dim, num_heads, dim_hidden, num_layers, drop_rate, index_pad, label_smoothing=0., untie=False):\n",
        "    super().__init__()\n",
        "    self.num_heads = num_heads\n",
        "    self.num_layers = num_layers\n",
        "    self.emb = nn.Embedding(vocab_size, dim)\n",
        "    self.positioner = SinusoidalPositioner(dim, drop_rate)\n",
        "    self.encoder = TransformerEncoder(dim, num_heads, dim_hidden, drop_rate, num_layers)\n",
        "    self.decoder = TransformerDecoder(dim, num_heads, dim_hidden, drop_rate, num_layers)\n",
        "    self.linear = nn.Linear(dim, vocab_size)\n",
        "    if not untie:\n",
        "      self.linear.weight = self.emb.weight  # Parameter tying\n",
        "\n",
        "    if label_smoothing > 0:\n",
        "      self.loss = LabelSmoothingLoss(label_smoothing, vocab_size, ignore_index=index_pad, reduction='sum')\n",
        "    else:\n",
        "      self.loss = nn.CrossEntropyLoss(ignore_index=index_pad, reduction='sum')\n",
        "    self.index_pad = index_pad\n",
        "        \n",
        "  # Do all heavy computation in forward so we can use pytorch model wrappers.\n",
        "  def forward(self, source, target, step=-1, mask_source=None):\n",
        "    \"\"\"\n",
        "    INPUT\n",
        "        source: (batch_size, length_source) or (batch_size, length_source, dim)\n",
        "        target: (batch_size, length_target) if step < 0 else (batch_size, 1)\n",
        "    OUTPUT\n",
        "        loss: scalar if step < 0 else None\n",
        "        logits: (batch_size, length_target - 1, vocab_size) if step < 0 else (batch_size, 1, vocab_size)\n",
        "        memory: (batch_size, length_source, dim)\n",
        "        mask_source: (batch_size, 1, length_source), target items same mask\n",
        "        self_attentions_encoder\n",
        "        self_attentions_decoder\n",
        "        cross_attentions_decoder\n",
        "    \"\"\"\n",
        "    self_attentions_encoder = None\n",
        "    if source.dim() < 3:  # source is indices: encode to memory.\n",
        "      assert step <= 0  # if step >= 1, should reuse memory!\n",
        "      mask_source = (source == self.index_pad).unsqueeze(-2)\n",
        "      source = self.emb(source)\n",
        "      source = self.positioner(source)\n",
        "      memory, self_attentions_encoder = self.encoder(source, mask_source)\n",
        "    else:  # source is already memory.\n",
        "      memory = source\n",
        "      assert mask_source is not None  # Need source mask for decoder.\n",
        "\n",
        "    if step < 0:  # Training\n",
        "      assert target.size(1) > 1  # Need at least 2 tokens.\n",
        "\n",
        "      instances = target[:, :-1]\n",
        "      embs = self.emb(instances)  # (batch_size, length_target - 1, dim)\n",
        "      embs = self.positioner(embs)\n",
        "\n",
        "      # Mask padding/future tokens.\n",
        "      mask = (instances == self.index_pad).unsqueeze(-2)\n",
        "      mask_future = get_mask_future(instances.size(-1))\n",
        "      mask = mask | mask_future.to(mask.device)\n",
        "\n",
        "      prelogits, self_attentions_decoder, cross_attentions_decoder = self.decoder(embs, memory, mask, mask_source)\n",
        "      logits = self.linear(prelogits)\n",
        "\n",
        "      labels = target[:, 1:].contiguous().view( -1 )  # TODO: What are the labels? See instances\n",
        "      loss = self.loss(logits.reshape(-1, logits.size(-1)), labels.reshape(-1)).unsqueeze(0)  # Unnormalized\n",
        "    else:  # Inference\n",
        "      assert target.size(1) == 1  # Stepwise: compute logits for 1 step\n",
        "\n",
        "      embs = self.emb(target)  # (batch_size, 1, dim)\n",
        "      embs = self.positioner(embs, step)  # step>=0 for positioner.\n",
        "\n",
        "      prelogits, self_attentions_decoder, cross_attentions_decoder = self.decoder(embs, memory, None, mask_source, step=step)  # step>=0 for decoder (cache).\n",
        "      logits = self.linear(prelogits[:, -1, :])\n",
        "      loss = None\n",
        "      \n",
        "    return loss, logits, memory, mask_source, self_attentions_encoder, self_attentions_decoder, cross_attentions_decoder        "
      ]
    },
    {
      "cell_type": "code",
      "execution_count": 35,
      "metadata": {
        "colab": {
          "base_uri": "https://localhost:8080/"
        },
        "id": "xxXTljnpRqT1",
        "outputId": "c14e96b9-48ce-49ba-8959-f6defc027a6d",
        "vscode": {
          "languageId": "python"
        }
      },
      "outputs": [
        {
          "name": "stderr",
          "output_type": "stream",
          "text": [
            "test_forward (__main__.TestModel) ... ok\n",
            "\n",
            "----------------------------------------------------------------------\n",
            "Ran 1 test in 0.033s\n",
            "\n",
            "OK\n"
          ]
        },
        {
          "data": {
            "text/plain": [
              "<unittest.main.TestProgram at 0x7f90f4fef790>"
            ]
          },
          "execution_count": 35,
          "metadata": {},
          "output_type": "execute_result"
        }
      ],
      "source": [
        "class TestModel(unittest.TestCase):\n",
        "\n",
        "  def setUp(self):\n",
        "    set_seed(42)\n",
        "    self.model = TransformerSeq2Seq(100, 10, 5, 20, 3, 0.1, 0, label_smoothing=0.1, untie=False)\n",
        "    self.source = torch.randint(100, (5, 10))\n",
        "    self.target = torch.randint(100, (5, 13))\n",
        "    self.places = 4\n",
        "      \n",
        "  def test_forward(self):        \n",
        "    loss = self.model(self.source, self.target)[0]\n",
        "    self.assertAlmostEqual(loss.item(), 600.8130, places=self.places)\n",
        "          \n",
        "unittest.main(TestModel(), argv=[''], verbosity=2, exit=False)"
      ]
    },
    {
      "cell_type": "markdown",
      "metadata": {
        "id": "WY40o3CMwDfy"
      },
      "source": [
        "# Training"
      ]
    },
    {
      "cell_type": "markdown",
      "metadata": {
        "id": "JDWF-gWi3JeX"
      },
      "source": [
        "We will define a thin wrapper around PyTorch's optimizer class for convenience (will stick with Adam). This will take care of additional operations like manual learning rate scheduling which is empirically found to be important for training deep transformer models. "
      ]
    },
    {
      "cell_type": "code",
      "execution_count": 36,
      "metadata": {
        "id": "BifEi7CK13fq",
        "vscode": {
          "languageId": "python"
        }
      },
      "outputs": [],
      "source": [
        "import functools\n",
        "\n",
        "class Optimizer:  # Wrapper for torch.optim.Optimizer, using Adam\n",
        "\n",
        "  def __init__(self, model, learning_rate, betas=(0.9, 0.999), eps=1e-9, decay_function=None, num_warmup_steps=None, num_training_steps=None, dim=0, max_grad_norm=None):\n",
        "    params = [p for p in model.parameters() if p.requires_grad]\n",
        "    self._optimizer = torch.optim.Adam(params, lr=learning_rate, betas=betas, eps=eps)\n",
        "    self._learning_rate = learning_rate\n",
        "\n",
        "    if decay_function == 'noam':\n",
        "      assert dim > 0\n",
        "      self._decay_function = functools.partial(noam_decay, num_warmup_steps=num_warmup_steps, dim=dim)\n",
        "    elif decay_function == 'linear':\n",
        "      assert num_training_steps is not None\n",
        "      self._decay_function = functools.partial(linear_decay, num_warmup_steps=num_warmup_steps, num_training_steps=num_training_steps)\n",
        "    else:\n",
        "      self._decay_function = None\n",
        "\n",
        "    self._max_grad_norm = max_grad_norm\n",
        "    self._training_step = 0\n",
        "    self._decay_step = 0\n",
        "\n",
        "  @property\n",
        "  def training_step(self):\n",
        "    return self._training_step\n",
        "\n",
        "  def learning_rate(self):\n",
        "    if self._decay_function is None:\n",
        "      return self._learning_rate\n",
        "    scale = self._decay_function(self._decay_step + 1)\n",
        "    return scale * self._learning_rate\n",
        "\n",
        "  def state_dict(self):\n",
        "    return {\n",
        "        'training_step': self._training_step,\n",
        "        'decay_step': self._decay_step,\n",
        "        'optimizer': self._optimizer.state_dict()\n",
        "    }\n",
        "\n",
        "  def load_state_dict(self, state_dict):\n",
        "    self._training_step = state_dict['training_step']\n",
        "    if 'decay_step' in state_dict:\n",
        "      self._decay_step = state_dict['decay_step']\n",
        "    if 'optimizer' in state_dict:\n",
        "      self._optimizer.load_state_dict(state_dict['optimizer'])\n",
        "\n",
        "  def zero_grad(self):\n",
        "    self._optimizer.zero_grad()\n",
        "\n",
        "  def backward(self, loss):\n",
        "    loss.backward()\n",
        "\n",
        "  def step(self):\n",
        "    learning_rate = self.learning_rate()  # Scheduled learning rate\n",
        "\n",
        "    # Update learning rates and clip gradients before taking a step.\n",
        "    for group in self._optimizer.param_groups:\n",
        "      group['lr'] = learning_rate\n",
        "      if self._max_grad_norm is not None:\n",
        "        nn.utils.clip_grad_norm_(group['params'], self._max_grad_norm)\n",
        "\n",
        "    # Take a step.\n",
        "    self._optimizer.step()\n",
        "\n",
        "    self._decay_step += 1\n",
        "    self._training_step += 1"
      ]
    },
    {
      "cell_type": "markdown",
      "metadata": {
        "id": "BpolT8a-3-b7"
      },
      "source": [
        "Noam learning rate schedule. "
      ]
    },
    {
      "cell_type": "code",
      "execution_count": 37,
      "metadata": {
        "colab": {
          "base_uri": "https://localhost:8080/",
          "height": 265
        },
        "id": "YFxXU2kr3wZy",
        "outputId": "2fd85bf7-4db8-42b2-df24-357f6785f700",
        "vscode": {
          "languageId": "python"
        }
      },
      "outputs": [
        {
          "data": {
            "image/png": "[encoded data removed]",
            "text/plain": [
              "<Figure size 432x288 with 1 Axes>"
            ]
          },
          "metadata": {
            "needs_background": "light"
          },
          "output_type": "display_data"
        }
      ],
      "source": [
        "def noam_decay(step, num_warmup_steps, dim):\n",
        "  # Eq. (3) of the Transfomer paper. \n",
        "  return (dim ** (-0.5) * min(step ** (-0.5), step * num_warmup_steps**(-1.5)))\n",
        "\n",
        "plt.plot([step + 1 for step in range(1000)], [noam_decay(step + 1, 100, 512) for step in range(1000)])\n",
        "plt.show()"
      ]
    },
    {
      "cell_type": "markdown",
      "metadata": {
        "id": "prppeoBFqeRd"
      },
      "source": [
        "We'll use Noam to be consistent with the paper, but other schedules are found to be roughly as effective as long as the learning rate \"warms up\" in the beginning and \"cools down\" later. See [here](https://huggingface.co/transformers/main_classes/optimizer_schedules.html#schedules) for other schedules. For instance, linear decay looks like this. "
      ]
    },
    {
      "cell_type": "code",
      "execution_count": 38,
      "metadata": {
        "colab": {
          "base_uri": "https://localhost:8080/",
          "height": 265
        },
        "id": "iTSdrx7P4mUq",
        "outputId": "9af32dd3-b5ef-481c-b6b9-4793f9c01eb7",
        "vscode": {
          "languageId": "python"
        }
      },
      "outputs": [
        {
          "data": {
            "image/png": "[encoded data removed]",
            "text/plain": [
              "<Figure size 432x288 with 1 Axes>"
            ]
          },
          "metadata": {
            "needs_background": "light"
          },
          "output_type": "display_data"
        }
      ],
      "source": [
        "def linear_decay(step, num_warmup_steps, num_training_steps):\n",
        "  if step < num_warmup_steps:\n",
        "    return float(step) / float(max(1, num_warmup_steps))  \n",
        "  else:\n",
        "    return float(num_training_steps - step) / float(max(1, num_training_steps - num_warmup_steps))\n",
        "\n",
        "plt.plot([step + 1 for step in range(1000)], [linear_decay(step + 1, 100, 1000) for step in range(1000)])\n",
        "plt.show()"
      ]
    },
    {
      "cell_type": "markdown",
      "metadata": {
        "id": "RNieMW73pN6o"
      },
      "source": [
        "We also need an explicit initialization scheme based on Glorot / fan average / Xavier uniform. "
      ]
    },
    {
      "cell_type": "code",
      "execution_count": 39,
      "metadata": {
        "id": "ttOxOjaSwCQk",
        "vscode": {
          "languageId": "python"
        }
      },
      "outputs": [],
      "source": [
        "def init_parameters_xavier_uniform(model):\n",
        "  for p in model.parameters():\n",
        "    if p.dim() > 1:\n",
        "      nn.init.xavier_uniform_(p)"
      ]
    },
    {
      "cell_type": "markdown",
      "metadata": {
        "id": "cBA2cBCg19Rs"
      },
      "source": [
        "# Synthetic Task"
      ]
    },
    {
      "cell_type": "markdown",
      "metadata": {
        "id": "vTy2W1ejvg8X"
      },
      "source": [
        "The above model is ready to be trained and has been verified to yield competitive MT performance. However, even with this efficient GPU implementation training a Transformer encoder-decoder model on a real-world parallel corpus needs enough data and takes a while to get meaningful test time BLEU scores (at least a few hours). Thus we will limit our scope to a controllable synthetic task. Here is a data generator that represents a population distribution over source-target sequence pairs. "
      ]
    },
    {
      "cell_type": "code",
      "execution_count": 40,
      "metadata": {
        "colab": {
          "base_uri": "https://localhost:8080/"
        },
        "id": "2yknCtNitce-",
        "outputId": "3ce5cb86-e8f7-4e3e-a029-a8b0db76ba82",
        "vscode": {
          "languageId": "python"
        }
      },
      "outputs": [
        {
          "name": "stdout",
          "output_type": "stream",
          "text": [
            "Source\n",
            "tensor([[ 3,  7,  6,  6,  5,  4, 11,  4,  0,  0,  0,  0],\n",
            "        [ 9,  3,  3,  4,  6,  6, 11, 12,  3, 11,  6, 11],\n",
            "        [ 6, 10, 12,  7,  3,  5,  9,  8,  7,  5,  6,  0],\n",
            "        [ 4,  4,  9,  4,  8,  8, 12,  7,  3, 10,  0,  0]])\n",
            "Source lengths: [8, 12, 11, 10]\n",
            "Target\n",
            "tensor([[ 1,  4, 11,  4,  5,  6,  6,  7,  3,  2,  0,  0,  0,  0],\n",
            "        [ 1, 11,  6, 11,  3, 12, 11,  6,  6,  4,  3,  3,  9,  2],\n",
            "        [ 1,  6,  5,  7,  8,  9,  5,  3,  7, 12, 10,  6,  2,  0],\n",
            "        [ 1, 10,  3,  7, 12,  8,  8,  4,  9,  4,  4,  2,  0,  0]])\n",
            "Target lengths: [10, 14, 13, 12]\n"
          ]
        }
      ],
      "source": [
        "from torch.nn.utils.rnn import pad_sequence\n",
        "\n",
        "\n",
        "class Population:\n",
        "\n",
        "  def __init__(self, vocab_size, min_length=4, max_length=20, transform='reverse'):\n",
        "    assert vocab_size > 2  # Will reserve 0, 1, 2 for special symbols\n",
        "    self.vocab_size = vocab_size\n",
        "    self.min_length = min_length\n",
        "    self.max_length = max_length\n",
        "    self.transform = transform\n",
        "    self.index_pad = 0\n",
        "    self.index_bos = 1\n",
        "    self.index_eos = 2\n",
        "    self.vocab_regular = [x for x in range(3, vocab_size)]\n",
        "\n",
        "  def sample(self, num_samples, device=None, min_length=-1, max_length=-1): \n",
        "    # No need to pad source sequences with BOS/EOS\n",
        "    min_length = self.min_length if min_length < 0 else min_length\n",
        "    max_length = self.max_length if max_length < 0 else max_length\n",
        "    source = [[random.choice(self.vocab_regular) for _ in range(random.randint(min_length, max_length))] for _ in range(num_samples)]\n",
        "    lengths_source = torch.tensor([len(sequence) for sequence in source])\n",
        "\n",
        "    # Pad target sequences with BOS/EOS\n",
        "    if self.transform == 'reverse':\n",
        "      target = [[self.index_bos] + list(reversed(sequence)) + [self.index_eos] for sequence in source]\n",
        "    elif self.transform == 'sort': \n",
        "      target = [[self.index_bos] + list(set(sorted(sequence))) + [self.index_eos] for sequence in source]\n",
        "    else: \n",
        "      raise NotImplementedError('Unknown trasnform', self.transform)    \n",
        "    lengths_target = torch.tensor([len(sequence) for sequence in target])\n",
        "\n",
        "    # Batchfy sequences with padding \n",
        "    source = pad_sequence([torch.tensor(sequence) for sequence in source], batch_first=True, padding_value=self.index_pad)\n",
        "    target = pad_sequence([torch.tensor(sequence) for sequence in target], batch_first=True, padding_value=self.index_pad)\n",
        "\n",
        "    if device is not None:\n",
        "      source = source.to(device)\n",
        "      target = target.to(device)\n",
        "      lengths_source = lengths_source.to(device)\n",
        "      lengths_target = lengths_target.to(device)\n",
        "\n",
        "    return source, target, lengths_source, lengths_target\n",
        "\n",
        "  def extract_sequence(self, padded_sequence):\n",
        "    sequence = []\n",
        "    for i in range(1, len(padded_sequence)):  # Ignore BOS\n",
        "      if padded_sequence[i] == self.index_eos:\n",
        "        break\n",
        "      sequence.append(padded_sequence[i])\n",
        "    return sequence\n",
        "\n",
        "  def sequence_acc(self, padded_sequences_gold, padded_sequences_pred):\n",
        "    \"\"\"For evaluation we will consider sequence-level accuracy.\"\"\"\n",
        "    return sum([1 if self.extract_sequence(padded_sequences_gold[i]) == self.extract_sequence(padded_sequences_pred[i]) else \n",
        "                0 for i in range(len(padded_sequences_gold))]) / len(padded_sequences_gold) * 100.\n",
        "\n",
        "\n",
        "pop = Population(13, min_length=8, max_length=12)\n",
        "source, target, lengths_source, lengths_target = pop.sample(4)\n",
        "print('Source')\n",
        "print(source)\n",
        "print('Source lengths:', lengths_source.tolist())\n",
        "print('Target')\n",
        "print(target)\n",
        "print('Target lengths:', lengths_target.tolist())"
      ]
    },
    {
      "cell_type": "markdown",
      "metadata": {
        "id": "Br67IZVk6IMZ"
      },
      "source": [
        "To get predictions we'll implement greedy decoding. The model predicts the most likely word conditioning on previous predictions *fixed*, and repeats this for a given number of steps. "
      ]
    },
    {
      "cell_type": "code",
      "execution_count": 41,
      "metadata": {
        "id": "dRsNGbUSwlI6",
        "vscode": {
          "languageId": "python"
        }
      },
      "outputs": [],
      "source": [
        "def decode_greedy(model, indices_source, max_length, index_bos):\n",
        "  source = indices_source\n",
        "  mask_source = None\n",
        "  targets = [source.new_full((source.size(0), 1), index_bos)]\n",
        "\n",
        "  for step in range(max_length):\n",
        "    # source is re-written to be precomputed encoder embeddings.\n",
        "    _, logits, source, mask_source, _, _, _ = model(source, targets[-1], step=step, mask_source=mask_source)\n",
        "    _, indices_next = torch.max(logits, dim=-1)\n",
        "    targets.append(indices_next.unsqueeze(1))\n",
        "    \n",
        "  return torch.cat(targets, dim=1)"
      ]
    },
    {
      "cell_type": "markdown",
      "metadata": {
        "id": "qBLHXwd-GBMh"
      },
      "source": [
        "We now fit the model on the synthetic population distribution."
      ]
    },
    {
      "cell_type": "code",
      "execution_count": 42,
      "metadata": {
        "id": "dVFyagxTwzDk",
        "vscode": {
          "languageId": "python"
        }
      },
      "outputs": [],
      "source": [
        "def fit(vocab_size=13, min_length=8, max_length=12, num_val_samples=1000, transform='reverse',\n",
        "        dim=512, num_heads=4, dim_hidden=2048, num_layers=2, drop_rate=0.1, label_smoothing=0, num_epochs=10, batch_size=128, \n",
        "        num_warmup_steps=1000, num_batches_per_epoch=60):\n",
        "  set_seed(42)\n",
        "  device = torch.device('cuda')\n",
        "  pop = Population(vocab_size, min_length=min_length, max_length=max_length, transform=transform)\n",
        "  source_val, target_val, _, _ = pop.sample(num_val_samples, device=device)  # Validation set\n",
        "  source_ex = torch.tensor([[x for x in range(3, min(vocab_size, 10))]]).to(device)  # Running example\n",
        "  model = TransformerSeq2Seq(vocab_size, dim, num_heads, dim_hidden, num_layers, drop_rate, pop.index_pad, label_smoothing).to(device)\n",
        "\n",
        "  # Important!\n",
        "  init_parameters_xavier_uniform(model)  \n",
        "\n",
        "  optimizer = Optimizer(model, 1., betas=(0.9, 0.98), eps=1e-9, decay_function='noam', num_warmup_steps=num_warmup_steps, dim=dim)\n",
        "\n",
        "  for epoch in range(1, num_epochs + 1):\n",
        "    model.train()\n",
        "    loss_total = 0.\n",
        "    num_predictions_total = 0\n",
        "\n",
        "    for step in range(num_batches_per_epoch):\n",
        "      source, target, _, lengths_target = pop.sample(batch_size, device=device)\n",
        "      num_predictions = sum([lengths_target[i] - 1 for i in range(len(lengths_target))]) \n",
        "      loss_batch_total = model.forward(source.to(device), target.to(device))[0]\n",
        "      loss_total += loss_batch_total.item()\n",
        "      num_predictions_total += num_predictions\n",
        "      loss_batch_avg = loss_batch_total / num_predictions\n",
        "      loss_batch_avg.backward()\n",
        "\n",
        "      optimizer.step()\n",
        "      optimizer.zero_grad()\n",
        "\n",
        "    model.eval()\n",
        "    preds = decode_greedy(model, source_val, max_length + 1, pop.index_bos)\n",
        "    pred_ex = decode_greedy(model, source_ex, max_length + 1, pop.index_bos)\n",
        "    print('End of epoch {:3d} | epoch average loss {:8.4f} | val acc {:5.2f} | running ex {:s} -> {:s}'.format(\n",
        "          epoch, loss_total / num_predictions_total, pop.sequence_acc(target_val.tolist(), preds.tolist()), \n",
        "          str(source_ex[0].tolist()), str(pop.extract_sequence(pred_ex[0].tolist()))))\n",
        "    \n",
        "  return model, pop"
      ]
    },
    {
      "cell_type": "code",
      "execution_count": 43,
      "metadata": {
        "colab": {
          "base_uri": "https://localhost:8080/"
        },
        "id": "9h3qYErdR-Xl",
        "outputId": "8fcefbc4-8422-4ae4-e4bc-eabba545e1de",
        "vscode": {
          "languageId": "python"
        }
      },
      "outputs": [
        {
          "name": "stdout",
          "output_type": "stream",
          "text": [
            "End of epoch   1 | epoch average loss   8.5649 | val acc  0.00 | running ex [3, 4, 5, 6, 7, 8, 9] -> [3, 3, 3, 3, 3, 3, 3, 3, 3, 3, 3, 3, 3]\n",
            "End of epoch   2 | epoch average loss   2.4811 | val acc  0.00 | running ex [3, 4, 5, 6, 7, 8, 9] -> [5, 3, 8, 8, 8, 8, 8, 8, 8, 8, 8, 8, 8]\n",
            "End of epoch   3 | epoch average loss   1.7679 | val acc  1.20 | running ex [3, 4, 5, 6, 7, 8, 9] -> [9, 8, 7, 5, 6, 3, 4]\n",
            "End of epoch   4 | epoch average loss   0.9017 | val acc 20.50 | running ex [3, 4, 5, 6, 7, 8, 9] -> [9, 8, 7, 6, 5, 4, 3]\n",
            "End of epoch   5 | epoch average loss   0.5441 | val acc 62.30 | running ex [3, 4, 5, 6, 7, 8, 9] -> [9, 8, 7, 6, 5, 4, 3]\n"
          ]
        }
      ],
      "source": [
        "set_seed(42)\n",
        "model, pop = fit(vocab_size=13, min_length=6, max_length=12, num_epochs=5, transform='reverse')"
      ]
    },
    {
      "cell_type": "markdown",
      "metadata": {
        "id": "7_fvNXtbLneC"
      },
      "source": [
        "The explicit initialization scheme was important for this to work (trying optimizing with default initialization instead). Does the model learn to attend as we expect? Let's look at the decoder's cross-attention weights. We have a $T' \\times T$ attention map for each layer and each head. "
      ]
    },
    {
      "cell_type": "code",
      "execution_count": 44,
      "metadata": {
        "colab": {
          "base_uri": "https://localhost:8080/",
          "height": 452
        },
        "id": "yqltQVJN98T9",
        "outputId": "db557bfa-948c-4d29-c550-851aa5a997fe",
        "vscode": {
          "languageId": "python"
        }
      },
      "outputs": [
        {
          "name": "stdout",
          "output_type": "stream",
          "text": [
            "source [12, 5, 6, 4, 7, 9, 4, 6, 9, 6, 11, 7]\n",
            "target [1, 7, 11, 6, 9, 6, 4, 9, 7, 4, 6, 5, 12, 2]\n",
            "prediction points [1, 7, 11, 6, 9, 6, 4, 9, 7, 4, 6, 5, 12]\n",
            "Decoder cross-attention at layer 0\n"
          ]
        },
        {
          "data": {
            "image/png": "[encoded data removed]",
            "text/plain": [
              "<Figure size 1440x720 with 4 Axes>"
            ]
          },
          "metadata": {
            "needs_background": "light"
          },
          "output_type": "display_data"
        },
        {
          "name": "stdout",
          "output_type": "stream",
          "text": [
            "Decoder cross-attention at layer 1\n"
          ]
        },
        {
          "data": {
            "image/png": "[encoded data removed]",
            "text/plain": [
              "<Figure size 1440x720 with 4 Axes>"
            ]
          },
          "metadata": {
            "needs_background": "light"
          },
          "output_type": "display_data"
        }
      ],
      "source": [
        "source, target, _, _ = pop.sample(1, min_length=12, max_length=12, device=model.emb.weight.device)\n",
        "_, _, _, _, self_attentions_encoder, self_attentions_decoder, cross_attentions_decoder = model.forward(source, target)\n",
        "\n",
        "print('source {:s}'.format(str(source[0].tolist())))\n",
        "print('target {:s}'.format(str(target[0].tolist())))\n",
        "print('prediction points {:s}'.format(str(target[0,:-1].tolist())))\n",
        "for layer in range(model.num_layers):\n",
        "  fig, axs = plt.subplots(1, model.num_heads, figsize=(20, 10))\n",
        "  print('Decoder cross-attention at layer {:d}'.format(layer))\n",
        "  for head in range(model.num_heads):\n",
        "    draw_attention(cross_attentions_decoder[layer][0, head].tolist(), source[0].tolist(), target[0,:-1].tolist() if head == 0 else [], ax=axs[head])\n",
        "  plt.show()  \n"
      ]
    },
    {
      "cell_type": "markdown",
      "metadata": {
        "id": "XohpNM9SL21g"
      },
      "source": [
        "We see that different heads learn different things, but they generally learn to pay attention to the right thing: namely, position $T-t$ in the source sequence when it needs to predict the $t$-th token (assuming reverse transform). "
      ]
    },
    {
      "cell_type": "markdown",
      "metadata": {
        "id": "477Be010NriF"
      },
      "source": [
        "# Beam Search"
      ]
    },
    {
      "cell_type": "markdown",
      "metadata": {
        "id": "3KB1GJthUjdc"
      },
      "source": [
        "Let's construct a test set."
      ]
    },
    {
      "cell_type": "code",
      "execution_count": 45,
      "metadata": {
        "id": "nt1ZfgeXUk2c",
        "vscode": {
          "languageId": "python"
        }
      },
      "outputs": [],
      "source": [
        "set_seed(7)\n",
        "source_test, target_test, _, _ = pop.sample(1000, device=model.emb.weight.device) "
      ]
    },
    {
      "cell_type": "markdown",
      "metadata": {
        "id": "zMIJQoGNVmyz"
      },
      "source": [
        "Greedy decoding gets the following sequence-level accuracy."
      ]
    },
    {
      "cell_type": "code",
      "execution_count": 46,
      "metadata": {
        "colab": {
          "base_uri": "https://localhost:8080/"
        },
        "id": "tUn1yCX3VmED",
        "outputId": "655aac6e-f711-4ce3-f736-c82c51cfcd62",
        "vscode": {
          "languageId": "python"
        }
      },
      "outputs": [
        {
          "name": "stdout",
          "output_type": "stream",
          "text": [
            "63.7\n"
          ]
        }
      ],
      "source": [
        "preds_test_greedy = decode_greedy(model, source_test, pop.max_length + 1, pop.index_bos)\n",
        "acc_greedy = pop.sequence_acc(target_test.tolist(), preds_test_greedy.tolist())\n",
        "print(acc_greedy)"
      ]
    },
    {
      "cell_type": "markdown",
      "metadata": {
        "id": "Q_Wd-hiqWK44"
      },
      "source": [
        "Can we do better by beam search with beam size $>1$? Let's implement beam search. This is rather tricky, you may find referencing [this resource](https://github.com/pcyin/pytorch_basic_nmt/blob/75bafa2d05118a4e8a0e8691a986ab9dd09bb93d/nmt.py#L280) helpful, which is an implementation of beam search for RNNs. "
      ]
    },
    {
      "cell_type": "code",
      "execution_count": 51,
      "metadata": {
        "id": "SHwLe6fJV5zd",
        "vscode": {
          "languageId": "python"
        }
      },
      "outputs": [],
      "source": [
        "from collections import namedtuple\n",
        "\n",
        "\n",
        "Hypothesis = namedtuple('Hypothesis', ['item', 'score'])\n",
        "\n",
        "\n",
        "def beam_search_single(model, indices_source, beam_size, max_length, index_bos, index_eos):\n",
        "  assert indices_source.dim() == 1  # Single sentence\n",
        "  source = indices_source.unsqueeze(0)  # (1, length_source)\n",
        "  mask_source = None\n",
        "  remaining_hypotheses = [[index_bos]]\n",
        "  remaining_scores = torch.zeros(len(remaining_hypotheses), 1).to(source.device)\n",
        "  completed_hypotheses = []\n",
        "\n",
        "  for step in range(max_length - 1):\n",
        "    R = len(remaining_hypotheses)\n",
        "\n",
        "    # Get last predictions: (R, 1) indices\n",
        "    lasts = torch.tensor([hypothesis[-1] for hypothesis in remaining_hypotheses]).unsqueeze(-1).to(source.device)\n",
        "\n",
        "    _, logits, source, mask_source, _, _, _ = model(source, lasts, step=step, mask_source=mask_source)\n",
        "\n",
        "    # Turn logits (R, 1, V) to log probs and create R*V hypotheses.\n",
        "    step_scores = logits.squeeze(1).log_softmax(dim=-1)  # (R, V)\n",
        "    branched_scores = ( remaining_scores.expand_as( step_scores ) + step_scores ).view( -1 )  # TODO: Compute branched scores \n",
        "    assert branched_scores.dim() == 1 and branched_scores.size(0) == R * step_scores.size(1)  # R*V branchs' log probs\n",
        "\n",
        "    # Choose K highest-scoring branches needed to complete search.\n",
        "    K = beam_size - len(completed_hypotheses)\n",
        "    topk_scores, indices_flat = torch.topk(branched_scores, k=K)\n",
        "\n",
        "    # Which previous hypothesis is this branch continuing?\n",
        "    prevs = torch.div(indices_flat, step_scores.size(-1), rounding_mode='floor')  # R*V ints in {0...R-1}\n",
        "\n",
        "    # Which word is this branch outputting?\n",
        "    words = indices_flat % step_scores.size(-1)  # R*V ints in {0...V-1}\n",
        "\n",
        "    incomplete_hypotheses = []\n",
        "    incomplete_scores = []\n",
        "    incomplete_prevs = []\n",
        "\n",
        "    # Backtrack origins of top-k scores to reconstruct new hypotheses.\n",
        "    for prev, word, score in zip(prevs, words, topk_scores):\n",
        "        new_hypothesis = remaining_hypotheses[prev] + [word.item()]\n",
        "        if word.item() == index_eos:\n",
        "            completed_hypotheses.append(Hypothesis(item=new_hypothesis, score=score.item()))\n",
        "        else:\n",
        "            incomplete_hypotheses.append(new_hypothesis)\n",
        "            incomplete_scores.append(score.item())\n",
        "            incomplete_prevs.append(prev)\n",
        "\n",
        "    if len(completed_hypotheses) == beam_size:\n",
        "        break\n",
        "\n",
        "    incomplete_scores = torch.tensor(incomplete_scores).unsqueeze(dim=-1).to(source.device)\n",
        "    incomplete_prevs = torch.tensor(incomplete_prevs).to(source.device)\n",
        "\n",
        "    # Update beam. By design, beam elements sorted in decreasing score.\n",
        "    remaining_hypotheses = incomplete_hypotheses  # K\n",
        "    remaining_scores = incomplete_scores  # (K, 1)\n",
        "\n",
        "    # TODO: Realign decoder's cached states to match new hypotheses. See remap_cache. \n",
        "    model.decoder.remap_cache(incomplete_prevs)\n",
        "\n",
        "    # Source-side realigning is done for you as an example. \n",
        "    source = source.index_select(0, incomplete_prevs)  \n",
        "\n",
        "  # No hypothesis completed given length, will return the top (unfinished).\n",
        "  if len(completed_hypotheses) == 0:\n",
        "    completed_hypotheses.append(Hypothesis(item=remaining_hypotheses[0], score=remaining_scores[0].item()))\n",
        "\n",
        "  # Sort completed hypotheses in decreasing score. \n",
        "  completed_hypotheses.sort(key=lambda h: h.score, reverse=True)\n",
        "\n",
        "  return [h.item for h in completed_hypotheses]\n",
        "\n",
        "\n",
        "def beam_search(model, indices_source, beam_size, max_length, index_bos, index_eos):\n",
        "  best_hypotheses = []\n",
        "  for i in range(indices_source.size(0)):\n",
        "    topk_hypotheses = beam_search_single(model, indices_source[i, :], beam_size, max_length, index_bos, index_eos)\n",
        "    best_hypotheses.append(topk_hypotheses[0])\n",
        "  return best_hypotheses"
      ]
    },
    {
      "cell_type": "code",
      "execution_count": 52,
      "metadata": {
        "colab": {
          "base_uri": "https://localhost:8080/"
        },
        "id": "GfMOD1JJXeVM",
        "outputId": "5561217c-2142-497c-f45b-6b22f92a6022",
        "vscode": {
          "languageId": "python"
        }
      },
      "outputs": [
        {
          "name": "stdout",
          "output_type": "stream",
          "text": [
            "beam_size=1: 64.00\n",
            "beam_size=2: 66.30\n",
            "beam_size=3: 66.20\n",
            "beam_size=4: 66.00\n"
          ]
        }
      ],
      "source": [
        "for beam_size in [1, 2, 3, 4]:\n",
        "  preds_test_beam = beam_search(model, source_test, beam_size, pop.max_length + 1, pop.index_bos, pop.index_eos)\n",
        "  acc_beam = pop.sequence_acc(target_test.tolist(), preds_test_beam)\n",
        "  print('beam_size={:d}: {:5.2f}'.format(beam_size, acc_beam))"
      ]
    },
    {
      "cell_type": "markdown",
      "metadata": {
        "id": "jKZRXmsabttW"
      },
      "source": [
        "TODO: Fill the table below and boldface the best accuracy.\n",
        "\n",
        "| Search Method     | Test Accuracy |\n",
        "| :---:             | :---:         |\n",
        "| Greedy            |     63.70   |\n",
        "| Beam Search (Beam Size 1)   |  64.00    |\n",
        "| Beam Search (Beam Size 2)   |  66.30      |\n",
        "| Beam Search (Beam Size 3)   |   66.20     |\n",
        "| Beam Search (Beam Size 4)   |  66.00      |\n",
        "\n"
      ]
    },
    {
      "cell_type": "markdown",
      "metadata": {
        "id": "CtacaeFvcbRo"
      },
      "source": [
        "Assuming the model is not trained to perfection (i.e., it didn't get enough supervision to simply do greedy decoding and make correct predictions), we should see some improvement as we use beam size $>1$. A bigger beam size doesn't necessarily mean better performance, so it should be a hyperparameter to tune on validation performance. "
      ]
    },
    {
      "cell_type": "markdown",
      "metadata": {
        "id": "gZiumI4bd2C7"
      },
      "source": [
        "# Appendix: Discussions"
      ]
    },
    {
      "cell_type": "markdown",
      "metadata": {
        "id": "X_5Pj_E1jn2j"
      },
      "source": [
        "There are many other details that are beyond the scope of the assignment. You can take a look at serious implementations of the Transformer encoder-decoder model like the [huggingface implementation](https://huggingface.co/transformers/model_doc/bart.html) of [BART](https://arxiv.org/pdf/1910.13461.pdf).\n",
        "\n",
        "Training a real-world MT model follows the same basic principles as in this synthetic setting. Here we discuss a few points not covered in this assignment."
      ]
    },
    {
      "cell_type": "code",
      "execution_count": 53,
      "metadata": {
        "colab": {
          "base_uri": "https://localhost:8080/"
        },
        "id": "7RqSqDR0hkBU",
        "outputId": "0ff26682-ee5b-48f5-a7ca-b9682cbc4641",
        "vscode": {
          "languageId": "python"
        }
      },
      "outputs": [
        {
          "name": "stdout",
          "output_type": "stream",
          "text": [
            "Looking in indexes: https://pypi.org/simple, https://us-python.pkg.dev/colab-wheels/public/simple/\n",
            "Collecting transformers\n",
            "  Downloading transformers-4.27.2-py3-none-any.whl (6.8 MB)\n",
            "\u001b[2K     \u001b[90m━━━━━━━━━━━━━━━━━━━━━━━━━━━━━━━━━━━━━━━━\u001b[0m \u001b[32m6.8/6.8 MB\u001b[0m \u001b[31m86.3 MB/s\u001b[0m eta \u001b[36m0:00:00\u001b[0m\n",
            "\u001b[?25hRequirement already satisfied: pyyaml>=5.1 in /usr/local/lib/python3.9/dist-packages (from transformers) (6.0)\n",
            "Requirement already satisfied: regex!=2019.12.17 in /usr/local/lib/python3.9/dist-packages (from transformers) (2022.10.31)\n",
            "Requirement already satisfied: requests in /usr/local/lib/python3.9/dist-packages (from transformers) (2.27.1)\n",
            "Collecting huggingface-hub<1.0,>=0.11.0\n",
            "  Downloading huggingface_hub-0.13.3-py3-none-any.whl (199 kB)\n",
            "\u001b[2K     \u001b[90m━━━━━━━━━━━━━━━━━━━━━━━━━━━━━━━━━━━━━━\u001b[0m \u001b[32m199.8/199.8 KB\u001b[0m \u001b[31m23.9 MB/s\u001b[0m eta \u001b[36m0:00:00\u001b[0m\n",
            "\u001b[?25hRequirement already satisfied: filelock in /usr/local/lib/python3.9/dist-packages (from transformers) (3.10.0)\n",
            "Requirement already satisfied: packaging>=20.0 in /usr/local/lib/python3.9/dist-packages (from transformers) (23.0)\n",
            "Requirement already satisfied: numpy>=1.17 in /usr/local/lib/python3.9/dist-packages (from transformers) (1.22.4)\n",
            "Collecting tokenizers!=0.11.3,<0.14,>=0.11.1\n",
            "  Downloading tokenizers-0.13.2-cp39-cp39-manylinux_2_17_x86_64.manylinux2014_x86_64.whl (7.6 MB)\n",
            "\u001b[2K     \u001b[90m━━━━━━━━━━━━━━━━━━━━━━━━━━━━━━━━━━━━━━━━\u001b[0m \u001b[32m7.6/7.6 MB\u001b[0m \u001b[31m99.8 MB/s\u001b[0m eta \u001b[36m0:00:00\u001b[0m\n",
            "\u001b[?25hRequirement already satisfied: tqdm>=4.27 in /usr/local/lib/python3.9/dist-packages (from transformers) (4.65.0)\n",
            "Requirement already satisfied: typing-extensions>=3.7.4.3 in /usr/local/lib/python3.9/dist-packages (from huggingface-hub<1.0,>=0.11.0->transformers) (4.5.0)\n",
            "Requirement already satisfied: urllib3<1.27,>=1.21.1 in /usr/local/lib/python3.9/dist-packages (from requests->transformers) (1.26.15)\n",
            "Requirement already satisfied: charset-normalizer~=2.0.0 in /usr/local/lib/python3.9/dist-packages (from requests->transformers) (2.0.12)\n",
            "Requirement already satisfied: idna<4,>=2.5 in /usr/local/lib/python3.9/dist-packages (from requests->transformers) (3.4)\n",
            "Requirement already satisfied: certifi>=2017.4.17 in /usr/local/lib/python3.9/dist-packages (from requests->transformers) (2022.12.7)\n",
            "Installing collected packages: tokenizers, huggingface-hub, transformers\n",
            "Successfully installed huggingface-hub-0.13.3 tokenizers-0.13.2 transformers-4.27.2\n",
            "Looking in indexes: https://pypi.org/simple, https://us-python.pkg.dev/colab-wheels/public/simple/\n",
            "Collecting sacrebleu\n",
            "  Downloading sacrebleu-2.3.1-py3-none-any.whl (118 kB)\n",
            "\u001b[2K     \u001b[90m━━━━━━━━━━━━━━━━━━━━━━━━━━━━━━━━━━━━━━━\u001b[0m \u001b[32m118.9/118.9 KB\u001b[0m \u001b[31m8.3 MB/s\u001b[0m eta \u001b[36m0:00:00\u001b[0m\n",
            "\u001b[?25hRequirement already satisfied: lxml in /usr/local/lib/python3.9/dist-packages (from sacrebleu) (4.9.2)\n",
            "Collecting portalocker\n",
            "  Downloading portalocker-2.7.0-py2.py3-none-any.whl (15 kB)\n",
            "Collecting colorama\n",
            "  Downloading colorama-0.4.6-py2.py3-none-any.whl (25 kB)\n",
            "Requirement already satisfied: tabulate>=0.8.9 in /usr/local/lib/python3.9/dist-packages (from sacrebleu) (0.8.10)\n",
            "Requirement already satisfied: regex in /usr/local/lib/python3.9/dist-packages (from sacrebleu) (2022.10.31)\n",
            "Requirement already satisfied: numpy>=1.17 in /usr/local/lib/python3.9/dist-packages (from sacrebleu) (1.22.4)\n",
            "Installing collected packages: portalocker, colorama, sacrebleu\n",
            "Successfully installed colorama-0.4.6 portalocker-2.7.0 sacrebleu-2.3.1\n"
          ]
        }
      ],
      "source": [
        "!pip install transformers\n",
        "!pip install sacrebleu\n",
        "import sacrebleu\n",
        "from transformers import BartTokenizer"
      ]
    },
    {
      "cell_type": "markdown",
      "metadata": {
        "id": "LQA0cW0od8Qw"
      },
      "source": [
        "**BPE tokenization**: It's become standard to use a pretrained BPE tokenizer (e.g., see [here](https://huggingface.co/transformers/tokenizer_summary.html)) to have language agnostic tokens. It already contains special symbols for padding, BOS, EOS. This way the embedding matrix can be shared between source and target languages. \n",
        "\n"
      ]
    },
    {
      "cell_type": "code",
      "execution_count": 54,
      "metadata": {
        "colab": {
          "base_uri": "https://localhost:8080/",
          "height": 396,
          "referenced_widgets": [
            "ebc9873f4f2849dfa94a4e49e01ef3d8",
            "0ce94ecf1a3047bba8a71e9c88007c91",
            "73220fe59e904a148b741b49d1fa03c2",
            "8370ac0f78b64e5aa36b0ff836c9f384",
            "f58584d41cf3463796aaadb2351f95ef",
            "fc604cafa2be48c092705f7abf29892b",
            "8607fe032f884853b0fdeeb295a5449e",
            "4f68ebb45bb64abbbc53c716cb91be64",
            "07fdd61e2b13480a8be77b7d82114524",
            "ba49009ab85e49f4bf54fc2e606335af",
            "c8ff465ed5d644faa971e341082aa16b",
            "7f09889174484970b17c73596f98465b",
            "85bd3314cd63498ca62f9779dc721b20",
            "0b8292671b224084aabc0c453251524c",
            "9fde155390ad4d5d9931a08398c789b4",
            "bce8cb434f1b493d82c4c2d14d4d22e5",
            "1436fddc7bb948c2ade0093fad3fedcf",
            "fca0c400e7d642edb97530be82ffc23d",
            "698ef3f2c9fb43ed9a4cdef8baa28476",
            "4f6a2a467d5b4493b4e77ec019c447d9",
            "19882dd95d7042978acedd8a51bf8ff9",
            "be1b24efb39a4d2b89a07d3f53648f77",
            "40fd75ec1cd147ed9015419a6fbe0915",
            "8cf24d2f10ed41e1ac847f8d3635a0d7",
            "48aabad47bb945a19e3b8a34ec1b3407",
            "8e7d24bff6f8493194dcabe80d057951",
            "c4fa389bba8e40d4aa4064335c96f401",
            "4cf7571c44f842348654a19d7b4417c4",
            "c206ab5365b14eb1b16f8971f0d96972",
            "6deada2656cf43ed91f838767921f75f",
            "d8f376fe1e2e4a408b9f38f26bbf1c22",
            "b48b25f681a6498d953f2f2ebedc972b",
            "4e70a70ba55148669d316ad0e33955fa",
            "1054ed026f4047368bbede9dbe06b7f6",
            "e8b6dae8dce5438f99e4ac0218d3bb97",
            "936a914f3cc2465d83860287c8d4c915",
            "88103254f4a34622ac2c80ff7c9c0c0b",
            "e18a0b078db045caa4613cf4ab9b0449",
            "92f07b010f374662b4c9b05598e2aa47",
            "981fd9f67144425c9289191a51a16ec7",
            "258562279f64413d82168df73200f68b",
            "c17aecbdb872426d91ffbda27bc10c86",
            "2b46508a73bb465a88fb68921d3e8d98",
            "f5e774586a19459e8de1b1eda7b1db58"
          ]
        },
        "id": "ve95Ri38eucc",
        "outputId": "d4d3ebd5-9e4e-4b78-8fe1-c80f9524d157",
        "vscode": {
          "languageId": "python"
        }
      },
      "outputs": [
        {
          "data": {
            "application/vnd.jupyter.widget-view+json": {
              "model_id": "ebc9873f4f2849dfa94a4e49e01ef3d8",
              "version_major": 2,
              "version_minor": 0
            },
            "text/plain": [
              "Downloading (…)olve/main/vocab.json:   0%|          | 0.00/899k [00:00<?, ?B/s]"
            ]
          },
          "metadata": {},
          "output_type": "display_data"
        },
        {
          "data": {
            "application/vnd.jupyter.widget-view+json": {
              "model_id": "7f09889174484970b17c73596f98465b",
              "version_major": 2,
              "version_minor": 0
            },
            "text/plain": [
              "Downloading (…)olve/main/merges.txt:   0%|          | 0.00/456k [00:00<?, ?B/s]"
            ]
          },
          "metadata": {},
          "output_type": "display_data"
        },
        {
          "data": {
            "application/vnd.jupyter.widget-view+json": {
              "model_id": "40fd75ec1cd147ed9015419a6fbe0915",
              "version_major": 2,
              "version_minor": 0
            },
            "text/plain": [
              "Downloading (…)okenizer_config.json:   0%|          | 0.00/26.0 [00:00<?, ?B/s]"
            ]
          },
          "metadata": {},
          "output_type": "display_data"
        },
        {
          "data": {
            "application/vnd.jupyter.widget-view+json": {
              "model_id": "1054ed026f4047368bbede9dbe06b7f6",
              "version_major": 2,
              "version_minor": 0
            },
            "text/plain": [
              "Downloading (…)lve/main/config.json:   0%|          | 0.00/1.63k [00:00<?, ?B/s]"
            ]
          },
          "metadata": {},
          "output_type": "display_data"
        },
        {
          "name": "stdout",
          "output_type": "stream",
          "text": [
            "Vocab size 50265\n",
            "PAD index 1\n",
            "BOS index 0\n",
            "EOS index 2\n",
            "sent Naked I came from my morther's womb\n",
            "tokenized ['N', 'aked', 'ĠI', 'Ġcame', 'Ġfrom', 'Ġmy', 'Ġmort', 'her', \"'s\", 'Ġwomb']\n",
            "tokenized (with BOS/EOS), indexed, truncated [0, 487, 8435, 2]\n"
          ]
        }
      ],
      "source": [
        "tokenizer = BartTokenizer.from_pretrained('facebook/bart-large')\n",
        "print('Vocab size', tokenizer.vocab_size)\n",
        "print('PAD index', tokenizer.pad_token_id)\n",
        "print('BOS index', tokenizer.bos_token_id)\n",
        "print('EOS index', tokenizer.eos_token_id)\n",
        "\n",
        "sent = \"Naked I came from my morther's womb\"\n",
        "print('sent', sent)\n",
        "print('tokenized', tokenizer.tokenize(sent))\n",
        "print('tokenized (with BOS/EOS), indexed, truncated', tokenizer(sent, truncation=True, max_length=4, return_attention_mask=False)['input_ids'])\n"
      ]
    },
    {
      "cell_type": "markdown",
      "metadata": {
        "id": "2jpK62aUfG8d"
      },
      "source": [
        "**Batching and multi-GPU training**: Batching is extremely important for efficient training. Because (target) sequences can have wildly different lengths, naive batching can be inefficient (imagine padding a batch with one sequence of length 1000 and other sequences of length 2). One can consider \"bucket sampling\", where we first sort (target) sequences in length and then create batches to contain sequences of similar length (then randomize the order of those batches). Training must be done in large scale in which there are tens or hundreds of thousands, or even millions, of token predictions per batch. This requires a multi-GPU implementation. This is now pretty easy to do with libraries like PyTorch (see [data parallel](https://pytorch.org/docs/stable/generated/torch.nn.DataParallel.html) and [distributed data parallel](https://pytorch.org/tutorials/intermediate/ddp_tutorial.html))."
      ]
    },
    {
      "cell_type": "markdown",
      "metadata": {
        "id": "7ezSJz5lgK0j"
      },
      "source": [
        "**BLEU**: We can use convenient libraries like [sacrebleu](https://github.com/mjpost/sacrebleu) to compute the BLEU score correctly. "
      ]
    },
    {
      "cell_type": "code",
      "execution_count": 55,
      "metadata": {
        "colab": {
          "base_uri": "https://localhost:8080/"
        },
        "id": "NrYFG3iSXx89",
        "outputId": "c5ab69ef-06c7-42fe-e576-b414f954e099",
        "vscode": {
          "languageId": "python"
        }
      },
      "outputs": [
        {
          "name": "stdout",
          "output_type": "stream",
          "text": [
            "48.53\n"
          ]
        }
      ],
      "source": [
        "hyps = ['The dog bit the man.', \"It wasn't surprising.\", 'The man had just bitten him.']\n",
        "refs = [['The dog bit the man.', 'It was not unexpected.', 'The man bit him first.'],\n",
        "        ['The dog had bit the man.', 'No one was surprised.', 'The man had bitten the dog.']]\n",
        "bleu = sacrebleu.corpus_bleu(hyps, refs).score\n",
        "print('{:5.2f}'.format(bleu))"
      ]
    },
    {
      "cell_type": "markdown",
      "metadata": {
        "id": "BeTsZz35jko1"
      },
      "source": [
        "**System combination**. It is well known that we can usually gain significant improvement simply by combining differently trained systems. \n",
        "\n",
        "In a *single-model* combination, we can average the last few checkpoints of model parameters in training (e.g., the transformer paper averages the last 5 checkpoints for small models and 20 checkpoints for big models).\n",
        "\n",
        "In a *multi-model* combination, we can train $k$ different models separately, possibly using different portions of data (i.e., bagging), and average prediction probabilities. Note that this requires $k$ times more memory and computation at test time. "
      ]
    }
  ],
  "metadata": {
    "accelerator": "GPU",
    "colab": {
      "provenance": []
    },
    "kernelspec": {
      "display_name": "Python 3",
      "name": "python3"
    },
    "widgets": {
      "application/vnd.jupyter.widget-state+json": {
        "07fdd61e2b13480a8be77b7d82114524": {
          "model_module": "@jupyter-widgets/controls",
          "model_module_version": "1.5.0",
          "model_name": "ProgressStyleModel",
          "state": {
            "_model_module": "@jupyter-widgets/controls",
            "_model_module_version": "1.5.0",
            "_model_name": "ProgressStyleModel",
            "_view_count": null,
            "_view_module": "@jupyter-widgets/base",
            "_view_module_version": "1.2.0",
            "_view_name": "StyleView",
            "bar_color": null,
            "description_width": ""
          }
        },
        "0b8292671b224084aabc0c453251524c": {
          "model_module": "@jupyter-widgets/controls",
          "model_module_version": "1.5.0",
          "model_name": "FloatProgressModel",
          "state": {
            "_dom_classes": [],
            "_model_module": "@jupyter-widgets/controls",
            "_model_module_version": "1.5.0",
            "_model_name": "FloatProgressModel",
            "_view_count": null,
            "_view_module": "@jupyter-widgets/controls",
            "_view_module_version": "1.5.0",
            "_view_name": "ProgressView",
            "bar_style": "success",
            "description": "",
            "description_tooltip": null,
            "layout": "IPY_MODEL_698ef3f2c9fb43ed9a4cdef8baa28476",
            "max": 456318,
            "min": 0,
            "orientation": "horizontal",
            "style": "IPY_MODEL_4f6a2a467d5b4493b4e77ec019c447d9",
            "value": 456318
          }
        },
        "0ce94ecf1a3047bba8a71e9c88007c91": {
          "model_module": "@jupyter-widgets/controls",
          "model_module_version": "1.5.0",
          "model_name": "HTMLModel",
          "state": {
            "_dom_classes": [],
            "_model_module": "@jupyter-widgets/controls",
            "_model_module_version": "1.5.0",
            "_model_name": "HTMLModel",
            "_view_count": null,
            "_view_module": "@jupyter-widgets/controls",
            "_view_module_version": "1.5.0",
            "_view_name": "HTMLView",
            "description": "",
            "description_tooltip": null,
            "layout": "IPY_MODEL_fc604cafa2be48c092705f7abf29892b",
            "placeholder": "​",
            "style": "IPY_MODEL_8607fe032f884853b0fdeeb295a5449e",
            "value": "Downloading (…)olve/main/vocab.json: 100%"
          }
        },
        "1054ed026f4047368bbede9dbe06b7f6": {
          "model_module": "@jupyter-widgets/controls",
          "model_module_version": "1.5.0",
          "model_name": "HBoxModel",
          "state": {
            "_dom_classes": [],
            "_model_module": "@jupyter-widgets/controls",
            "_model_module_version": "1.5.0",
            "_model_name": "HBoxModel",
            "_view_count": null,
            "_view_module": "@jupyter-widgets/controls",
            "_view_module_version": "1.5.0",
            "_view_name": "HBoxView",
            "box_style": "",
            "children": [
              "IPY_MODEL_e8b6dae8dce5438f99e4ac0218d3bb97",
              "IPY_MODEL_936a914f3cc2465d83860287c8d4c915",
              "IPY_MODEL_88103254f4a34622ac2c80ff7c9c0c0b"
            ],
            "layout": "IPY_MODEL_e18a0b078db045caa4613cf4ab9b0449"
          }
        },
        "1436fddc7bb948c2ade0093fad3fedcf": {
          "model_module": "@jupyter-widgets/base",
          "model_module_version": "1.2.0",
          "model_name": "LayoutModel",
          "state": {
            "_model_module": "@jupyter-widgets/base",
            "_model_module_version": "1.2.0",
            "_model_name": "LayoutModel",
            "_view_count": null,
            "_view_module": "@jupyter-widgets/base",
            "_view_module_version": "1.2.0",
            "_view_name": "LayoutView",
            "align_content": null,
            "align_items": null,
            "align_self": null,
            "border": null,
            "bottom": null,
            "display": null,
            "flex": null,
            "flex_flow": null,
            "grid_area": null,
            "grid_auto_columns": null,
            "grid_auto_flow": null,
            "grid_auto_rows": null,
            "grid_column": null,
            "grid_gap": null,
            "grid_row": null,
            "grid_template_areas": null,
            "grid_template_columns": null,
            "grid_template_rows": null,
            "height": null,
            "justify_content": null,
            "justify_items": null,
            "left": null,
            "margin": null,
            "max_height": null,
            "max_width": null,
            "min_height": null,
            "min_width": null,
            "object_fit": null,
            "object_position": null,
            "order": null,
            "overflow": null,
            "overflow_x": null,
            "overflow_y": null,
            "padding": null,
            "right": null,
            "top": null,
            "visibility": null,
            "width": null
          }
        },
        "19882dd95d7042978acedd8a51bf8ff9": {
          "model_module": "@jupyter-widgets/base",
          "model_module_version": "1.2.0",
          "model_name": "LayoutModel",
          "state": {
            "_model_module": "@jupyter-widgets/base",
            "_model_module_version": "1.2.0",
            "_model_name": "LayoutModel",
            "_view_count": null,
            "_view_module": "@jupyter-widgets/base",
            "_view_module_version": "1.2.0",
            "_view_name": "LayoutView",
            "align_content": null,
            "align_items": null,
            "align_self": null,
            "border": null,
            "bottom": null,
            "display": null,
            "flex": null,
            "flex_flow": null,
            "grid_area": null,
            "grid_auto_columns": null,
            "grid_auto_flow": null,
            "grid_auto_rows": null,
            "grid_column": null,
            "grid_gap": null,
            "grid_row": null,
            "grid_template_areas": null,
            "grid_template_columns": null,
            "grid_template_rows": null,
            "height": null,
            "justify_content": null,
            "justify_items": null,
            "left": null,
            "margin": null,
            "max_height": null,
            "max_width": null,
            "min_height": null,
            "min_width": null,
            "object_fit": null,
            "object_position": null,
            "order": null,
            "overflow": null,
            "overflow_x": null,
            "overflow_y": null,
            "padding": null,
            "right": null,
            "top": null,
            "visibility": null,
            "width": null
          }
        },
        "258562279f64413d82168df73200f68b": {
          "model_module": "@jupyter-widgets/base",
          "model_module_version": "1.2.0",
          "model_name": "LayoutModel",
          "state": {
            "_model_module": "@jupyter-widgets/base",
            "_model_module_version": "1.2.0",
            "_model_name": "LayoutModel",
            "_view_count": null,
            "_view_module": "@jupyter-widgets/base",
            "_view_module_version": "1.2.0",
            "_view_name": "LayoutView",
            "align_content": null,
            "align_items": null,
            "align_self": null,
            "border": null,
            "bottom": null,
            "display": null,
            "flex": null,
            "flex_flow": null,
            "grid_area": null,
            "grid_auto_columns": null,
            "grid_auto_flow": null,
            "grid_auto_rows": null,
            "grid_column": null,
            "grid_gap": null,
            "grid_row": null,
            "grid_template_areas": null,
            "grid_template_columns": null,
            "grid_template_rows": null,
            "height": null,
            "justify_content": null,
            "justify_items": null,
            "left": null,
            "margin": null,
            "max_height": null,
            "max_width": null,
            "min_height": null,
            "min_width": null,
            "object_fit": null,
            "object_position": null,
            "order": null,
            "overflow": null,
            "overflow_x": null,
            "overflow_y": null,
            "padding": null,
            "right": null,
            "top": null,
            "visibility": null,
            "width": null
          }
        },
        "2b46508a73bb465a88fb68921d3e8d98": {
          "model_module": "@jupyter-widgets/base",
          "model_module_version": "1.2.0",
          "model_name": "LayoutModel",
          "state": {
            "_model_module": "@jupyter-widgets/base",
            "_model_module_version": "1.2.0",
            "_model_name": "LayoutModel",
            "_view_count": null,
            "_view_module": "@jupyter-widgets/base",
            "_view_module_version": "1.2.0",
            "_view_name": "LayoutView",
            "align_content": null,
            "align_items": null,
            "align_self": null,
            "border": null,
            "bottom": null,
            "display": null,
            "flex": null,
            "flex_flow": null,
            "grid_area": null,
            "grid_auto_columns": null,
            "grid_auto_flow": null,
            "grid_auto_rows": null,
            "grid_column": null,
            "grid_gap": null,
            "grid_row": null,
            "grid_template_areas": null,
            "grid_template_columns": null,
            "grid_template_rows": null,
            "height": null,
            "justify_content": null,
            "justify_items": null,
            "left": null,
            "margin": null,
            "max_height": null,
            "max_width": null,
            "min_height": null,
            "min_width": null,
            "object_fit": null,
            "object_position": null,
            "order": null,
            "overflow": null,
            "overflow_x": null,
            "overflow_y": null,
            "padding": null,
            "right": null,
            "top": null,
            "visibility": null,
            "width": null
          }
        },
        "40fd75ec1cd147ed9015419a6fbe0915": {
          "model_module": "@jupyter-widgets/controls",
          "model_module_version": "1.5.0",
          "model_name": "HBoxModel",
          "state": {
            "_dom_classes": [],
            "_model_module": "@jupyter-widgets/controls",
            "_model_module_version": "1.5.0",
            "_model_name": "HBoxModel",
            "_view_count": null,
            "_view_module": "@jupyter-widgets/controls",
            "_view_module_version": "1.5.0",
            "_view_name": "HBoxView",
            "box_style": "",
            "children": [
              "IPY_MODEL_8cf24d2f10ed41e1ac847f8d3635a0d7",
              "IPY_MODEL_48aabad47bb945a19e3b8a34ec1b3407",
              "IPY_MODEL_8e7d24bff6f8493194dcabe80d057951"
            ],
            "layout": "IPY_MODEL_c4fa389bba8e40d4aa4064335c96f401"
          }
        },
        "48aabad47bb945a19e3b8a34ec1b3407": {
          "model_module": "@jupyter-widgets/controls",
          "model_module_version": "1.5.0",
          "model_name": "FloatProgressModel",
          "state": {
            "_dom_classes": [],
            "_model_module": "@jupyter-widgets/controls",
            "_model_module_version": "1.5.0",
            "_model_name": "FloatProgressModel",
            "_view_count": null,
            "_view_module": "@jupyter-widgets/controls",
            "_view_module_version": "1.5.0",
            "_view_name": "ProgressView",
            "bar_style": "success",
            "description": "",
            "description_tooltip": null,
            "layout": "IPY_MODEL_6deada2656cf43ed91f838767921f75f",
            "max": 26,
            "min": 0,
            "orientation": "horizontal",
            "style": "IPY_MODEL_d8f376fe1e2e4a408b9f38f26bbf1c22",
            "value": 26
          }
        },
        "4cf7571c44f842348654a19d7b4417c4": {
          "model_module": "@jupyter-widgets/base",
          "model_module_version": "1.2.0",
          "model_name": "LayoutModel",
          "state": {
            "_model_module": "@jupyter-widgets/base",
            "_model_module_version": "1.2.0",
            "_model_name": "LayoutModel",
            "_view_count": null,
            "_view_module": "@jupyter-widgets/base",
            "_view_module_version": "1.2.0",
            "_view_name": "LayoutView",
            "align_content": null,
            "align_items": null,
            "align_self": null,
            "border": null,
            "bottom": null,
            "display": null,
            "flex": null,
            "flex_flow": null,
            "grid_area": null,
            "grid_auto_columns": null,
            "grid_auto_flow": null,
            "grid_auto_rows": null,
            "grid_column": null,
            "grid_gap": null,
            "grid_row": null,
            "grid_template_areas": null,
            "grid_template_columns": null,
            "grid_template_rows": null,
            "height": null,
            "justify_content": null,
            "justify_items": null,
            "left": null,
            "margin": null,
            "max_height": null,
            "max_width": null,
            "min_height": null,
            "min_width": null,
            "object_fit": null,
            "object_position": null,
            "order": null,
            "overflow": null,
            "overflow_x": null,
            "overflow_y": null,
            "padding": null,
            "right": null,
            "top": null,
            "visibility": null,
            "width": null
          }
        },
        "4e70a70ba55148669d316ad0e33955fa": {
          "model_module": "@jupyter-widgets/controls",
          "model_module_version": "1.5.0",
          "model_name": "DescriptionStyleModel",
          "state": {
            "_model_module": "@jupyter-widgets/controls",
            "_model_module_version": "1.5.0",
            "_model_name": "DescriptionStyleModel",
            "_view_count": null,
            "_view_module": "@jupyter-widgets/base",
            "_view_module_version": "1.2.0",
            "_view_name": "StyleView",
            "description_width": ""
          }
        },
        "4f68ebb45bb64abbbc53c716cb91be64": {
          "model_module": "@jupyter-widgets/base",
          "model_module_version": "1.2.0",
          "model_name": "LayoutModel",
          "state": {
            "_model_module": "@jupyter-widgets/base",
            "_model_module_version": "1.2.0",
            "_model_name": "LayoutModel",
            "_view_count": null,
            "_view_module": "@jupyter-widgets/base",
            "_view_module_version": "1.2.0",
            "_view_name": "LayoutView",
            "align_content": null,
            "align_items": null,
            "align_self": null,
            "border": null,
            "bottom": null,
            "display": null,
            "flex": null,
            "flex_flow": null,
            "grid_area": null,
            "grid_auto_columns": null,
            "grid_auto_flow": null,
            "grid_auto_rows": null,
            "grid_column": null,
            "grid_gap": null,
            "grid_row": null,
            "grid_template_areas": null,
            "grid_template_columns": null,
            "grid_template_rows": null,
            "height": null,
            "justify_content": null,
            "justify_items": null,
            "left": null,
            "margin": null,
            "max_height": null,
            "max_width": null,
            "min_height": null,
            "min_width": null,
            "object_fit": null,
            "object_position": null,
            "order": null,
            "overflow": null,
            "overflow_x": null,
            "overflow_y": null,
            "padding": null,
            "right": null,
            "top": null,
            "visibility": null,
            "width": null
          }
        },
        "4f6a2a467d5b4493b4e77ec019c447d9": {
          "model_module": "@jupyter-widgets/controls",
          "model_module_version": "1.5.0",
          "model_name": "ProgressStyleModel",
          "state": {
            "_model_module": "@jupyter-widgets/controls",
            "_model_module_version": "1.5.0",
            "_model_name": "ProgressStyleModel",
            "_view_count": null,
            "_view_module": "@jupyter-widgets/base",
            "_view_module_version": "1.2.0",
            "_view_name": "StyleView",
            "bar_color": null,
            "description_width": ""
          }
        },
        "698ef3f2c9fb43ed9a4cdef8baa28476": {
          "model_module": "@jupyter-widgets/base",
          "model_module_version": "1.2.0",
          "model_name": "LayoutModel",
          "state": {
            "_model_module": "@jupyter-widgets/base",
            "_model_module_version": "1.2.0",
            "_model_name": "LayoutModel",
            "_view_count": null,
            "_view_module": "@jupyter-widgets/base",
            "_view_module_version": "1.2.0",
            "_view_name": "LayoutView",
            "align_content": null,
            "align_items": null,
            "align_self": null,
            "border": null,
            "bottom": null,
            "display": null,
            "flex": null,
            "flex_flow": null,
            "grid_area": null,
            "grid_auto_columns": null,
            "grid_auto_flow": null,
            "grid_auto_rows": null,
            "grid_column": null,
            "grid_gap": null,
            "grid_row": null,
            "grid_template_areas": null,
            "grid_template_columns": null,
            "grid_template_rows": null,
            "height": null,
            "justify_content": null,
            "justify_items": null,
            "left": null,
            "margin": null,
            "max_height": null,
            "max_width": null,
            "min_height": null,
            "min_width": null,
            "object_fit": null,
            "object_position": null,
            "order": null,
            "overflow": null,
            "overflow_x": null,
            "overflow_y": null,
            "padding": null,
            "right": null,
            "top": null,
            "visibility": null,
            "width": null
          }
        },
        "6deada2656cf43ed91f838767921f75f": {
          "model_module": "@jupyter-widgets/base",
          "model_module_version": "1.2.0",
          "model_name": "LayoutModel",
          "state": {
            "_model_module": "@jupyter-widgets/base",
            "_model_module_version": "1.2.0",
            "_model_name": "LayoutModel",
            "_view_count": null,
            "_view_module": "@jupyter-widgets/base",
            "_view_module_version": "1.2.0",
            "_view_name": "LayoutView",
            "align_content": null,
            "align_items": null,
            "align_self": null,
            "border": null,
            "bottom": null,
            "display": null,
            "flex": null,
            "flex_flow": null,
            "grid_area": null,
            "grid_auto_columns": null,
            "grid_auto_flow": null,
            "grid_auto_rows": null,
            "grid_column": null,
            "grid_gap": null,
            "grid_row": null,
            "grid_template_areas": null,
            "grid_template_columns": null,
            "grid_template_rows": null,
            "height": null,
            "justify_content": null,
            "justify_items": null,
            "left": null,
            "margin": null,
            "max_height": null,
            "max_width": null,
            "min_height": null,
            "min_width": null,
            "object_fit": null,
            "object_position": null,
            "order": null,
            "overflow": null,
            "overflow_x": null,
            "overflow_y": null,
            "padding": null,
            "right": null,
            "top": null,
            "visibility": null,
            "width": null
          }
        },
        "73220fe59e904a148b741b49d1fa03c2": {
          "model_module": "@jupyter-widgets/controls",
          "model_module_version": "1.5.0",
          "model_name": "FloatProgressModel",
          "state": {
            "_dom_classes": [],
            "_model_module": "@jupyter-widgets/controls",
            "_model_module_version": "1.5.0",
            "_model_name": "FloatProgressModel",
            "_view_count": null,
            "_view_module": "@jupyter-widgets/controls",
            "_view_module_version": "1.5.0",
            "_view_name": "ProgressView",
            "bar_style": "success",
            "description": "",
            "description_tooltip": null,
            "layout": "IPY_MODEL_4f68ebb45bb64abbbc53c716cb91be64",
            "max": 898822,
            "min": 0,
            "orientation": "horizontal",
            "style": "IPY_MODEL_07fdd61e2b13480a8be77b7d82114524",
            "value": 898822
          }
        },
        "7f09889174484970b17c73596f98465b": {
          "model_module": "@jupyter-widgets/controls",
          "model_module_version": "1.5.0",
          "model_name": "HBoxModel",
          "state": {
            "_dom_classes": [],
            "_model_module": "@jupyter-widgets/controls",
            "_model_module_version": "1.5.0",
            "_model_name": "HBoxModel",
            "_view_count": null,
            "_view_module": "@jupyter-widgets/controls",
            "_view_module_version": "1.5.0",
            "_view_name": "HBoxView",
            "box_style": "",
            "children": [
              "IPY_MODEL_85bd3314cd63498ca62f9779dc721b20",
              "IPY_MODEL_0b8292671b224084aabc0c453251524c",
              "IPY_MODEL_9fde155390ad4d5d9931a08398c789b4"
            ],
            "layout": "IPY_MODEL_bce8cb434f1b493d82c4c2d14d4d22e5"
          }
        },
        "8370ac0f78b64e5aa36b0ff836c9f384": {
          "model_module": "@jupyter-widgets/controls",
          "model_module_version": "1.5.0",
          "model_name": "HTMLModel",
          "state": {
            "_dom_classes": [],
            "_model_module": "@jupyter-widgets/controls",
            "_model_module_version": "1.5.0",
            "_model_name": "HTMLModel",
            "_view_count": null,
            "_view_module": "@jupyter-widgets/controls",
            "_view_module_version": "1.5.0",
            "_view_name": "HTMLView",
            "description": "",
            "description_tooltip": null,
            "layout": "IPY_MODEL_ba49009ab85e49f4bf54fc2e606335af",
            "placeholder": "​",
            "style": "IPY_MODEL_c8ff465ed5d644faa971e341082aa16b",
            "value": " 899k/899k [00:01&lt;00:00, 761kB/s]"
          }
        },
        "85bd3314cd63498ca62f9779dc721b20": {
          "model_module": "@jupyter-widgets/controls",
          "model_module_version": "1.5.0",
          "model_name": "HTMLModel",
          "state": {
            "_dom_classes": [],
            "_model_module": "@jupyter-widgets/controls",
            "_model_module_version": "1.5.0",
            "_model_name": "HTMLModel",
            "_view_count": null,
            "_view_module": "@jupyter-widgets/controls",
            "_view_module_version": "1.5.0",
            "_view_name": "HTMLView",
            "description": "",
            "description_tooltip": null,
            "layout": "IPY_MODEL_1436fddc7bb948c2ade0093fad3fedcf",
            "placeholder": "​",
            "style": "IPY_MODEL_fca0c400e7d642edb97530be82ffc23d",
            "value": "Downloading (…)olve/main/merges.txt: 100%"
          }
        },
        "8607fe032f884853b0fdeeb295a5449e": {
          "model_module": "@jupyter-widgets/controls",
          "model_module_version": "1.5.0",
          "model_name": "DescriptionStyleModel",
          "state": {
            "_model_module": "@jupyter-widgets/controls",
            "_model_module_version": "1.5.0",
            "_model_name": "DescriptionStyleModel",
            "_view_count": null,
            "_view_module": "@jupyter-widgets/base",
            "_view_module_version": "1.2.0",
            "_view_name": "StyleView",
            "description_width": ""
          }
        },
        "88103254f4a34622ac2c80ff7c9c0c0b": {
          "model_module": "@jupyter-widgets/controls",
          "model_module_version": "1.5.0",
          "model_name": "HTMLModel",
          "state": {
            "_dom_classes": [],
            "_model_module": "@jupyter-widgets/controls",
            "_model_module_version": "1.5.0",
            "_model_name": "HTMLModel",
            "_view_count": null,
            "_view_module": "@jupyter-widgets/controls",
            "_view_module_version": "1.5.0",
            "_view_name": "HTMLView",
            "description": "",
            "description_tooltip": null,
            "layout": "IPY_MODEL_2b46508a73bb465a88fb68921d3e8d98",
            "placeholder": "​",
            "style": "IPY_MODEL_f5e774586a19459e8de1b1eda7b1db58",
            "value": " 1.63k/1.63k [00:00&lt;00:00, 98.3kB/s]"
          }
        },
        "8cf24d2f10ed41e1ac847f8d3635a0d7": {
          "model_module": "@jupyter-widgets/controls",
          "model_module_version": "1.5.0",
          "model_name": "HTMLModel",
          "state": {
            "_dom_classes": [],
            "_model_module": "@jupyter-widgets/controls",
            "_model_module_version": "1.5.0",
            "_model_name": "HTMLModel",
            "_view_count": null,
            "_view_module": "@jupyter-widgets/controls",
            "_view_module_version": "1.5.0",
            "_view_name": "HTMLView",
            "description": "",
            "description_tooltip": null,
            "layout": "IPY_MODEL_4cf7571c44f842348654a19d7b4417c4",
            "placeholder": "​",
            "style": "IPY_MODEL_c206ab5365b14eb1b16f8971f0d96972",
            "value": "Downloading (…)okenizer_config.json: 100%"
          }
        },
        "8e7d24bff6f8493194dcabe80d057951": {
          "model_module": "@jupyter-widgets/controls",
          "model_module_version": "1.5.0",
          "model_name": "HTMLModel",
          "state": {
            "_dom_classes": [],
            "_model_module": "@jupyter-widgets/controls",
            "_model_module_version": "1.5.0",
            "_model_name": "HTMLModel",
            "_view_count": null,
            "_view_module": "@jupyter-widgets/controls",
            "_view_module_version": "1.5.0",
            "_view_name": "HTMLView",
            "description": "",
            "description_tooltip": null,
            "layout": "IPY_MODEL_b48b25f681a6498d953f2f2ebedc972b",
            "placeholder": "​",
            "style": "IPY_MODEL_4e70a70ba55148669d316ad0e33955fa",
            "value": " 26.0/26.0 [00:00&lt;00:00, 1.64kB/s]"
          }
        },
        "92f07b010f374662b4c9b05598e2aa47": {
          "model_module": "@jupyter-widgets/base",
          "model_module_version": "1.2.0",
          "model_name": "LayoutModel",
          "state": {
            "_model_module": "@jupyter-widgets/base",
            "_model_module_version": "1.2.0",
            "_model_name": "LayoutModel",
            "_view_count": null,
            "_view_module": "@jupyter-widgets/base",
            "_view_module_version": "1.2.0",
            "_view_name": "LayoutView",
            "align_content": null,
            "align_items": null,
            "align_self": null,
            "border": null,
            "bottom": null,
            "display": null,
            "flex": null,
            "flex_flow": null,
            "grid_area": null,
            "grid_auto_columns": null,
            "grid_auto_flow": null,
            "grid_auto_rows": null,
            "grid_column": null,
            "grid_gap": null,
            "grid_row": null,
            "grid_template_areas": null,
            "grid_template_columns": null,
            "grid_template_rows": null,
            "height": null,
            "justify_content": null,
            "justify_items": null,
            "left": null,
            "margin": null,
            "max_height": null,
            "max_width": null,
            "min_height": null,
            "min_width": null,
            "object_fit": null,
            "object_position": null,
            "order": null,
            "overflow": null,
            "overflow_x": null,
            "overflow_y": null,
            "padding": null,
            "right": null,
            "top": null,
            "visibility": null,
            "width": null
          }
        },
        "936a914f3cc2465d83860287c8d4c915": {
          "model_module": "@jupyter-widgets/controls",
          "model_module_version": "1.5.0",
          "model_name": "FloatProgressModel",
          "state": {
            "_dom_classes": [],
            "_model_module": "@jupyter-widgets/controls",
            "_model_module_version": "1.5.0",
            "_model_name": "FloatProgressModel",
            "_view_count": null,
            "_view_module": "@jupyter-widgets/controls",
            "_view_module_version": "1.5.0",
            "_view_name": "ProgressView",
            "bar_style": "success",
            "description": "",
            "description_tooltip": null,
            "layout": "IPY_MODEL_258562279f64413d82168df73200f68b",
            "max": 1628,
            "min": 0,
            "orientation": "horizontal",
            "style": "IPY_MODEL_c17aecbdb872426d91ffbda27bc10c86",
            "value": 1628
          }
        },
        "981fd9f67144425c9289191a51a16ec7": {
          "model_module": "@jupyter-widgets/controls",
          "model_module_version": "1.5.0",
          "model_name": "DescriptionStyleModel",
          "state": {
            "_model_module": "@jupyter-widgets/controls",
            "_model_module_version": "1.5.0",
            "_model_name": "DescriptionStyleModel",
            "_view_count": null,
            "_view_module": "@jupyter-widgets/base",
            "_view_module_version": "1.2.0",
            "_view_name": "StyleView",
            "description_width": ""
          }
        },
        "9fde155390ad4d5d9931a08398c789b4": {
          "model_module": "@jupyter-widgets/controls",
          "model_module_version": "1.5.0",
          "model_name": "HTMLModel",
          "state": {
            "_dom_classes": [],
            "_model_module": "@jupyter-widgets/controls",
            "_model_module_version": "1.5.0",
            "_model_name": "HTMLModel",
            "_view_count": null,
            "_view_module": "@jupyter-widgets/controls",
            "_view_module_version": "1.5.0",
            "_view_name": "HTMLView",
            "description": "",
            "description_tooltip": null,
            "layout": "IPY_MODEL_19882dd95d7042978acedd8a51bf8ff9",
            "placeholder": "​",
            "style": "IPY_MODEL_be1b24efb39a4d2b89a07d3f53648f77",
            "value": " 456k/456k [00:00&lt;00:00, 479kB/s]"
          }
        },
        "b48b25f681a6498d953f2f2ebedc972b": {
          "model_module": "@jupyter-widgets/base",
          "model_module_version": "1.2.0",
          "model_name": "LayoutModel",
          "state": {
            "_model_module": "@jupyter-widgets/base",
            "_model_module_version": "1.2.0",
            "_model_name": "LayoutModel",
            "_view_count": null,
            "_view_module": "@jupyter-widgets/base",
            "_view_module_version": "1.2.0",
            "_view_name": "LayoutView",
            "align_content": null,
            "align_items": null,
            "align_self": null,
            "border": null,
            "bottom": null,
            "display": null,
            "flex": null,
            "flex_flow": null,
            "grid_area": null,
            "grid_auto_columns": null,
            "grid_auto_flow": null,
            "grid_auto_rows": null,
            "grid_column": null,
            "grid_gap": null,
            "grid_row": null,
            "grid_template_areas": null,
            "grid_template_columns": null,
            "grid_template_rows": null,
            "height": null,
            "justify_content": null,
            "justify_items": null,
            "left": null,
            "margin": null,
            "max_height": null,
            "max_width": null,
            "min_height": null,
            "min_width": null,
            "object_fit": null,
            "object_position": null,
            "order": null,
            "overflow": null,
            "overflow_x": null,
            "overflow_y": null,
            "padding": null,
            "right": null,
            "top": null,
            "visibility": null,
            "width": null
          }
        },
        "ba49009ab85e49f4bf54fc2e606335af": {
          "model_module": "@jupyter-widgets/base",
          "model_module_version": "1.2.0",
          "model_name": "LayoutModel",
          "state": {
            "_model_module": "@jupyter-widgets/base",
            "_model_module_version": "1.2.0",
            "_model_name": "LayoutModel",
            "_view_count": null,
            "_view_module": "@jupyter-widgets/base",
            "_view_module_version": "1.2.0",
            "_view_name": "LayoutView",
            "align_content": null,
            "align_items": null,
            "align_self": null,
            "border": null,
            "bottom": null,
            "display": null,
            "flex": null,
            "flex_flow": null,
            "grid_area": null,
            "grid_auto_columns": null,
            "grid_auto_flow": null,
            "grid_auto_rows": null,
            "grid_column": null,
            "grid_gap": null,
            "grid_row": null,
            "grid_template_areas": null,
            "grid_template_columns": null,
            "grid_template_rows": null,
            "height": null,
            "justify_content": null,
            "justify_items": null,
            "left": null,
            "margin": null,
            "max_height": null,
            "max_width": null,
            "min_height": null,
            "min_width": null,
            "object_fit": null,
            "object_position": null,
            "order": null,
            "overflow": null,
            "overflow_x": null,
            "overflow_y": null,
            "padding": null,
            "right": null,
            "top": null,
            "visibility": null,
            "width": null
          }
        },
        "bce8cb434f1b493d82c4c2d14d4d22e5": {
          "model_module": "@jupyter-widgets/base",
          "model_module_version": "1.2.0",
          "model_name": "LayoutModel",
          "state": {
            "_model_module": "@jupyter-widgets/base",
            "_model_module_version": "1.2.0",
            "_model_name": "LayoutModel",
            "_view_count": null,
            "_view_module": "@jupyter-widgets/base",
            "_view_module_version": "1.2.0",
            "_view_name": "LayoutView",
            "align_content": null,
            "align_items": null,
            "align_self": null,
            "border": null,
            "bottom": null,
            "display": null,
            "flex": null,
            "flex_flow": null,
            "grid_area": null,
            "grid_auto_columns": null,
            "grid_auto_flow": null,
            "grid_auto_rows": null,
            "grid_column": null,
            "grid_gap": null,
            "grid_row": null,
            "grid_template_areas": null,
            "grid_template_columns": null,
            "grid_template_rows": null,
            "height": null,
            "justify_content": null,
            "justify_items": null,
            "left": null,
            "margin": null,
            "max_height": null,
            "max_width": null,
            "min_height": null,
            "min_width": null,
            "object_fit": null,
            "object_position": null,
            "order": null,
            "overflow": null,
            "overflow_x": null,
            "overflow_y": null,
            "padding": null,
            "right": null,
            "top": null,
            "visibility": null,
            "width": null
          }
        },
        "be1b24efb39a4d2b89a07d3f53648f77": {
          "model_module": "@jupyter-widgets/controls",
          "model_module_version": "1.5.0",
          "model_name": "DescriptionStyleModel",
          "state": {
            "_model_module": "@jupyter-widgets/controls",
            "_model_module_version": "1.5.0",
            "_model_name": "DescriptionStyleModel",
            "_view_count": null,
            "_view_module": "@jupyter-widgets/base",
            "_view_module_version": "1.2.0",
            "_view_name": "StyleView",
            "description_width": ""
          }
        },
        "c17aecbdb872426d91ffbda27bc10c86": {
          "model_module": "@jupyter-widgets/controls",
          "model_module_version": "1.5.0",
          "model_name": "ProgressStyleModel",
          "state": {
            "_model_module": "@jupyter-widgets/controls",
            "_model_module_version": "1.5.0",
            "_model_name": "ProgressStyleModel",
            "_view_count": null,
            "_view_module": "@jupyter-widgets/base",
            "_view_module_version": "1.2.0",
            "_view_name": "StyleView",
            "bar_color": null,
            "description_width": ""
          }
        },
        "c206ab5365b14eb1b16f8971f0d96972": {
          "model_module": "@jupyter-widgets/controls",
          "model_module_version": "1.5.0",
          "model_name": "DescriptionStyleModel",
          "state": {
            "_model_module": "@jupyter-widgets/controls",
            "_model_module_version": "1.5.0",
            "_model_name": "DescriptionStyleModel",
            "_view_count": null,
            "_view_module": "@jupyter-widgets/base",
            "_view_module_version": "1.2.0",
            "_view_name": "StyleView",
            "description_width": ""
          }
        },
        "c4fa389bba8e40d4aa4064335c96f401": {
          "model_module": "@jupyter-widgets/base",
          "model_module_version": "1.2.0",
          "model_name": "LayoutModel",
          "state": {
            "_model_module": "@jupyter-widgets/base",
            "_model_module_version": "1.2.0",
            "_model_name": "LayoutModel",
            "_view_count": null,
            "_view_module": "@jupyter-widgets/base",
            "_view_module_version": "1.2.0",
            "_view_name": "LayoutView",
            "align_content": null,
            "align_items": null,
            "align_self": null,
            "border": null,
            "bottom": null,
            "display": null,
            "flex": null,
            "flex_flow": null,
            "grid_area": null,
            "grid_auto_columns": null,
            "grid_auto_flow": null,
            "grid_auto_rows": null,
            "grid_column": null,
            "grid_gap": null,
            "grid_row": null,
            "grid_template_areas": null,
            "grid_template_columns": null,
            "grid_template_rows": null,
            "height": null,
            "justify_content": null,
            "justify_items": null,
            "left": null,
            "margin": null,
            "max_height": null,
            "max_width": null,
            "min_height": null,
            "min_width": null,
            "object_fit": null,
            "object_position": null,
            "order": null,
            "overflow": null,
            "overflow_x": null,
            "overflow_y": null,
            "padding": null,
            "right": null,
            "top": null,
            "visibility": null,
            "width": null
          }
        },
        "c8ff465ed5d644faa971e341082aa16b": {
          "model_module": "@jupyter-widgets/controls",
          "model_module_version": "1.5.0",
          "model_name": "DescriptionStyleModel",
          "state": {
            "_model_module": "@jupyter-widgets/controls",
            "_model_module_version": "1.5.0",
            "_model_name": "DescriptionStyleModel",
            "_view_count": null,
            "_view_module": "@jupyter-widgets/base",
            "_view_module_version": "1.2.0",
            "_view_name": "StyleView",
            "description_width": ""
          }
        },
        "d8f376fe1e2e4a408b9f38f26bbf1c22": {
          "model_module": "@jupyter-widgets/controls",
          "model_module_version": "1.5.0",
          "model_name": "ProgressStyleModel",
          "state": {
            "_model_module": "@jupyter-widgets/controls",
            "_model_module_version": "1.5.0",
            "_model_name": "ProgressStyleModel",
            "_view_count": null,
            "_view_module": "@jupyter-widgets/base",
            "_view_module_version": "1.2.0",
            "_view_name": "StyleView",
            "bar_color": null,
            "description_width": ""
          }
        },
        "e18a0b078db045caa4613cf4ab9b0449": {
          "model_module": "@jupyter-widgets/base",
          "model_module_version": "1.2.0",
          "model_name": "LayoutModel",
          "state": {
            "_model_module": "@jupyter-widgets/base",
            "_model_module_version": "1.2.0",
            "_model_name": "LayoutModel",
            "_view_count": null,
            "_view_module": "@jupyter-widgets/base",
            "_view_module_version": "1.2.0",
            "_view_name": "LayoutView",
            "align_content": null,
            "align_items": null,
            "align_self": null,
            "border": null,
            "bottom": null,
            "display": null,
            "flex": null,
            "flex_flow": null,
            "grid_area": null,
            "grid_auto_columns": null,
            "grid_auto_flow": null,
            "grid_auto_rows": null,
            "grid_column": null,
            "grid_gap": null,
            "grid_row": null,
            "grid_template_areas": null,
            "grid_template_columns": null,
            "grid_template_rows": null,
            "height": null,
            "justify_content": null,
            "justify_items": null,
            "left": null,
            "margin": null,
            "max_height": null,
            "max_width": null,
            "min_height": null,
            "min_width": null,
            "object_fit": null,
            "object_position": null,
            "order": null,
            "overflow": null,
            "overflow_x": null,
            "overflow_y": null,
            "padding": null,
            "right": null,
            "top": null,
            "visibility": null,
            "width": null
          }
        },
        "e8b6dae8dce5438f99e4ac0218d3bb97": {
          "model_module": "@jupyter-widgets/controls",
          "model_module_version": "1.5.0",
          "model_name": "HTMLModel",
          "state": {
            "_dom_classes": [],
            "_model_module": "@jupyter-widgets/controls",
            "_model_module_version": "1.5.0",
            "_model_name": "HTMLModel",
            "_view_count": null,
            "_view_module": "@jupyter-widgets/controls",
            "_view_module_version": "1.5.0",
            "_view_name": "HTMLView",
            "description": "",
            "description_tooltip": null,
            "layout": "IPY_MODEL_92f07b010f374662b4c9b05598e2aa47",
            "placeholder": "​",
            "style": "IPY_MODEL_981fd9f67144425c9289191a51a16ec7",
            "value": "Downloading (…)lve/main/config.json: 100%"
          }
        },
        "ebc9873f4f2849dfa94a4e49e01ef3d8": {
          "model_module": "@jupyter-widgets/controls",
          "model_module_version": "1.5.0",
          "model_name": "HBoxModel",
          "state": {
            "_dom_classes": [],
            "_model_module": "@jupyter-widgets/controls",
            "_model_module_version": "1.5.0",
            "_model_name": "HBoxModel",
            "_view_count": null,
            "_view_module": "@jupyter-widgets/controls",
            "_view_module_version": "1.5.0",
            "_view_name": "HBoxView",
            "box_style": "",
            "children": [
              "IPY_MODEL_0ce94ecf1a3047bba8a71e9c88007c91",
              "IPY_MODEL_73220fe59e904a148b741b49d1fa03c2",
              "IPY_MODEL_8370ac0f78b64e5aa36b0ff836c9f384"
            ],
            "layout": "IPY_MODEL_f58584d41cf3463796aaadb2351f95ef"
          }
        },
        "f58584d41cf3463796aaadb2351f95ef": {
          "model_module": "@jupyter-widgets/base",
          "model_module_version": "1.2.0",
          "model_name": "LayoutModel",
          "state": {
            "_model_module": "@jupyter-widgets/base",
            "_model_module_version": "1.2.0",
            "_model_name": "LayoutModel",
            "_view_count": null,
            "_view_module": "@jupyter-widgets/base",
            "_view_module_version": "1.2.0",
            "_view_name": "LayoutView",
            "align_content": null,
            "align_items": null,
            "align_self": null,
            "border": null,
            "bottom": null,
            "display": null,
            "flex": null,
            "flex_flow": null,
            "grid_area": null,
            "grid_auto_columns": null,
            "grid_auto_flow": null,
            "grid_auto_rows": null,
            "grid_column": null,
            "grid_gap": null,
            "grid_row": null,
            "grid_template_areas": null,
            "grid_template_columns": null,
            "grid_template_rows": null,
            "height": null,
            "justify_content": null,
            "justify_items": null,
            "left": null,
            "margin": null,
            "max_height": null,
            "max_width": null,
            "min_height": null,
            "min_width": null,
            "object_fit": null,
            "object_position": null,
            "order": null,
            "overflow": null,
            "overflow_x": null,
            "overflow_y": null,
            "padding": null,
            "right": null,
            "top": null,
            "visibility": null,
            "width": null
          }
        },
        "f5e774586a19459e8de1b1eda7b1db58": {
          "model_module": "@jupyter-widgets/controls",
          "model_module_version": "1.5.0",
          "model_name": "DescriptionStyleModel",
          "state": {
            "_model_module": "@jupyter-widgets/controls",
            "_model_module_version": "1.5.0",
            "_model_name": "DescriptionStyleModel",
            "_view_count": null,
            "_view_module": "@jupyter-widgets/base",
            "_view_module_version": "1.2.0",
            "_view_name": "StyleView",
            "description_width": ""
          }
        },
        "fc604cafa2be48c092705f7abf29892b": {
          "model_module": "@jupyter-widgets/base",
          "model_module_version": "1.2.0",
          "model_name": "LayoutModel",
          "state": {
            "_model_module": "@jupyter-widgets/base",
            "_model_module_version": "1.2.0",
            "_model_name": "LayoutModel",
            "_view_count": null,
            "_view_module": "@jupyter-widgets/base",
            "_view_module_version": "1.2.0",
            "_view_name": "LayoutView",
            "align_content": null,
            "align_items": null,
            "align_self": null,
            "border": null,
            "bottom": null,
            "display": null,
            "flex": null,
            "flex_flow": null,
            "grid_area": null,
            "grid_auto_columns": null,
            "grid_auto_flow": null,
            "grid_auto_rows": null,
            "grid_column": null,
            "grid_gap": null,
            "grid_row": null,
            "grid_template_areas": null,
            "grid_template_columns": null,
            "grid_template_rows": null,
            "height": null,
            "justify_content": null,
            "justify_items": null,
            "left": null,
            "margin": null,
            "max_height": null,
            "max_width": null,
            "min_height": null,
            "min_width": null,
            "object_fit": null,
            "object_position": null,
            "order": null,
            "overflow": null,
            "overflow_x": null,
            "overflow_y": null,
            "padding": null,
            "right": null,
            "top": null,
            "visibility": null,
            "width": null
          }
        },
        "fca0c400e7d642edb97530be82ffc23d": {
          "model_module": "@jupyter-widgets/controls",
          "model_module_version": "1.5.0",
          "model_name": "DescriptionStyleModel",
          "state": {
            "_model_module": "@jupyter-widgets/controls",
            "_model_module_version": "1.5.0",
            "_model_name": "DescriptionStyleModel",
            "_view_count": null,
            "_view_module": "@jupyter-widgets/base",
            "_view_module_version": "1.2.0",
            "_view_name": "StyleView",
            "description_width": ""
          }
        }
      }
    }
  },
  "nbformat": 4,
  "nbformat_minor": 0
}
